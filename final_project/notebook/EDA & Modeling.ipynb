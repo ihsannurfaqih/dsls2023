{
 "cells": [
  {
   "cell_type": "markdown",
   "metadata": {},
   "source": [
    "# Import Package"
   ]
  },
  {
   "cell_type": "code",
   "execution_count": 1,
   "metadata": {},
   "outputs": [],
   "source": [
    "import pandas as pd\n",
    "import numpy as np\n",
    "import statsmodels.api as sm\n",
    "import seaborn as sns\n",
    "import matplotlib.pyplot as plt\n",
    "from sklearn.metrics import (\n",
    "      mean_absolute_error,\n",
    "      mean_squared_error,\n",
    "      r2_score\n",
    ")"
   ]
  },
  {
   "attachments": {},
   "cell_type": "markdown",
   "metadata": {},
   "source": [
    "# Import Dataset"
   ]
  },
  {
   "cell_type": "code",
   "execution_count": 2,
   "metadata": {},
   "outputs": [
    {
     "data": {
      "text/html": [
       "<div>\n",
       "<style scoped>\n",
       "    .dataframe tbody tr th:only-of-type {\n",
       "        vertical-align: middle;\n",
       "    }\n",
       "\n",
       "    .dataframe tbody tr th {\n",
       "        vertical-align: top;\n",
       "    }\n",
       "\n",
       "    .dataframe thead th {\n",
       "        text-align: right;\n",
       "    }\n",
       "</style>\n",
       "<table border=\"1\" class=\"dataframe\">\n",
       "  <thead>\n",
       "    <tr style=\"text-align: right;\">\n",
       "      <th></th>\n",
       "      <th>CODE_UNIT</th>\n",
       "      <th>DATE</th>\n",
       "      <th>AMOUNT</th>\n",
       "      <th>HM_CALC</th>\n",
       "      <th>CONSUMPTION</th>\n",
       "      <th>HM_HRS</th>\n",
       "      <th>PRODUCTION_OB</th>\n",
       "      <th>CONSUMPTION_CALC</th>\n",
       "      <th>CONSUMPTION_HRS</th>\n",
       "    </tr>\n",
       "  </thead>\n",
       "  <tbody>\n",
       "    <tr>\n",
       "      <th>1381</th>\n",
       "      <td>EX44</td>\n",
       "      <td>2022-10-14</td>\n",
       "      <td>858.0</td>\n",
       "      <td>9.0</td>\n",
       "      <td>215.642857</td>\n",
       "      <td>NaN</td>\n",
       "      <td>5375.0</td>\n",
       "      <td>95.333333</td>\n",
       "      <td>NaN</td>\n",
       "    </tr>\n",
       "    <tr>\n",
       "      <th>1025</th>\n",
       "      <td>EX43</td>\n",
       "      <td>2022-10-23</td>\n",
       "      <td>2003.0</td>\n",
       "      <td>21.0</td>\n",
       "      <td>82.627273</td>\n",
       "      <td>18.0</td>\n",
       "      <td>8101.0</td>\n",
       "      <td>95.380952</td>\n",
       "      <td>111.277778</td>\n",
       "    </tr>\n",
       "    <tr>\n",
       "      <th>129</th>\n",
       "      <td>EX41</td>\n",
       "      <td>2022-05-10</td>\n",
       "      <td>2204.0</td>\n",
       "      <td>21.0</td>\n",
       "      <td>106.972727</td>\n",
       "      <td>NaN</td>\n",
       "      <td>NaN</td>\n",
       "      <td>104.952381</td>\n",
       "      <td>NaN</td>\n",
       "    </tr>\n",
       "    <tr>\n",
       "      <th>52</th>\n",
       "      <td>EX41</td>\n",
       "      <td>2022-02-22</td>\n",
       "      <td>1387.0</td>\n",
       "      <td>16.0</td>\n",
       "      <td>108.783333</td>\n",
       "      <td>10.0</td>\n",
       "      <td>4620.0</td>\n",
       "      <td>86.687500</td>\n",
       "      <td>138.700000</td>\n",
       "    </tr>\n",
       "    <tr>\n",
       "      <th>111</th>\n",
       "      <td>EX41</td>\n",
       "      <td>2022-04-22</td>\n",
       "      <td>0.0</td>\n",
       "      <td>0.0</td>\n",
       "      <td>NaN</td>\n",
       "      <td>17.0</td>\n",
       "      <td>8177.0</td>\n",
       "      <td>NaN</td>\n",
       "      <td>0.000000</td>\n",
       "    </tr>\n",
       "  </tbody>\n",
       "</table>\n",
       "</div>"
      ],
      "text/plain": [
       "     CODE_UNIT        DATE  AMOUNT  HM_CALC  CONSUMPTION  HM_HRS  \\\n",
       "1381      EX44  2022-10-14   858.0      9.0   215.642857     NaN   \n",
       "1025      EX43  2022-10-23  2003.0     21.0    82.627273    18.0   \n",
       "129       EX41  2022-05-10  2204.0     21.0   106.972727     NaN   \n",
       "52        EX41  2022-02-22  1387.0     16.0   108.783333    10.0   \n",
       "111       EX41  2022-04-22     0.0      0.0          NaN    17.0   \n",
       "\n",
       "      PRODUCTION_OB  CONSUMPTION_CALC  CONSUMPTION_HRS  \n",
       "1381         5375.0         95.333333              NaN  \n",
       "1025         8101.0         95.380952       111.277778  \n",
       "129             NaN        104.952381              NaN  \n",
       "52           4620.0         86.687500       138.700000  \n",
       "111          8177.0               NaN         0.000000  "
      ]
     },
     "execution_count": 2,
     "metadata": {},
     "output_type": "execute_result"
    }
   ],
   "source": [
    "df = pd.read_csv(\"../data/processed/datamart_final.csv\")\n",
    "\n",
    "df.sample(5)"
   ]
  },
  {
   "cell_type": "code",
   "execution_count": 3,
   "metadata": {},
   "outputs": [],
   "source": [
    "df.drop('CONSUMPTION', axis = 1, inplace=True)"
   ]
  },
  {
   "cell_type": "code",
   "execution_count": 4,
   "metadata": {},
   "outputs": [
    {
     "name": "stdout",
     "output_type": "stream",
     "text": [
      "<class 'pandas.core.frame.DataFrame'>\n",
      "RangeIndex: 1460 entries, 0 to 1459\n",
      "Data columns (total 8 columns):\n",
      " #   Column            Non-Null Count  Dtype  \n",
      "---  ------            --------------  -----  \n",
      " 0   CODE_UNIT         1460 non-null   object \n",
      " 1   DATE              1460 non-null   object \n",
      " 2   AMOUNT            1460 non-null   float64\n",
      " 3   HM_CALC           1460 non-null   float64\n",
      " 4   HM_HRS            624 non-null    float64\n",
      " 5   PRODUCTION_OB     1354 non-null   float64\n",
      " 6   CONSUMPTION_CALC  1396 non-null   float64\n",
      " 7   CONSUMPTION_HRS   623 non-null    float64\n",
      "dtypes: float64(6), object(2)\n",
      "memory usage: 91.4+ KB\n"
     ]
    }
   ],
   "source": [
    "df.info()"
   ]
  },
  {
   "cell_type": "code",
   "execution_count": 5,
   "metadata": {},
   "outputs": [
    {
     "data": {
      "text/html": [
       "<div>\n",
       "<style scoped>\n",
       "    .dataframe tbody tr th:only-of-type {\n",
       "        vertical-align: middle;\n",
       "    }\n",
       "\n",
       "    .dataframe tbody tr th {\n",
       "        vertical-align: top;\n",
       "    }\n",
       "\n",
       "    .dataframe thead th {\n",
       "        text-align: right;\n",
       "    }\n",
       "</style>\n",
       "<table border=\"1\" class=\"dataframe\">\n",
       "  <thead>\n",
       "    <tr style=\"text-align: right;\">\n",
       "      <th></th>\n",
       "      <th>CODE_UNIT</th>\n",
       "      <th>DATE</th>\n",
       "      <th>AMOUNT</th>\n",
       "      <th>HM_CALC</th>\n",
       "      <th>HM_HRS</th>\n",
       "      <th>PRODUCTION_OB</th>\n",
       "      <th>CONSUMPTION_CALC</th>\n",
       "      <th>CONSUMPTION_HRS</th>\n",
       "    </tr>\n",
       "  </thead>\n",
       "  <tbody>\n",
       "    <tr>\n",
       "      <th>592</th>\n",
       "      <td>EX42</td>\n",
       "      <td>2022-08-16</td>\n",
       "      <td>2575.0</td>\n",
       "      <td>20.0</td>\n",
       "      <td>NaN</td>\n",
       "      <td>4859.0</td>\n",
       "      <td>128.750000</td>\n",
       "      <td>NaN</td>\n",
       "    </tr>\n",
       "    <tr>\n",
       "      <th>10</th>\n",
       "      <td>EX41</td>\n",
       "      <td>2022-01-11</td>\n",
       "      <td>1645.0</td>\n",
       "      <td>7.0</td>\n",
       "      <td>21.0</td>\n",
       "      <td>11520.0</td>\n",
       "      <td>235.000000</td>\n",
       "      <td>78.333333</td>\n",
       "    </tr>\n",
       "    <tr>\n",
       "      <th>1420</th>\n",
       "      <td>EX44</td>\n",
       "      <td>2022-11-22</td>\n",
       "      <td>2199.0</td>\n",
       "      <td>20.0</td>\n",
       "      <td>NaN</td>\n",
       "      <td>10664.0</td>\n",
       "      <td>109.950000</td>\n",
       "      <td>NaN</td>\n",
       "    </tr>\n",
       "    <tr>\n",
       "      <th>1102</th>\n",
       "      <td>EX44</td>\n",
       "      <td>2022-01-08</td>\n",
       "      <td>1550.0</td>\n",
       "      <td>21.0</td>\n",
       "      <td>NaN</td>\n",
       "      <td>7869.0</td>\n",
       "      <td>73.809524</td>\n",
       "      <td>NaN</td>\n",
       "    </tr>\n",
       "    <tr>\n",
       "      <th>1130</th>\n",
       "      <td>EX44</td>\n",
       "      <td>2022-02-05</td>\n",
       "      <td>1005.0</td>\n",
       "      <td>18.0</td>\n",
       "      <td>NaN</td>\n",
       "      <td>5246.0</td>\n",
       "      <td>55.833333</td>\n",
       "      <td>NaN</td>\n",
       "    </tr>\n",
       "    <tr>\n",
       "      <th>515</th>\n",
       "      <td>EX42</td>\n",
       "      <td>2022-05-31</td>\n",
       "      <td>954.0</td>\n",
       "      <td>6.0</td>\n",
       "      <td>NaN</td>\n",
       "      <td>10492.0</td>\n",
       "      <td>159.000000</td>\n",
       "      <td>NaN</td>\n",
       "    </tr>\n",
       "    <tr>\n",
       "      <th>142</th>\n",
       "      <td>EX41</td>\n",
       "      <td>2022-05-23</td>\n",
       "      <td>1714.0</td>\n",
       "      <td>17.0</td>\n",
       "      <td>NaN</td>\n",
       "      <td>NaN</td>\n",
       "      <td>100.823529</td>\n",
       "      <td>NaN</td>\n",
       "    </tr>\n",
       "    <tr>\n",
       "      <th>714</th>\n",
       "      <td>EX42</td>\n",
       "      <td>2022-12-16</td>\n",
       "      <td>1021.0</td>\n",
       "      <td>189.0</td>\n",
       "      <td>NaN</td>\n",
       "      <td>7138.0</td>\n",
       "      <td>5.402116</td>\n",
       "      <td>NaN</td>\n",
       "    </tr>\n",
       "    <tr>\n",
       "      <th>83</th>\n",
       "      <td>EX41</td>\n",
       "      <td>2022-03-25</td>\n",
       "      <td>2028.0</td>\n",
       "      <td>20.0</td>\n",
       "      <td>20.0</td>\n",
       "      <td>10120.0</td>\n",
       "      <td>101.400000</td>\n",
       "      <td>101.400000</td>\n",
       "    </tr>\n",
       "    <tr>\n",
       "      <th>1005</th>\n",
       "      <td>EX43</td>\n",
       "      <td>2022-10-03</td>\n",
       "      <td>1633.0</td>\n",
       "      <td>17.0</td>\n",
       "      <td>0.0</td>\n",
       "      <td>0.0</td>\n",
       "      <td>96.058824</td>\n",
       "      <td>inf</td>\n",
       "    </tr>\n",
       "  </tbody>\n",
       "</table>\n",
       "</div>"
      ],
      "text/plain": [
       "     CODE_UNIT        DATE  AMOUNT  HM_CALC  HM_HRS  PRODUCTION_OB  \\\n",
       "592       EX42  2022-08-16  2575.0     20.0     NaN         4859.0   \n",
       "10        EX41  2022-01-11  1645.0      7.0    21.0        11520.0   \n",
       "1420      EX44  2022-11-22  2199.0     20.0     NaN        10664.0   \n",
       "1102      EX44  2022-01-08  1550.0     21.0     NaN         7869.0   \n",
       "1130      EX44  2022-02-05  1005.0     18.0     NaN         5246.0   \n",
       "515       EX42  2022-05-31   954.0      6.0     NaN        10492.0   \n",
       "142       EX41  2022-05-23  1714.0     17.0     NaN            NaN   \n",
       "714       EX42  2022-12-16  1021.0    189.0     NaN         7138.0   \n",
       "83        EX41  2022-03-25  2028.0     20.0    20.0        10120.0   \n",
       "1005      EX43  2022-10-03  1633.0     17.0     0.0            0.0   \n",
       "\n",
       "      CONSUMPTION_CALC  CONSUMPTION_HRS  \n",
       "592         128.750000              NaN  \n",
       "10          235.000000        78.333333  \n",
       "1420        109.950000              NaN  \n",
       "1102         73.809524              NaN  \n",
       "1130         55.833333              NaN  \n",
       "515         159.000000              NaN  \n",
       "142         100.823529              NaN  \n",
       "714           5.402116              NaN  \n",
       "83          101.400000       101.400000  \n",
       "1005         96.058824              inf  "
      ]
     },
     "execution_count": 5,
     "metadata": {},
     "output_type": "execute_result"
    }
   ],
   "source": [
    "df.sample(10)"
   ]
  },
  {
   "attachments": {},
   "cell_type": "markdown",
   "metadata": {},
   "source": [
    "**Data Dictionary**\n",
    "\n",
    "- CODE_UNIT : Code Unit Excavator\n",
    "- DATE : Tanggal pencatatan\n",
    "- Amount : Jumlah Bahan Bakar digunakan\n",
    "- HM_Calc : Perhitungan HM berdasarkan versi kelompok 6\n",
    "- Consumption : Konsumsi bahan \n",
    "- HM_HRS : HM berdasarkan data produksi HRS\n",
    "- Production_OB : Jumlah produksi overburder berdasarkan data HRS dan perhitungan ritase (ritase x 43)\n",
    "- Consumption_Calc : Konsumsi bahan bakar per jam (Amount/HM_Calc)\n",
    "- Consumption_HRS : Konsumsi bahan bakar per jam berdasarkan HM HRS (Amount/HM_HRS)"
   ]
  },
  {
   "cell_type": "markdown",
   "metadata": {},
   "source": [
    "# Exploratory Data Analysis"
   ]
  },
  {
   "attachments": {},
   "cell_type": "markdown",
   "metadata": {},
   "source": [
    "## Check null value"
   ]
  },
  {
   "cell_type": "code",
   "execution_count": 6,
   "metadata": {},
   "outputs": [
    {
     "data": {
      "text/plain": [
       "CODE_UNIT             0\n",
       "DATE                  0\n",
       "AMOUNT                0\n",
       "HM_CALC               0\n",
       "HM_HRS              836\n",
       "PRODUCTION_OB       106\n",
       "CONSUMPTION_CALC     64\n",
       "CONSUMPTION_HRS     837\n",
       "dtype: int64"
      ]
     },
     "execution_count": 6,
     "metadata": {},
     "output_type": "execute_result"
    }
   ],
   "source": [
    "df.isna().sum()"
   ]
  },
  {
   "attachments": {},
   "cell_type": "markdown",
   "metadata": {},
   "source": [
    "**Note**\n",
    "\n",
    "- Null pada HM_HRS disebabkan data yang tersedia hanya untuk 2 excavator (EX41 dan EX43)\n",
    "- Data PRODUCTION_OB didasarkan pada data production yang diberikan dari HRS (EX41 dan 43) dan juga hasil perkalian ritase x43 (berdasarkan data ritase EX42 dan EX44)\n",
    "- Production_OB tidak ditemukan berarti tidak ada padanan data produksi berdasar data HRS pada tanggal tersebut\n",
    "- Ketika data amount tersedia namun data production tidak tersedia maka akan dilakukan drop, sementara null pada HRS tidak akan di drop"
   ]
  },
  {
   "cell_type": "code",
   "execution_count": 7,
   "metadata": {},
   "outputs": [],
   "source": [
    "df = df[df['PRODUCTION_OB'].notna()]"
   ]
  },
  {
   "cell_type": "code",
   "execution_count": 8,
   "metadata": {},
   "outputs": [
    {
     "data": {
      "text/html": [
       "<div>\n",
       "<style scoped>\n",
       "    .dataframe tbody tr th:only-of-type {\n",
       "        vertical-align: middle;\n",
       "    }\n",
       "\n",
       "    .dataframe tbody tr th {\n",
       "        vertical-align: top;\n",
       "    }\n",
       "\n",
       "    .dataframe thead th {\n",
       "        text-align: right;\n",
       "    }\n",
       "</style>\n",
       "<table border=\"1\" class=\"dataframe\">\n",
       "  <thead>\n",
       "    <tr style=\"text-align: right;\">\n",
       "      <th></th>\n",
       "      <th>CODE_UNIT</th>\n",
       "      <th>DATE</th>\n",
       "      <th>AMOUNT</th>\n",
       "      <th>HM_CALC</th>\n",
       "      <th>HM_HRS</th>\n",
       "      <th>PRODUCTION_OB</th>\n",
       "      <th>CONSUMPTION_CALC</th>\n",
       "      <th>CONSUMPTION_HRS</th>\n",
       "    </tr>\n",
       "  </thead>\n",
       "  <tbody>\n",
       "    <tr>\n",
       "      <th>1</th>\n",
       "      <td>EX41</td>\n",
       "      <td>2022-01-02</td>\n",
       "      <td>2362.0</td>\n",
       "      <td>11.0</td>\n",
       "      <td>20.0</td>\n",
       "      <td>10350.0</td>\n",
       "      <td>214.727273</td>\n",
       "      <td>118.100000</td>\n",
       "    </tr>\n",
       "    <tr>\n",
       "      <th>2</th>\n",
       "      <td>EX41</td>\n",
       "      <td>2022-01-03</td>\n",
       "      <td>1961.0</td>\n",
       "      <td>20.0</td>\n",
       "      <td>22.0</td>\n",
       "      <td>11565.0</td>\n",
       "      <td>98.050000</td>\n",
       "      <td>89.136364</td>\n",
       "    </tr>\n",
       "    <tr>\n",
       "      <th>3</th>\n",
       "      <td>EX41</td>\n",
       "      <td>2022-01-04</td>\n",
       "      <td>1950.0</td>\n",
       "      <td>23.0</td>\n",
       "      <td>14.0</td>\n",
       "      <td>6750.0</td>\n",
       "      <td>84.782609</td>\n",
       "      <td>139.285714</td>\n",
       "    </tr>\n",
       "    <tr>\n",
       "      <th>4</th>\n",
       "      <td>EX41</td>\n",
       "      <td>2022-01-05</td>\n",
       "      <td>1744.0</td>\n",
       "      <td>17.0</td>\n",
       "      <td>21.0</td>\n",
       "      <td>11475.0</td>\n",
       "      <td>102.588235</td>\n",
       "      <td>83.047619</td>\n",
       "    </tr>\n",
       "    <tr>\n",
       "      <th>5</th>\n",
       "      <td>EX41</td>\n",
       "      <td>2022-01-06</td>\n",
       "      <td>1060.0</td>\n",
       "      <td>23.0</td>\n",
       "      <td>13.0</td>\n",
       "      <td>6255.0</td>\n",
       "      <td>46.086957</td>\n",
       "      <td>81.538462</td>\n",
       "    </tr>\n",
       "    <tr>\n",
       "      <th>...</th>\n",
       "      <td>...</td>\n",
       "      <td>...</td>\n",
       "      <td>...</td>\n",
       "      <td>...</td>\n",
       "      <td>...</td>\n",
       "      <td>...</td>\n",
       "      <td>...</td>\n",
       "      <td>...</td>\n",
       "    </tr>\n",
       "    <tr>\n",
       "      <th>1455</th>\n",
       "      <td>EX44</td>\n",
       "      <td>2022-12-27</td>\n",
       "      <td>1137.0</td>\n",
       "      <td>17.0</td>\n",
       "      <td>NaN</td>\n",
       "      <td>2021.0</td>\n",
       "      <td>66.882353</td>\n",
       "      <td>NaN</td>\n",
       "    </tr>\n",
       "    <tr>\n",
       "      <th>1456</th>\n",
       "      <td>EX44</td>\n",
       "      <td>2022-12-28</td>\n",
       "      <td>2061.0</td>\n",
       "      <td>22.0</td>\n",
       "      <td>NaN</td>\n",
       "      <td>9073.0</td>\n",
       "      <td>93.681818</td>\n",
       "      <td>NaN</td>\n",
       "    </tr>\n",
       "    <tr>\n",
       "      <th>1457</th>\n",
       "      <td>EX44</td>\n",
       "      <td>2022-12-29</td>\n",
       "      <td>1524.0</td>\n",
       "      <td>15.0</td>\n",
       "      <td>NaN</td>\n",
       "      <td>7052.0</td>\n",
       "      <td>101.600000</td>\n",
       "      <td>NaN</td>\n",
       "    </tr>\n",
       "    <tr>\n",
       "      <th>1458</th>\n",
       "      <td>EX44</td>\n",
       "      <td>2022-12-30</td>\n",
       "      <td>2091.0</td>\n",
       "      <td>21.0</td>\n",
       "      <td>NaN</td>\n",
       "      <td>10965.0</td>\n",
       "      <td>99.571429</td>\n",
       "      <td>NaN</td>\n",
       "    </tr>\n",
       "    <tr>\n",
       "      <th>1459</th>\n",
       "      <td>EX44</td>\n",
       "      <td>2022-12-31</td>\n",
       "      <td>1052.0</td>\n",
       "      <td>11.0</td>\n",
       "      <td>NaN</td>\n",
       "      <td>8256.0</td>\n",
       "      <td>95.636364</td>\n",
       "      <td>NaN</td>\n",
       "    </tr>\n",
       "  </tbody>\n",
       "</table>\n",
       "<p>1354 rows × 8 columns</p>\n",
       "</div>"
      ],
      "text/plain": [
       "     CODE_UNIT        DATE  AMOUNT  HM_CALC  HM_HRS  PRODUCTION_OB  \\\n",
       "1         EX41  2022-01-02  2362.0     11.0    20.0        10350.0   \n",
       "2         EX41  2022-01-03  1961.0     20.0    22.0        11565.0   \n",
       "3         EX41  2022-01-04  1950.0     23.0    14.0         6750.0   \n",
       "4         EX41  2022-01-05  1744.0     17.0    21.0        11475.0   \n",
       "5         EX41  2022-01-06  1060.0     23.0    13.0         6255.0   \n",
       "...        ...         ...     ...      ...     ...            ...   \n",
       "1455      EX44  2022-12-27  1137.0     17.0     NaN         2021.0   \n",
       "1456      EX44  2022-12-28  2061.0     22.0     NaN         9073.0   \n",
       "1457      EX44  2022-12-29  1524.0     15.0     NaN         7052.0   \n",
       "1458      EX44  2022-12-30  2091.0     21.0     NaN        10965.0   \n",
       "1459      EX44  2022-12-31  1052.0     11.0     NaN         8256.0   \n",
       "\n",
       "      CONSUMPTION_CALC  CONSUMPTION_HRS  \n",
       "1           214.727273       118.100000  \n",
       "2            98.050000        89.136364  \n",
       "3            84.782609       139.285714  \n",
       "4           102.588235        83.047619  \n",
       "5            46.086957        81.538462  \n",
       "...                ...              ...  \n",
       "1455         66.882353              NaN  \n",
       "1456         93.681818              NaN  \n",
       "1457        101.600000              NaN  \n",
       "1458         99.571429              NaN  \n",
       "1459         95.636364              NaN  \n",
       "\n",
       "[1354 rows x 8 columns]"
      ]
     },
     "execution_count": 8,
     "metadata": {},
     "output_type": "execute_result"
    }
   ],
   "source": [
    "df"
   ]
  },
  {
   "cell_type": "markdown",
   "metadata": {},
   "source": [
    "## Outlier Checking"
   ]
  },
  {
   "cell_type": "code",
   "execution_count": 9,
   "metadata": {},
   "outputs": [
    {
     "data": {
      "text/html": [
       "<div>\n",
       "<style scoped>\n",
       "    .dataframe tbody tr th:only-of-type {\n",
       "        vertical-align: middle;\n",
       "    }\n",
       "\n",
       "    .dataframe tbody tr th {\n",
       "        vertical-align: top;\n",
       "    }\n",
       "\n",
       "    .dataframe thead th {\n",
       "        text-align: right;\n",
       "    }\n",
       "</style>\n",
       "<table border=\"1\" class=\"dataframe\">\n",
       "  <thead>\n",
       "    <tr style=\"text-align: right;\">\n",
       "      <th></th>\n",
       "      <th>AMOUNT</th>\n",
       "      <th>HM_CALC</th>\n",
       "      <th>HM_HRS</th>\n",
       "      <th>PRODUCTION_OB</th>\n",
       "      <th>CONSUMPTION_CALC</th>\n",
       "      <th>CONSUMPTION_HRS</th>\n",
       "    </tr>\n",
       "  </thead>\n",
       "  <tbody>\n",
       "    <tr>\n",
       "      <th>count</th>\n",
       "      <td>1354.000000</td>\n",
       "      <td>1354.000000</td>\n",
       "      <td>624.000000</td>\n",
       "      <td>1354.000000</td>\n",
       "      <td>1298.000000</td>\n",
       "      <td>623.000000</td>\n",
       "    </tr>\n",
       "    <tr>\n",
       "      <th>mean</th>\n",
       "      <td>1646.991137</td>\n",
       "      <td>16.401773</td>\n",
       "      <td>16.439103</td>\n",
       "      <td>7642.615066</td>\n",
       "      <td>inf</td>\n",
       "      <td>inf</td>\n",
       "    </tr>\n",
       "    <tr>\n",
       "      <th>std</th>\n",
       "      <td>617.893294</td>\n",
       "      <td>160.399758</td>\n",
       "      <td>5.575138</td>\n",
       "      <td>2966.847316</td>\n",
       "      <td>NaN</td>\n",
       "      <td>NaN</td>\n",
       "    </tr>\n",
       "    <tr>\n",
       "      <th>min</th>\n",
       "      <td>0.000000</td>\n",
       "      <td>-3970.000000</td>\n",
       "      <td>0.000000</td>\n",
       "      <td>0.000000</td>\n",
       "      <td>-70.636364</td>\n",
       "      <td>0.000000</td>\n",
       "    </tr>\n",
       "    <tr>\n",
       "      <th>25%</th>\n",
       "      <td>1322.000000</td>\n",
       "      <td>14.000000</td>\n",
       "      <td>14.000000</td>\n",
       "      <td>6036.750000</td>\n",
       "      <td>90.372727</td>\n",
       "      <td>73.785965</td>\n",
       "    </tr>\n",
       "    <tr>\n",
       "      <th>50%</th>\n",
       "      <td>1800.000000</td>\n",
       "      <td>18.000000</td>\n",
       "      <td>18.000000</td>\n",
       "      <td>8228.000000</td>\n",
       "      <td>100.090074</td>\n",
       "      <td>98.285714</td>\n",
       "    </tr>\n",
       "    <tr>\n",
       "      <th>75%</th>\n",
       "      <td>2073.750000</td>\n",
       "      <td>21.000000</td>\n",
       "      <td>21.000000</td>\n",
       "      <td>9847.000000</td>\n",
       "      <td>112.679825</td>\n",
       "      <td>130.289683</td>\n",
       "    </tr>\n",
       "    <tr>\n",
       "      <th>max</th>\n",
       "      <td>2862.000000</td>\n",
       "      <td>4011.000000</td>\n",
       "      <td>23.000000</td>\n",
       "      <td>13588.000000</td>\n",
       "      <td>inf</td>\n",
       "      <td>inf</td>\n",
       "    </tr>\n",
       "  </tbody>\n",
       "</table>\n",
       "</div>"
      ],
      "text/plain": [
       "            AMOUNT      HM_CALC      HM_HRS  PRODUCTION_OB  CONSUMPTION_CALC  \\\n",
       "count  1354.000000  1354.000000  624.000000    1354.000000       1298.000000   \n",
       "mean   1646.991137    16.401773   16.439103    7642.615066               inf   \n",
       "std     617.893294   160.399758    5.575138    2966.847316               NaN   \n",
       "min       0.000000 -3970.000000    0.000000       0.000000        -70.636364   \n",
       "25%    1322.000000    14.000000   14.000000    6036.750000         90.372727   \n",
       "50%    1800.000000    18.000000   18.000000    8228.000000        100.090074   \n",
       "75%    2073.750000    21.000000   21.000000    9847.000000        112.679825   \n",
       "max    2862.000000  4011.000000   23.000000   13588.000000               inf   \n",
       "\n",
       "       CONSUMPTION_HRS  \n",
       "count       623.000000  \n",
       "mean               inf  \n",
       "std                NaN  \n",
       "min           0.000000  \n",
       "25%          73.785965  \n",
       "50%          98.285714  \n",
       "75%         130.289683  \n",
       "max                inf  "
      ]
     },
     "execution_count": 9,
     "metadata": {},
     "output_type": "execute_result"
    }
   ],
   "source": [
    "df.describe()"
   ]
  },
  {
   "cell_type": "markdown",
   "metadata": {},
   "source": [
    "## Remove infnity value"
   ]
  },
  {
   "cell_type": "code",
   "execution_count": 10,
   "metadata": {},
   "outputs": [],
   "source": [
    "df = df[df['CONSUMPTION_CALC']!=np.inf] #remove infinity value from consumption calc\n",
    "df = df[df['CONSUMPTION_HRS']!=np.inf] #remove infinity value from consumptio hrs"
   ]
  },
  {
   "cell_type": "code",
   "execution_count": 11,
   "metadata": {},
   "outputs": [
    {
     "data": {
      "text/html": [
       "<div>\n",
       "<style scoped>\n",
       "    .dataframe tbody tr th:only-of-type {\n",
       "        vertical-align: middle;\n",
       "    }\n",
       "\n",
       "    .dataframe tbody tr th {\n",
       "        vertical-align: top;\n",
       "    }\n",
       "\n",
       "    .dataframe thead th {\n",
       "        text-align: right;\n",
       "    }\n",
       "</style>\n",
       "<table border=\"1\" class=\"dataframe\">\n",
       "  <thead>\n",
       "    <tr style=\"text-align: right;\">\n",
       "      <th></th>\n",
       "      <th>AMOUNT</th>\n",
       "      <th>HM_CALC</th>\n",
       "      <th>HM_HRS</th>\n",
       "      <th>PRODUCTION_OB</th>\n",
       "      <th>CONSUMPTION_CALC</th>\n",
       "      <th>CONSUMPTION_HRS</th>\n",
       "    </tr>\n",
       "  </thead>\n",
       "  <tbody>\n",
       "    <tr>\n",
       "      <th>count</th>\n",
       "      <td>1300.000000</td>\n",
       "      <td>1300.000000</td>\n",
       "      <td>586.000000</td>\n",
       "      <td>1300.000000</td>\n",
       "      <td>1244.000000</td>\n",
       "      <td>585.000000</td>\n",
       "    </tr>\n",
       "    <tr>\n",
       "      <th>mean</th>\n",
       "      <td>1664.947692</td>\n",
       "      <td>16.769231</td>\n",
       "      <td>17.105802</td>\n",
       "      <td>7798.039462</td>\n",
       "      <td>107.668231</td>\n",
       "      <td>111.421474</td>\n",
       "    </tr>\n",
       "    <tr>\n",
       "      <th>std</th>\n",
       "      <td>613.591463</td>\n",
       "      <td>163.679729</td>\n",
       "      <td>4.560691</td>\n",
       "      <td>2789.665367</td>\n",
       "      <td>83.033330</td>\n",
       "      <td>92.479663</td>\n",
       "    </tr>\n",
       "    <tr>\n",
       "      <th>min</th>\n",
       "      <td>0.000000</td>\n",
       "      <td>-3970.000000</td>\n",
       "      <td>0.000000</td>\n",
       "      <td>0.000000</td>\n",
       "      <td>-70.636364</td>\n",
       "      <td>0.000000</td>\n",
       "    </tr>\n",
       "    <tr>\n",
       "      <th>25%</th>\n",
       "      <td>1352.750000</td>\n",
       "      <td>14.000000</td>\n",
       "      <td>14.250000</td>\n",
       "      <td>6166.250000</td>\n",
       "      <td>90.266667</td>\n",
       "      <td>74.105263</td>\n",
       "    </tr>\n",
       "    <tr>\n",
       "      <th>50%</th>\n",
       "      <td>1817.500000</td>\n",
       "      <td>18.000000</td>\n",
       "      <td>18.000000</td>\n",
       "      <td>8299.000000</td>\n",
       "      <td>99.699248</td>\n",
       "      <td>97.190476</td>\n",
       "    </tr>\n",
       "    <tr>\n",
       "      <th>75%</th>\n",
       "      <td>2083.500000</td>\n",
       "      <td>21.000000</td>\n",
       "      <td>21.000000</td>\n",
       "      <td>9890.000000</td>\n",
       "      <td>111.607895</td>\n",
       "      <td>124.157895</td>\n",
       "    </tr>\n",
       "    <tr>\n",
       "      <th>max</th>\n",
       "      <td>2862.000000</td>\n",
       "      <td>4011.000000</td>\n",
       "      <td>23.000000</td>\n",
       "      <td>13588.000000</td>\n",
       "      <td>2029.000000</td>\n",
       "      <td>1145.500000</td>\n",
       "    </tr>\n",
       "  </tbody>\n",
       "</table>\n",
       "</div>"
      ],
      "text/plain": [
       "            AMOUNT      HM_CALC      HM_HRS  PRODUCTION_OB  CONSUMPTION_CALC  \\\n",
       "count  1300.000000  1300.000000  586.000000    1300.000000       1244.000000   \n",
       "mean   1664.947692    16.769231   17.105802    7798.039462        107.668231   \n",
       "std     613.591463   163.679729    4.560691    2789.665367         83.033330   \n",
       "min       0.000000 -3970.000000    0.000000       0.000000        -70.636364   \n",
       "25%    1352.750000    14.000000   14.250000    6166.250000         90.266667   \n",
       "50%    1817.500000    18.000000   18.000000    8299.000000         99.699248   \n",
       "75%    2083.500000    21.000000   21.000000    9890.000000        111.607895   \n",
       "max    2862.000000  4011.000000   23.000000   13588.000000       2029.000000   \n",
       "\n",
       "       CONSUMPTION_HRS  \n",
       "count       585.000000  \n",
       "mean        111.421474  \n",
       "std          92.479663  \n",
       "min           0.000000  \n",
       "25%          74.105263  \n",
       "50%          97.190476  \n",
       "75%         124.157895  \n",
       "max        1145.500000  "
      ]
     },
     "execution_count": 11,
     "metadata": {},
     "output_type": "execute_result"
    }
   ],
   "source": [
    "df.describe()"
   ]
  },
  {
   "attachments": {},
   "cell_type": "markdown",
   "metadata": {},
   "source": [
    "## Remove Outlier from HM Calculation"
   ]
  },
  {
   "cell_type": "code",
   "execution_count": 29,
   "metadata": {},
   "outputs": [
    {
     "data": {
      "image/png": "[encoded data removed]",
      "text/plain": [
       "<Figure size 640x480 with 1 Axes>"
      ]
     },
     "metadata": {},
     "output_type": "display_data"
    },
    {
     "data": {
      "image/png": "[encoded data removed]",
      "text/plain": [
       "<Figure size 640x480 with 1 Axes>"
      ]
     },
     "metadata": {},
     "output_type": "display_data"
    },
    {
     "data": {
      "image/png": "[encoded data removed]",
      "text/plain": [
       "<Figure size 640x480 with 1 Axes>"
      ]
     },
     "metadata": {},
     "output_type": "display_data"
    },
    {
     "data": {
      "image/png": "[encoded data removed]",
      "text/plain": [
       "<Figure size 640x480 with 1 Axes>"
      ]
     },
     "metadata": {},
     "output_type": "display_data"
    },
    {
     "data": {
      "text/plain": [
       "<Figure size 640x480 with 0 Axes>"
      ]
     },
     "metadata": {},
     "output_type": "display_data"
    }
   ],
   "source": [
    "for i in ['AMOUNT', 'HM_CALC', 'HM_HRS', 'PRODUCTION_OB']:\n",
    "      sns.boxplot(data = df, x = i)\n",
    "      plt.title(\"Boxplot %s\" % i)\n",
    "      plt.show()\n",
    "      plt.clf()"
   ]
  },
  {
   "cell_type": "code",
   "execution_count": null,
   "metadata": {},
   "outputs": [],
   "source": [
    "sns.boxplot(data= df[['AMOUNT', 'HM_CALC', 'HM_HRS', 'PRODUCTION_OB']])"
   ]
  },
  {
   "cell_type": "code",
   "execution_count": 63,
   "metadata": {},
   "outputs": [],
   "source": [
    "df = df[(df['HM_CALC']>=0) & (df['HM_CALC']<=24)]"
   ]
  },
  {
   "attachments": {},
   "cell_type": "markdown",
   "metadata": {},
   "source": [
    "**Note**\n",
    "\n",
    "Banyak outlier, akan dilakukan filter"
   ]
  },
  {
   "cell_type": "markdown",
   "metadata": {},
   "source": [
    "## Checking Data Distribution"
   ]
  },
  {
   "cell_type": "code",
   "execution_count": 64,
   "metadata": {},
   "outputs": [
    {
     "data": {
      "text/plain": [
       "<Figure size 640x480 with 0 Axes>"
      ]
     },
     "metadata": {},
     "output_type": "display_data"
    },
    {
     "data": {
      "image/png": "[encoded data removed]",
      "text/plain": [
       "<Figure size 591.486x500 with 1 Axes>"
      ]
     },
     "metadata": {},
     "output_type": "display_data"
    }
   ],
   "source": [
    "fig = plt.figure()\n",
    "ax = sns.displot(data = df, kind='kde', x = 'AMOUNT', hue='CODE_UNIT')\n",
    "plt.show()"
   ]
  },
  {
   "cell_type": "code",
   "execution_count": 65,
   "metadata": {},
   "outputs": [
    {
     "data": {
      "text/plain": [
       "<Figure size 640x480 with 0 Axes>"
      ]
     },
     "metadata": {},
     "output_type": "display_data"
    },
    {
     "data": {
      "image/png": "[encoded data removed]",
      "text/plain": [
       "<Figure size 591.486x500 with 1 Axes>"
      ]
     },
     "metadata": {},
     "output_type": "display_data"
    }
   ],
   "source": [
    "fig = plt.figure()\n",
    "ax = sns.displot(data = df, kind='kde', x = 'PRODUCTION_OB', hue='CODE_UNIT')\n",
    "plt.show()"
   ]
  },
  {
   "cell_type": "code",
   "execution_count": 68,
   "metadata": {},
   "outputs": [
    {
     "data": {
      "text/html": [
       "<div>\n",
       "<style scoped>\n",
       "    .dataframe tbody tr th:only-of-type {\n",
       "        vertical-align: middle;\n",
       "    }\n",
       "\n",
       "    .dataframe tbody tr th {\n",
       "        vertical-align: top;\n",
       "    }\n",
       "\n",
       "    .dataframe thead th {\n",
       "        text-align: right;\n",
       "    }\n",
       "</style>\n",
       "<table border=\"1\" class=\"dataframe\">\n",
       "  <thead>\n",
       "    <tr style=\"text-align: right;\">\n",
       "      <th></th>\n",
       "      <th>AMOUNT</th>\n",
       "      <th>PRODUCTION_OB</th>\n",
       "    </tr>\n",
       "    <tr>\n",
       "      <th>CODE_UNIT</th>\n",
       "      <th></th>\n",
       "      <th></th>\n",
       "    </tr>\n",
       "  </thead>\n",
       "  <tbody>\n",
       "    <tr>\n",
       "      <th>EX41</th>\n",
       "      <td>1729.108696</td>\n",
       "      <td>7689.328986</td>\n",
       "    </tr>\n",
       "    <tr>\n",
       "      <th>EX42</th>\n",
       "      <td>1834.710059</td>\n",
       "      <td>8015.301775</td>\n",
       "    </tr>\n",
       "    <tr>\n",
       "      <th>EX43</th>\n",
       "      <td>1600.358885</td>\n",
       "      <td>8030.215679</td>\n",
       "    </tr>\n",
       "    <tr>\n",
       "      <th>EX44</th>\n",
       "      <td>1533.962644</td>\n",
       "      <td>7461.982759</td>\n",
       "    </tr>\n",
       "  </tbody>\n",
       "</table>\n",
       "</div>"
      ],
      "text/plain": [
       "                AMOUNT  PRODUCTION_OB\n",
       "CODE_UNIT                            \n",
       "EX41       1729.108696    7689.328986\n",
       "EX42       1834.710059    8015.301775\n",
       "EX43       1600.358885    8030.215679\n",
       "EX44       1533.962644    7461.982759"
      ]
     },
     "execution_count": 68,
     "metadata": {},
     "output_type": "execute_result"
    }
   ],
   "source": [
    "df.groupby('CODE_UNIT')[['AMOUNT', 'PRODUCTION_OB']].mean()"
   ]
  },
  {
   "cell_type": "code",
   "execution_count": 69,
   "metadata": {},
   "outputs": [
    {
     "data": {
      "text/html": [
       "<div>\n",
       "<style scoped>\n",
       "    .dataframe tbody tr th:only-of-type {\n",
       "        vertical-align: middle;\n",
       "    }\n",
       "\n",
       "    .dataframe tbody tr th {\n",
       "        vertical-align: top;\n",
       "    }\n",
       "\n",
       "    .dataframe thead th {\n",
       "        text-align: right;\n",
       "    }\n",
       "</style>\n",
       "<table border=\"1\" class=\"dataframe\">\n",
       "  <thead>\n",
       "    <tr style=\"text-align: right;\">\n",
       "      <th></th>\n",
       "      <th>AMOUNT</th>\n",
       "      <th>PRODUCTION_OB</th>\n",
       "    </tr>\n",
       "    <tr>\n",
       "      <th>CODE_UNIT</th>\n",
       "      <th></th>\n",
       "      <th></th>\n",
       "    </tr>\n",
       "  </thead>\n",
       "  <tbody>\n",
       "    <tr>\n",
       "      <th>EX41</th>\n",
       "      <td>1922.5</td>\n",
       "      <td>8102.0</td>\n",
       "    </tr>\n",
       "    <tr>\n",
       "      <th>EX42</th>\n",
       "      <td>2043.0</td>\n",
       "      <td>8471.0</td>\n",
       "    </tr>\n",
       "    <tr>\n",
       "      <th>EX43</th>\n",
       "      <td>1736.0</td>\n",
       "      <td>8370.0</td>\n",
       "    </tr>\n",
       "    <tr>\n",
       "      <th>EX44</th>\n",
       "      <td>1717.0</td>\n",
       "      <td>8019.5</td>\n",
       "    </tr>\n",
       "  </tbody>\n",
       "</table>\n",
       "</div>"
      ],
      "text/plain": [
       "           AMOUNT  PRODUCTION_OB\n",
       "CODE_UNIT                       \n",
       "EX41       1922.5         8102.0\n",
       "EX42       2043.0         8471.0\n",
       "EX43       1736.0         8370.0\n",
       "EX44       1717.0         8019.5"
      ]
     },
     "execution_count": 69,
     "metadata": {},
     "output_type": "execute_result"
    }
   ],
   "source": [
    "df.groupby('CODE_UNIT')[['AMOUNT', 'PRODUCTION_OB']].median()"
   ]
  },
  {
   "cell_type": "code",
   "execution_count": 73,
   "metadata": {},
   "outputs": [],
   "source": [
    "# pembuatan feature baru bernama productivity yang menjelaskan hubungan antara production overburden dengan jumlah bahan bakar yang dikonsumsi\n",
    "df['PRODUCTIVITY'] = df['PRODUCTION_OB']/df['AMOUNT']"
   ]
  },
  {
   "cell_type": "code",
   "execution_count": 77,
   "metadata": {},
   "outputs": [
    {
     "data": {
      "text/html": [
       "<div>\n",
       "<style scoped>\n",
       "    .dataframe tbody tr th:only-of-type {\n",
       "        vertical-align: middle;\n",
       "    }\n",
       "\n",
       "    .dataframe tbody tr th {\n",
       "        vertical-align: top;\n",
       "    }\n",
       "\n",
       "    .dataframe thead th {\n",
       "        text-align: right;\n",
       "    }\n",
       "</style>\n",
       "<table border=\"1\" class=\"dataframe\">\n",
       "  <thead>\n",
       "    <tr style=\"text-align: right;\">\n",
       "      <th></th>\n",
       "      <th>CODE_UNIT</th>\n",
       "      <th>DATE</th>\n",
       "      <th>AMOUNT</th>\n",
       "      <th>HM_CALC</th>\n",
       "      <th>HM_HRS</th>\n",
       "      <th>PRODUCTION_OB</th>\n",
       "      <th>CONSUMPTION_CALC</th>\n",
       "      <th>CONSUMPTION_HRS</th>\n",
       "      <th>PRODUCTIVITY</th>\n",
       "    </tr>\n",
       "  </thead>\n",
       "  <tbody>\n",
       "    <tr>\n",
       "      <th>109</th>\n",
       "      <td>EX41</td>\n",
       "      <td>2022-04-20</td>\n",
       "      <td>0.0</td>\n",
       "      <td>0.0</td>\n",
       "      <td>0.0</td>\n",
       "      <td>0.0</td>\n",
       "      <td>NaN</td>\n",
       "      <td>NaN</td>\n",
       "      <td>NaN</td>\n",
       "    </tr>\n",
       "    <tr>\n",
       "      <th>486</th>\n",
       "      <td>EX42</td>\n",
       "      <td>2022-05-02</td>\n",
       "      <td>0.0</td>\n",
       "      <td>7.0</td>\n",
       "      <td>NaN</td>\n",
       "      <td>0.0</td>\n",
       "      <td>0.0</td>\n",
       "      <td>NaN</td>\n",
       "      <td>NaN</td>\n",
       "    </tr>\n",
       "    <tr>\n",
       "      <th>1216</th>\n",
       "      <td>EX44</td>\n",
       "      <td>2022-05-02</td>\n",
       "      <td>0.0</td>\n",
       "      <td>7.0</td>\n",
       "      <td>NaN</td>\n",
       "      <td>0.0</td>\n",
       "      <td>0.0</td>\n",
       "      <td>NaN</td>\n",
       "      <td>NaN</td>\n",
       "    </tr>\n",
       "  </tbody>\n",
       "</table>\n",
       "</div>"
      ],
      "text/plain": [
       "     CODE_UNIT        DATE  AMOUNT  HM_CALC  HM_HRS  PRODUCTION_OB  \\\n",
       "109       EX41  2022-04-20     0.0      0.0     0.0            0.0   \n",
       "486       EX42  2022-05-02     0.0      7.0     NaN            0.0   \n",
       "1216      EX44  2022-05-02     0.0      7.0     NaN            0.0   \n",
       "\n",
       "      CONSUMPTION_CALC  CONSUMPTION_HRS  PRODUCTIVITY  \n",
       "109                NaN              NaN           NaN  \n",
       "486                0.0              NaN           NaN  \n",
       "1216               0.0              NaN           NaN  "
      ]
     },
     "execution_count": 77,
     "metadata": {},
     "output_type": "execute_result"
    }
   ],
   "source": [
    "df[df['PRODUCTIVITY'].isna()]"
   ]
  },
  {
   "cell_type": "code",
   "execution_count": 78,
   "metadata": {},
   "outputs": [],
   "source": [
    "df = df[df['PRODUCTIVITY'].notna()]"
   ]
  },
  {
   "cell_type": "code",
   "execution_count": 82,
   "metadata": {},
   "outputs": [
    {
     "data": {
      "text/html": [
       "<div>\n",
       "<style scoped>\n",
       "    .dataframe tbody tr th:only-of-type {\n",
       "        vertical-align: middle;\n",
       "    }\n",
       "\n",
       "    .dataframe tbody tr th {\n",
       "        vertical-align: top;\n",
       "    }\n",
       "\n",
       "    .dataframe thead th {\n",
       "        text-align: right;\n",
       "    }\n",
       "</style>\n",
       "<table border=\"1\" class=\"dataframe\">\n",
       "  <thead>\n",
       "    <tr style=\"text-align: right;\">\n",
       "      <th></th>\n",
       "      <th>CODE_UNIT</th>\n",
       "      <th>DATE</th>\n",
       "      <th>AMOUNT</th>\n",
       "      <th>HM_CALC</th>\n",
       "      <th>HM_HRS</th>\n",
       "      <th>PRODUCTION_OB</th>\n",
       "      <th>CONSUMPTION_CALC</th>\n",
       "      <th>CONSUMPTION_HRS</th>\n",
       "      <th>PRODUCTIVITY</th>\n",
       "    </tr>\n",
       "  </thead>\n",
       "  <tbody>\n",
       "    <tr>\n",
       "      <th>984</th>\n",
       "      <td>EX43</td>\n",
       "      <td>2022-09-12</td>\n",
       "      <td>2154.0</td>\n",
       "      <td>11.0</td>\n",
       "      <td>20.0</td>\n",
       "      <td>9718.0</td>\n",
       "      <td>195.818182</td>\n",
       "      <td>107.700000</td>\n",
       "      <td>4.511606</td>\n",
       "    </tr>\n",
       "    <tr>\n",
       "      <th>283</th>\n",
       "      <td>EX41</td>\n",
       "      <td>2022-10-11</td>\n",
       "      <td>2175.0</td>\n",
       "      <td>21.0</td>\n",
       "      <td>22.0</td>\n",
       "      <td>9331.0</td>\n",
       "      <td>103.571429</td>\n",
       "      <td>98.863636</td>\n",
       "      <td>4.290115</td>\n",
       "    </tr>\n",
       "    <tr>\n",
       "      <th>1207</th>\n",
       "      <td>EX44</td>\n",
       "      <td>2022-04-23</td>\n",
       "      <td>1823.0</td>\n",
       "      <td>21.0</td>\n",
       "      <td>NaN</td>\n",
       "      <td>7611.0</td>\n",
       "      <td>86.809524</td>\n",
       "      <td>NaN</td>\n",
       "      <td>4.174986</td>\n",
       "    </tr>\n",
       "    <tr>\n",
       "      <th>1291</th>\n",
       "      <td>EX44</td>\n",
       "      <td>2022-07-16</td>\n",
       "      <td>1041.0</td>\n",
       "      <td>24.0</td>\n",
       "      <td>NaN</td>\n",
       "      <td>1075.0</td>\n",
       "      <td>43.375000</td>\n",
       "      <td>NaN</td>\n",
       "      <td>1.032661</td>\n",
       "    </tr>\n",
       "    <tr>\n",
       "      <th>547</th>\n",
       "      <td>EX42</td>\n",
       "      <td>2022-07-02</td>\n",
       "      <td>2435.0</td>\n",
       "      <td>20.0</td>\n",
       "      <td>NaN</td>\n",
       "      <td>3225.0</td>\n",
       "      <td>121.750000</td>\n",
       "      <td>NaN</td>\n",
       "      <td>1.324435</td>\n",
       "    </tr>\n",
       "    <tr>\n",
       "      <th>1145</th>\n",
       "      <td>EX44</td>\n",
       "      <td>2022-02-20</td>\n",
       "      <td>1583.0</td>\n",
       "      <td>15.0</td>\n",
       "      <td>NaN</td>\n",
       "      <td>172.0</td>\n",
       "      <td>105.533333</td>\n",
       "      <td>NaN</td>\n",
       "      <td>0.108654</td>\n",
       "    </tr>\n",
       "    <tr>\n",
       "      <th>496</th>\n",
       "      <td>EX42</td>\n",
       "      <td>2022-05-12</td>\n",
       "      <td>1058.0</td>\n",
       "      <td>10.0</td>\n",
       "      <td>NaN</td>\n",
       "      <td>4773.0</td>\n",
       "      <td>105.800000</td>\n",
       "      <td>NaN</td>\n",
       "      <td>4.511342</td>\n",
       "    </tr>\n",
       "    <tr>\n",
       "      <th>784</th>\n",
       "      <td>EX43</td>\n",
       "      <td>2022-02-24</td>\n",
       "      <td>1591.0</td>\n",
       "      <td>15.0</td>\n",
       "      <td>12.0</td>\n",
       "      <td>5005.0</td>\n",
       "      <td>106.066667</td>\n",
       "      <td>132.583333</td>\n",
       "      <td>3.145820</td>\n",
       "    </tr>\n",
       "    <tr>\n",
       "      <th>1120</th>\n",
       "      <td>EX44</td>\n",
       "      <td>2022-01-26</td>\n",
       "      <td>1945.0</td>\n",
       "      <td>23.0</td>\n",
       "      <td>NaN</td>\n",
       "      <td>9331.0</td>\n",
       "      <td>84.565217</td>\n",
       "      <td>NaN</td>\n",
       "      <td>4.797429</td>\n",
       "    </tr>\n",
       "    <tr>\n",
       "      <th>980</th>\n",
       "      <td>EX43</td>\n",
       "      <td>2022-09-08</td>\n",
       "      <td>941.0</td>\n",
       "      <td>18.0</td>\n",
       "      <td>20.0</td>\n",
       "      <td>8492.0</td>\n",
       "      <td>52.277778</td>\n",
       "      <td>47.050000</td>\n",
       "      <td>9.024442</td>\n",
       "    </tr>\n",
       "  </tbody>\n",
       "</table>\n",
       "</div>"
      ],
      "text/plain": [
       "     CODE_UNIT        DATE  AMOUNT  HM_CALC  HM_HRS  PRODUCTION_OB  \\\n",
       "984       EX43  2022-09-12  2154.0     11.0    20.0         9718.0   \n",
       "283       EX41  2022-10-11  2175.0     21.0    22.0         9331.0   \n",
       "1207      EX44  2022-04-23  1823.0     21.0     NaN         7611.0   \n",
       "1291      EX44  2022-07-16  1041.0     24.0     NaN         1075.0   \n",
       "547       EX42  2022-07-02  2435.0     20.0     NaN         3225.0   \n",
       "1145      EX44  2022-02-20  1583.0     15.0     NaN          172.0   \n",
       "496       EX42  2022-05-12  1058.0     10.0     NaN         4773.0   \n",
       "784       EX43  2022-02-24  1591.0     15.0    12.0         5005.0   \n",
       "1120      EX44  2022-01-26  1945.0     23.0     NaN         9331.0   \n",
       "980       EX43  2022-09-08   941.0     18.0    20.0         8492.0   \n",
       "\n",
       "      CONSUMPTION_CALC  CONSUMPTION_HRS  PRODUCTIVITY  \n",
       "984         195.818182       107.700000      4.511606  \n",
       "283         103.571429        98.863636      4.290115  \n",
       "1207         86.809524              NaN      4.174986  \n",
       "1291         43.375000              NaN      1.032661  \n",
       "547         121.750000              NaN      1.324435  \n",
       "1145        105.533333              NaN      0.108654  \n",
       "496         105.800000              NaN      4.511342  \n",
       "784         106.066667       132.583333      3.145820  \n",
       "1120         84.565217              NaN      4.797429  \n",
       "980          52.277778        47.050000      9.024442  "
      ]
     },
     "execution_count": 82,
     "metadata": {},
     "output_type": "execute_result"
    }
   ],
   "source": [
    "df.sample(10)"
   ]
  },
  {
   "cell_type": "code",
   "execution_count": 85,
   "metadata": {},
   "outputs": [],
   "source": [
    "filter infinite value\n",
    "df = df[df['PRODUCTIVITY']!=np.inf]"
   ]
  },
  {
   "cell_type": "code",
   "execution_count": 86,
   "metadata": {},
   "outputs": [
    {
     "data": {
      "text/plain": [
       "CODE_UNIT\n",
       "EX41    4.803572\n",
       "EX42    5.131284\n",
       "EX43    5.592498\n",
       "EX44    4.600786\n",
       "Name: PRODUCTIVITY, dtype: float64"
      ]
     },
     "execution_count": 86,
     "metadata": {},
     "output_type": "execute_result"
    }
   ],
   "source": [
    "df.groupby('CODE_UNIT')['PRODUCTIVITY'].mean()"
   ]
  },
  {
   "cell_type": "code",
   "execution_count": 88,
   "metadata": {},
   "outputs": [
    {
     "data": {
      "text/plain": [
       "Text(0, 0.5, 'Productivity Score')"
      ]
     },
     "execution_count": 88,
     "metadata": {},
     "output_type": "execute_result"
    },
    {
     "data": {
      "image/png": "[encoded data removed]",
      "text/plain": [
       "<Figure size 640x480 with 1 Axes>"
      ]
     },
     "metadata": {},
     "output_type": "display_data"
    }
   ],
   "source": [
    "df.groupby('CODE_UNIT')['PRODUCTIVITY'].mean().plot(kind='bar')\n",
    "plt.title(\"PRODUCTIVITY SCORE BY EXCAVATOR\")\n",
    "plt.ylabel(\"Productivity Score\")"
   ]
  },
  {
   "attachments": {},
   "cell_type": "markdown",
   "metadata": {},
   "source": [
    "**Findings**\n",
    "\n",
    "- Berdasarkan productivity score tidak terlihat perbedaan yang signifikan antara EX41, EX42, EX43, dan EX44 sehingga dengan fakta tersebut kita bisa berasumsi bahwa Excavator2 ini adalah unit yang sama, karena hubungan nilai konsumsi bahan bakar dengan jumlah overburden yang dihasilkan dalam data 1 tahun cenderung tidak berbeda\n",
    "- Dengan asumsi ini dalam melakukan modeling kita tidak akan memperhitungkan code unit sebagai hal yang berpengaruh terhadap model sehingga code unit selanjutnya akan di drop pada saat modeling"
   ]
  },
  {
   "attachments": {},
   "cell_type": "markdown",
   "metadata": {},
   "source": [
    "## Correlation checking\n",
    "\n",
    "Pada correlation checking yang akan dijadikan target adalah amount/konsumsi bahan bakar, sementara feature adalah variabel yang lainnya"
   ]
  },
  {
   "cell_type": "code",
   "execution_count": 91,
   "metadata": {},
   "outputs": [
    {
     "data": {
      "text/html": [
       "<div>\n",
       "<style scoped>\n",
       "    .dataframe tbody tr th:only-of-type {\n",
       "        vertical-align: middle;\n",
       "    }\n",
       "\n",
       "    .dataframe tbody tr th {\n",
       "        vertical-align: top;\n",
       "    }\n",
       "\n",
       "    .dataframe thead th {\n",
       "        text-align: right;\n",
       "    }\n",
       "</style>\n",
       "<table border=\"1\" class=\"dataframe\">\n",
       "  <thead>\n",
       "    <tr style=\"text-align: right;\">\n",
       "      <th></th>\n",
       "      <th>AMOUNT</th>\n",
       "      <th>HM_CALC</th>\n",
       "      <th>HM_HRS</th>\n",
       "      <th>PRODUCTION_OB</th>\n",
       "      <th>CONSUMPTION_CALC</th>\n",
       "      <th>CONSUMPTION_HRS</th>\n",
       "      <th>PRODUCTIVITY</th>\n",
       "    </tr>\n",
       "  </thead>\n",
       "  <tbody>\n",
       "    <tr>\n",
       "      <th>AMOUNT</th>\n",
       "      <td>1.000000</td>\n",
       "      <td>0.489813</td>\n",
       "      <td>-0.030187</td>\n",
       "      <td>0.167094</td>\n",
       "      <td>0.163840</td>\n",
       "      <td>0.370047</td>\n",
       "      <td>-0.397134</td>\n",
       "    </tr>\n",
       "    <tr>\n",
       "      <th>HM_CALC</th>\n",
       "      <td>0.489813</td>\n",
       "      <td>1.000000</td>\n",
       "      <td>-0.068545</td>\n",
       "      <td>0.174465</td>\n",
       "      <td>-0.468297</td>\n",
       "      <td>0.214939</td>\n",
       "      <td>-0.187784</td>\n",
       "    </tr>\n",
       "    <tr>\n",
       "      <th>HM_HRS</th>\n",
       "      <td>-0.030187</td>\n",
       "      <td>-0.068545</td>\n",
       "      <td>1.000000</td>\n",
       "      <td>0.922720</td>\n",
       "      <td>0.051098</td>\n",
       "      <td>-0.677625</td>\n",
       "      <td>0.405282</td>\n",
       "    </tr>\n",
       "    <tr>\n",
       "      <th>PRODUCTION_OB</th>\n",
       "      <td>0.167094</td>\n",
       "      <td>0.174465</td>\n",
       "      <td>0.922720</td>\n",
       "      <td>1.000000</td>\n",
       "      <td>-0.033549</td>\n",
       "      <td>-0.622067</td>\n",
       "      <td>0.241443</td>\n",
       "    </tr>\n",
       "    <tr>\n",
       "      <th>CONSUMPTION_CALC</th>\n",
       "      <td>0.163840</td>\n",
       "      <td>-0.468297</td>\n",
       "      <td>0.051098</td>\n",
       "      <td>-0.033549</td>\n",
       "      <td>1.000000</td>\n",
       "      <td>0.019882</td>\n",
       "      <td>-0.117631</td>\n",
       "    </tr>\n",
       "    <tr>\n",
       "      <th>CONSUMPTION_HRS</th>\n",
       "      <td>0.370047</td>\n",
       "      <td>0.214939</td>\n",
       "      <td>-0.677625</td>\n",
       "      <td>-0.622067</td>\n",
       "      <td>0.019882</td>\n",
       "      <td>1.000000</td>\n",
       "      <td>-0.459948</td>\n",
       "    </tr>\n",
       "    <tr>\n",
       "      <th>PRODUCTIVITY</th>\n",
       "      <td>-0.397134</td>\n",
       "      <td>-0.187784</td>\n",
       "      <td>0.405282</td>\n",
       "      <td>0.241443</td>\n",
       "      <td>-0.117631</td>\n",
       "      <td>-0.459948</td>\n",
       "      <td>1.000000</td>\n",
       "    </tr>\n",
       "  </tbody>\n",
       "</table>\n",
       "</div>"
      ],
      "text/plain": [
       "                    AMOUNT   HM_CALC    HM_HRS  PRODUCTION_OB  \\\n",
       "AMOUNT            1.000000  0.489813 -0.030187       0.167094   \n",
       "HM_CALC           0.489813  1.000000 -0.068545       0.174465   \n",
       "HM_HRS           -0.030187 -0.068545  1.000000       0.922720   \n",
       "PRODUCTION_OB     0.167094  0.174465  0.922720       1.000000   \n",
       "CONSUMPTION_CALC  0.163840 -0.468297  0.051098      -0.033549   \n",
       "CONSUMPTION_HRS   0.370047  0.214939 -0.677625      -0.622067   \n",
       "PRODUCTIVITY     -0.397134 -0.187784  0.405282       0.241443   \n",
       "\n",
       "                  CONSUMPTION_CALC  CONSUMPTION_HRS  PRODUCTIVITY  \n",
       "AMOUNT                    0.163840         0.370047     -0.397134  \n",
       "HM_CALC                  -0.468297         0.214939     -0.187784  \n",
       "HM_HRS                    0.051098        -0.677625      0.405282  \n",
       "PRODUCTION_OB            -0.033549        -0.622067      0.241443  \n",
       "CONSUMPTION_CALC          1.000000         0.019882     -0.117631  \n",
       "CONSUMPTION_HRS           0.019882         1.000000     -0.459948  \n",
       "PRODUCTIVITY             -0.117631        -0.459948      1.000000  "
      ]
     },
     "execution_count": 91,
     "metadata": {},
     "output_type": "execute_result"
    }
   ],
   "source": [
    "df.corr(numeric_only=True)"
   ]
  },
  {
   "cell_type": "code",
   "execution_count": 92,
   "metadata": {},
   "outputs": [
    {
     "data": {
      "text/plain": [
       "<AxesSubplot: >"
      ]
     },
     "execution_count": 92,
     "metadata": {},
     "output_type": "execute_result"
    },
    {
     "data": {
      "image/png": "[encoded data removed]",
      "text/plain": [
       "<Figure size 640x480 with 2 Axes>"
      ]
     },
     "metadata": {},
     "output_type": "display_data"
    }
   ],
   "source": [
    "sns.heatmap(df.corr(numeric_only=True), cmap=\"YlGnBu\", annot=True)"
   ]
  },
  {
   "attachments": {},
   "cell_type": "markdown",
   "metadata": {},
   "source": [
    "**Findings**\n",
    "\n",
    "- Berdasarkan hasil korelasi antara feature dengan label, kita dapat mengetahui ada beberapa feature yang potensial dengan justifikasi memilii korelasi yang cukup tinggi, misalnya HM_CAL, PRODUCTION_OB, dan PRODUCTIVITY\n",
    "- Namun karena productivity merupakan hasil bagi Amount dan production sehingga fitur tersebut tidak akan digunakan\n",
    "- Sementara consumption yang merupakan variabel yang dihasilkan juga dari hasil bagi antara amount/HM juga tidak akan digunakan\n",
    "- Variabel yang akan digunakan dalam permodelan adalah HM_CAL dan PRODUCTION_OB untuk melihat hubungan antar variabel tersebut terhadap AMOUNT (Konsumsi bahan bakar)"
   ]
  },
  {
   "attachments": {},
   "cell_type": "markdown",
   "metadata": {},
   "source": [
    "# Modeling\n",
    "\n",
    "Pada percobaan ini akan dicoba 2 model, yaitu linear regression untuk melihat hubungan antar 3 variabel dan memprediksi kebutuhan bahan bakar berdasarkan target produksi dan target working hours"
   ]
  },
  {
   "cell_type": "markdown",
   "metadata": {},
   "source": [
    "## Data Preparation"
   ]
  },
  {
   "cell_type": "code",
   "execution_count": 98,
   "metadata": {},
   "outputs": [],
   "source": [
    "df_modeling = df[['HM_CALC', 'PRODUCTION_OB' , 'AMOUNT']].copy()"
   ]
  },
  {
   "cell_type": "code",
   "execution_count": 99,
   "metadata": {},
   "outputs": [],
   "source": [
    "from sklearn.preprocessing import StandardScaler\n",
    "from sklearn.model_selection import train_test_split"
   ]
  },
  {
   "cell_type": "code",
   "execution_count": 102,
   "metadata": {},
   "outputs": [],
   "source": [
    "X = df_modeling.drop('AMOUNT', axis=1)\n",
    "y = df_modeling['AMOUNT']"
   ]
  },
  {
   "cell_type": "code",
   "execution_count": 103,
   "metadata": {},
   "outputs": [],
   "source": [
    "X_train, X_test, y_train, y_test = train_test_split(X, y, test_size=0.2, random_state=88)"
   ]
  },
  {
   "cell_type": "code",
   "execution_count": 105,
   "metadata": {},
   "outputs": [],
   "source": [
    "scaler = StandardScaler()\n",
    "\n",
    "X_train_scaled = scaler.fit_transform(X_train)\n",
    "X_test_scaled = scaler.transform(X_test)"
   ]
  },
  {
   "cell_type": "code",
   "execution_count": 107,
   "metadata": {},
   "outputs": [],
   "source": [
    "X_train_scaled = pd.DataFrame(X_train_scaled, index=X_train.index, columns=X_train.columns)\n",
    "X_test_scaled = pd.DataFrame(X_test_scaled, index=X_test.index, columns=X_test.columns)"
   ]
  },
  {
   "attachments": {},
   "cell_type": "markdown",
   "metadata": {},
   "source": [
    "## Model Training"
   ]
  },
  {
   "attachments": {},
   "cell_type": "markdown",
   "metadata": {},
   "source": [
    "### Linear regression"
   ]
  },
  {
   "cell_type": "code",
   "execution_count": 123,
   "metadata": {},
   "outputs": [],
   "source": [
    "lin_reg = sm.OLS(y_train, sm.add_constant(X_train_scaled))\n",
    "lin_reg_model = lin_reg.fit()"
   ]
  },
  {
   "cell_type": "code",
   "execution_count": 125,
   "metadata": {},
   "outputs": [
    {
     "name": "stdout",
     "output_type": "stream",
     "text": [
      "                            OLS Regression Results                            \n",
      "==============================================================================\n",
      "Dep. Variable:                 AMOUNT   R-squared:                       0.250\n",
      "Model:                            OLS   Adj. R-squared:                  0.248\n",
      "Method:                 Least Squares   F-statistic:                     156.8\n",
      "Date:                Wed, 15 Feb 2023   Prob (F-statistic):           1.66e-59\n",
      "Time:                        00:19:13   Log-Likelihood:                -7028.7\n",
      "No. Observations:                 944   AIC:                         1.406e+04\n",
      "Df Residuals:                     941   BIC:                         1.408e+04\n",
      "Df Model:                           2                                         \n",
      "Covariance Type:            nonrobust                                         \n",
      "=================================================================================\n",
      "                    coef    std err          t      P>|t|      [0.025      0.975]\n",
      "---------------------------------------------------------------------------------\n",
      "const          1770.4163     13.507    131.070      0.000    1743.908    1796.924\n",
      "HM_CALC         229.7485     13.739     16.723      0.000     202.786     256.711\n",
      "PRODUCTION_OB    36.7777     13.739      2.677      0.008       9.815      63.740\n",
      "==============================================================================\n",
      "Omnibus:                       57.510   Durbin-Watson:                   1.997\n",
      "Prob(Omnibus):                  0.000   Jarque-Bera (JB):               79.554\n",
      "Skew:                          -0.519   Prob(JB):                     5.31e-18\n",
      "Kurtosis:                       3.972   Cond. No.                         1.20\n",
      "==============================================================================\n",
      "\n",
      "Notes:\n",
      "[1] Standard Errors assume that the covariance matrix of the errors is correctly specified.\n"
     ]
    }
   ],
   "source": [
    "print(lin_reg_model.summary())"
   ]
  },
  {
   "cell_type": "code",
   "execution_count": 136,
   "metadata": {},
   "outputs": [
    {
     "name": "stdout",
     "output_type": "stream",
     "text": [
      "                  Results: Ordinary least squares\n",
      "====================================================================\n",
      "Model:               OLS              Adj. R-squared:     0.248     \n",
      "Dependent Variable:  AMOUNT           AIC:                14063.3852\n",
      "Date:                2023-02-15 00:46 BIC:                14077.9356\n",
      "No. Observations:    944              Log-Likelihood:     -7028.7   \n",
      "Df Model:            2                F-statistic:        156.8     \n",
      "Df Residuals:        941              Prob (F-statistic): 1.66e-59  \n",
      "R-squared:           0.250            Scale:              1.7223e+05\n",
      "--------------------------------------------------------------------\n",
      "                Coef.   Std.Err.    t     P>|t|    [0.025    0.975] \n",
      "--------------------------------------------------------------------\n",
      "const         1770.4163  13.5074 131.0700 0.0000 1743.9082 1796.9245\n",
      "HM_CALC        229.7485  13.7389  16.7225 0.0000  202.7861  256.7108\n",
      "PRODUCTION_OB   36.7777  13.7389   2.6769 0.0076    9.8153   63.7400\n",
      "--------------------------------------------------------------------\n",
      "Omnibus:               57.510        Durbin-Watson:           1.997 \n",
      "Prob(Omnibus):         0.000         Jarque-Bera (JB):        79.554\n",
      "Skew:                  -0.519        Prob(JB):                0.000 \n",
      "Kurtosis:              3.972         Condition No.:           1     \n",
      "====================================================================\n",
      "\n"
     ]
    }
   ],
   "source": [
    "print(lin_reg_model.summary2())"
   ]
  },
  {
   "cell_type": "code",
   "execution_count": 126,
   "metadata": {},
   "outputs": [
    {
     "data": {
      "text/plain": [
       "const            1770.416314\n",
       "HM_CALC           229.748465\n",
       "PRODUCTION_OB      36.777658\n",
       "dtype: float64"
      ]
     },
     "execution_count": 126,
     "metadata": {},
     "output_type": "execute_result"
    }
   ],
   "source": [
    "lin_reg_model.params"
   ]
  },
  {
   "cell_type": "code",
   "execution_count": 128,
   "metadata": {},
   "outputs": [],
   "source": [
    "y_pred_lin_reg_test = lin_reg_model.predict(sm.add_constant(X_test_scaled))\n",
    "y_pred_lin_reg_train = lin_reg_model.predict(sm.add_constant(X_train_scaled))"
   ]
  },
  {
   "cell_type": "code",
   "execution_count": 129,
   "metadata": {},
   "outputs": [
    {
     "name": "stdout",
     "output_type": "stream",
     "text": [
      "Linear Regression\n",
      "Train RMSE: 414.34974621299125\n",
      "Test RMSE: 403.60231032274174\n",
      "Train MAE: 306.4158666124819\n",
      "Test MAE: 301.022173376015\n",
      "Train R2 0.24999069258002682\n",
      "Test R2 0.23269471965111832\n"
     ]
    }
   ],
   "source": [
    "train_rmse = mean_squared_error(y_train, y_pred_lin_reg_train, squared=False)\n",
    "test_rmse = mean_squared_error(y_test, y_pred_lin_reg_test, squared=False)\n",
    "train_mae = mean_absolute_error(y_train, y_pred_lin_reg_train)\n",
    "test_mae = mean_absolute_error(y_test, y_pred_lin_reg_test)\n",
    "train_r2 = r2_score(y_train, y_pred_lin_reg_train)\n",
    "test_r2 = r2_score(y_test, y_pred_lin_reg_test)\n",
    "\n",
    "print(\"Linear Regression\")\n",
    "print(\"Train RMSE:\", train_rmse)\n",
    "print(\"Test RMSE:\", test_rmse)\n",
    "print(\"Train MAE:\", train_mae)\n",
    "print(\"Test MAE:\", test_mae)\n",
    "print(\"Train R2\", train_r2)\n",
    "print(\"Test R2\", test_r2)"
   ]
  },
  {
   "cell_type": "code",
   "execution_count": 130,
   "metadata": {},
   "outputs": [
    {
     "data": {
      "text/plain": [
       "const            1770.416314\n",
       "HM_CALC           229.748465\n",
       "PRODUCTION_OB      36.777658\n",
       "dtype: float64"
      ]
     },
     "execution_count": 130,
     "metadata": {},
     "output_type": "execute_result"
    }
   ],
   "source": [
    "lin_reg_model.params"
   ]
  },
  {
   "attachments": {},
   "cell_type": "markdown",
   "metadata": {},
   "source": [
    "**Findings**\n",
    "\n",
    "- Berdasarkan matrics evaluasi dapat diketahui bahwa model tidak cukup baik untuk melakukan prediksi kebutuhan bahan bakar, sehingga diperlukan tindakan lebih lanjut untuk mengevaluasi data yang tersedia.\n",
    "- Banyak sekali data point yang tidak sinkron, misalnya terdapat data produksi namun tidak ada data konsumsi bahan bakar, ada beberapa data bahan bakar yang tidak tersedia pada 1 file, namun tersedia pada file lain.\n",
    "- Data variabel yang tidak tersedia secara lengkap juga bisa jadi menjadi penyebab tidak baiknya model."
   ]
  }
 ],
 "metadata": {
  "kernelspec": {
   "display_name": "ds_env",
   "language": "python",
   "name": "python3"
  },
  "language_info": {
   "codemirror_mode": {
    "name": "ipython",
    "version": 3
   },
   "file_extension": ".py",
   "mimetype": "text/x-python",
   "name": "python",
   "nbconvert_exporter": "python",
   "pygments_lexer": "ipython3",
   "version": "3.10.9"
  },
  "orig_nbformat": 4,
  "vscode": {
   "interpreter": {
    "hash": "5879385c91744f75d306cfe78a4616a5dfd2e8f998e3c2491611c606660945a7"
   }
  }
 },
 "nbformat": 4,
 "nbformat_minor": 2
}
