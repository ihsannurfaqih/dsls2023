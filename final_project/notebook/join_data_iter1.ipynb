{
 "cells": [
  {
   "attachments": {},
   "cell_type": "markdown",
   "metadata": {},
   "source": [
    "# Import Packages"
   ]
  },
  {
   "cell_type": "code",
   "execution_count": 1,
   "metadata": {},
   "outputs": [],
   "source": [
    "import os\n",
    "import glob\n",
    "import pandas as pd\n",
    "import numpy as np\n",
    "from sklearn.linear_model import LinearRegression\n",
    "from sklearn.model_selection import train_test_split\n",
    "from sklearn.preprocessing import StandardScaler\n",
    "import matplotlib.pyplot as plt\n",
    "import seaborn as sns"
   ]
  },
  {
   "attachments": {},
   "cell_type": "markdown",
   "metadata": {},
   "source": [
    "# Import Raw Data"
   ]
  },
  {
   "attachments": {},
   "cell_type": "markdown",
   "metadata": {},
   "source": [
    "## Raw Data Fuel"
   ]
  },
  {
   "cell_type": "code",
   "execution_count": 2,
   "metadata": {},
   "outputs": [
    {
     "data": {
      "text/html": [
       "<div>\n",
       "<style scoped>\n",
       "    .dataframe tbody tr th:only-of-type {\n",
       "        vertical-align: middle;\n",
       "    }\n",
       "\n",
       "    .dataframe tbody tr th {\n",
       "        vertical-align: top;\n",
       "    }\n",
       "\n",
       "    .dataframe thead th {\n",
       "        text-align: right;\n",
       "    }\n",
       "</style>\n",
       "<table border=\"1\" class=\"dataframe\">\n",
       "  <thead>\n",
       "    <tr style=\"text-align: right;\">\n",
       "      <th></th>\n",
       "      <th>code_unit</th>\n",
       "      <th>EGI</th>\n",
       "      <th>tipe</th>\n",
       "      <th>date</th>\n",
       "      <th>hour</th>\n",
       "      <th>SLOC</th>\n",
       "      <th>amount</th>\n",
       "      <th>Hm</th>\n",
       "      <th>Consumption</th>\n",
       "      <th>HM</th>\n",
       "    </tr>\n",
       "  </thead>\n",
       "  <tbody>\n",
       "    <tr>\n",
       "      <th>1400</th>\n",
       "      <td>EX42</td>\n",
       "      <td>EGI 37</td>\n",
       "      <td>day</td>\n",
       "      <td>2022-11-24</td>\n",
       "      <td>12:07:00</td>\n",
       "      <td>CN403</td>\n",
       "      <td>877.0</td>\n",
       "      <td>29132.0</td>\n",
       "      <td>188.285714</td>\n",
       "      <td>7.0</td>\n",
       "    </tr>\n",
       "    <tr>\n",
       "      <th>85</th>\n",
       "      <td>EX41</td>\n",
       "      <td>EGI 37</td>\n",
       "      <td>night</td>\n",
       "      <td>2022-02-11</td>\n",
       "      <td>00:01:00</td>\n",
       "      <td>CN469</td>\n",
       "      <td>526.0</td>\n",
       "      <td>23322.0</td>\n",
       "      <td>67.000000</td>\n",
       "      <td>5.0</td>\n",
       "    </tr>\n",
       "    <tr>\n",
       "      <th>1840</th>\n",
       "      <td>EX43</td>\n",
       "      <td>EGI 87</td>\n",
       "      <td>night</td>\n",
       "      <td>2022-06-28</td>\n",
       "      <td>00:13:00</td>\n",
       "      <td>CN403</td>\n",
       "      <td>1000.0</td>\n",
       "      <td>24678.0</td>\n",
       "      <td>103.600000</td>\n",
       "      <td>10.0</td>\n",
       "    </tr>\n",
       "    <tr>\n",
       "      <th>1650</th>\n",
       "      <td>EX43</td>\n",
       "      <td>EGI 87</td>\n",
       "      <td>night</td>\n",
       "      <td>2022-03-27</td>\n",
       "      <td>00:27:00</td>\n",
       "      <td>CN404</td>\n",
       "      <td>564.0</td>\n",
       "      <td>23037.0</td>\n",
       "      <td>171.166667</td>\n",
       "      <td>6.0</td>\n",
       "    </tr>\n",
       "    <tr>\n",
       "      <th>1149</th>\n",
       "      <td>EX42</td>\n",
       "      <td>EGI 37</td>\n",
       "      <td>night</td>\n",
       "      <td>2022-07-23</td>\n",
       "      <td>00:10:00</td>\n",
       "      <td>CN403</td>\n",
       "      <td>1222.0</td>\n",
       "      <td>26959.0</td>\n",
       "      <td>92.833333</td>\n",
       "      <td>12.0</td>\n",
       "    </tr>\n",
       "    <tr>\n",
       "      <th>2766</th>\n",
       "      <td>EX44</td>\n",
       "      <td>EGI 87</td>\n",
       "      <td>night</td>\n",
       "      <td>2022-09-30</td>\n",
       "      <td>NaN</td>\n",
       "      <td>NaN</td>\n",
       "      <td>NaN</td>\n",
       "      <td>NaN</td>\n",
       "      <td>NaN</td>\n",
       "      <td>NaN</td>\n",
       "    </tr>\n",
       "    <tr>\n",
       "      <th>1756</th>\n",
       "      <td>EX43</td>\n",
       "      <td>EGI 87</td>\n",
       "      <td>night</td>\n",
       "      <td>2022-05-17</td>\n",
       "      <td>00:05:00</td>\n",
       "      <td>CN403</td>\n",
       "      <td>917.0</td>\n",
       "      <td>23925.0</td>\n",
       "      <td>101.000000</td>\n",
       "      <td>10.0</td>\n",
       "    </tr>\n",
       "    <tr>\n",
       "      <th>2019</th>\n",
       "      <td>EX43</td>\n",
       "      <td>EGI 87</td>\n",
       "      <td>night</td>\n",
       "      <td>2022-09-25</td>\n",
       "      <td>23:55:00</td>\n",
       "      <td>CN403</td>\n",
       "      <td>688.0</td>\n",
       "      <td>26195.0</td>\n",
       "      <td>99.750000</td>\n",
       "      <td>8.0</td>\n",
       "    </tr>\n",
       "    <tr>\n",
       "      <th>250</th>\n",
       "      <td>EX41</td>\n",
       "      <td>EGI 37</td>\n",
       "      <td>night</td>\n",
       "      <td>2022-05-04</td>\n",
       "      <td>23:45:00</td>\n",
       "      <td>CN404</td>\n",
       "      <td>647.0</td>\n",
       "      <td>24567.0</td>\n",
       "      <td>162.000000</td>\n",
       "      <td>7.0</td>\n",
       "    </tr>\n",
       "    <tr>\n",
       "      <th>544</th>\n",
       "      <td>EX41</td>\n",
       "      <td>EGI 37</td>\n",
       "      <td>night</td>\n",
       "      <td>2022-09-27</td>\n",
       "      <td>23:57:00</td>\n",
       "      <td>CN404</td>\n",
       "      <td>1172.0</td>\n",
       "      <td>27218.0</td>\n",
       "      <td>106.200000</td>\n",
       "      <td>10.0</td>\n",
       "    </tr>\n",
       "  </tbody>\n",
       "</table>\n",
       "</div>"
      ],
      "text/plain": [
       "     code_unit     EGI   tipe        date      hour   SLOC  amount       Hm  \\\n",
       "1400      EX42  EGI 37    day  2022-11-24  12:07:00  CN403   877.0  29132.0   \n",
       "85        EX41  EGI 37  night  2022-02-11  00:01:00  CN469   526.0  23322.0   \n",
       "1840      EX43  EGI 87  night  2022-06-28  00:13:00  CN403  1000.0  24678.0   \n",
       "1650      EX43  EGI 87  night  2022-03-27  00:27:00  CN404   564.0  23037.0   \n",
       "1149      EX42  EGI 37  night  2022-07-23  00:10:00  CN403  1222.0  26959.0   \n",
       "2766      EX44  EGI 87  night  2022-09-30       NaN    NaN     NaN      NaN   \n",
       "1756      EX43  EGI 87  night  2022-05-17  00:05:00  CN403   917.0  23925.0   \n",
       "2019      EX43  EGI 87  night  2022-09-25  23:55:00  CN403   688.0  26195.0   \n",
       "250       EX41  EGI 37  night  2022-05-04  23:45:00  CN404   647.0  24567.0   \n",
       "544       EX41  EGI 37  night  2022-09-27  23:57:00  CN404  1172.0  27218.0   \n",
       "\n",
       "      Consumption    HM  \n",
       "1400   188.285714   7.0  \n",
       "85      67.000000   5.0  \n",
       "1840   103.600000  10.0  \n",
       "1650   171.166667   6.0  \n",
       "1149    92.833333  12.0  \n",
       "2766          NaN   NaN  \n",
       "1756   101.000000  10.0  \n",
       "2019    99.750000   8.0  \n",
       "250    162.000000   7.0  \n",
       "544    106.200000  10.0  "
      ]
     },
     "execution_count": 2,
     "metadata": {},
     "output_type": "execute_result"
    }
   ],
   "source": [
    "fuel_raw = pd.read_excel('../data/processed/all_completed.xlsx')\n",
    "\n",
    "fuel_raw.sample(10)"
   ]
  },
  {
   "cell_type": "code",
   "execution_count": 3,
   "metadata": {},
   "outputs": [],
   "source": [
    "fuel_interim = fuel_raw.groupby(['code_unit',\n",
    "                                 'date']).agg({'amount':np.sum,\n",
    "                                               'HM':np.sum,\n",
    "                                               'Consumption':np.mean}).reset_index().copy()"
   ]
  },
  {
   "cell_type": "code",
   "execution_count": 4,
   "metadata": {},
   "outputs": [
    {
     "data": {
      "text/html": [
       "<div>\n",
       "<style scoped>\n",
       "    .dataframe tbody tr th:only-of-type {\n",
       "        vertical-align: middle;\n",
       "    }\n",
       "\n",
       "    .dataframe tbody tr th {\n",
       "        vertical-align: top;\n",
       "    }\n",
       "\n",
       "    .dataframe thead th {\n",
       "        text-align: right;\n",
       "    }\n",
       "</style>\n",
       "<table border=\"1\" class=\"dataframe\">\n",
       "  <thead>\n",
       "    <tr style=\"text-align: right;\">\n",
       "      <th></th>\n",
       "      <th>code_unit</th>\n",
       "      <th>date</th>\n",
       "      <th>amount</th>\n",
       "      <th>HM</th>\n",
       "      <th>Consumption</th>\n",
       "    </tr>\n",
       "  </thead>\n",
       "  <tbody>\n",
       "    <tr>\n",
       "      <th>556</th>\n",
       "      <td>EX42</td>\n",
       "      <td>2022-07-11</td>\n",
       "      <td>2271.0</td>\n",
       "      <td>3.0</td>\n",
       "      <td>448.666667</td>\n",
       "    </tr>\n",
       "    <tr>\n",
       "      <th>501</th>\n",
       "      <td>EX42</td>\n",
       "      <td>2022-05-17</td>\n",
       "      <td>1818.0</td>\n",
       "      <td>18.0</td>\n",
       "      <td>133.415584</td>\n",
       "    </tr>\n",
       "    <tr>\n",
       "      <th>45</th>\n",
       "      <td>EX41</td>\n",
       "      <td>2022-02-15</td>\n",
       "      <td>1102.0</td>\n",
       "      <td>18.0</td>\n",
       "      <td>76.441558</td>\n",
       "    </tr>\n",
       "    <tr>\n",
       "      <th>1153</th>\n",
       "      <td>EX44</td>\n",
       "      <td>2022-02-28</td>\n",
       "      <td>1926.0</td>\n",
       "      <td>21.0</td>\n",
       "      <td>70.700000</td>\n",
       "    </tr>\n",
       "    <tr>\n",
       "      <th>1086</th>\n",
       "      <td>EX43</td>\n",
       "      <td>2022-12-23</td>\n",
       "      <td>1920.0</td>\n",
       "      <td>18.0</td>\n",
       "      <td>107.912500</td>\n",
       "    </tr>\n",
       "    <tr>\n",
       "      <th>107</th>\n",
       "      <td>EX41</td>\n",
       "      <td>2022-04-18</td>\n",
       "      <td>0.0</td>\n",
       "      <td>0.0</td>\n",
       "      <td>NaN</td>\n",
       "    </tr>\n",
       "    <tr>\n",
       "      <th>941</th>\n",
       "      <td>EX43</td>\n",
       "      <td>2022-07-31</td>\n",
       "      <td>1304.0</td>\n",
       "      <td>14.0</td>\n",
       "      <td>171.800000</td>\n",
       "    </tr>\n",
       "    <tr>\n",
       "      <th>1311</th>\n",
       "      <td>EX44</td>\n",
       "      <td>2022-08-05</td>\n",
       "      <td>2055.0</td>\n",
       "      <td>19.0</td>\n",
       "      <td>95.344444</td>\n",
       "    </tr>\n",
       "    <tr>\n",
       "      <th>1052</th>\n",
       "      <td>EX43</td>\n",
       "      <td>2022-11-19</td>\n",
       "      <td>1555.0</td>\n",
       "      <td>16.0</td>\n",
       "      <td>117.812500</td>\n",
       "    </tr>\n",
       "    <tr>\n",
       "      <th>1072</th>\n",
       "      <td>EX43</td>\n",
       "      <td>2022-12-09</td>\n",
       "      <td>1807.0</td>\n",
       "      <td>19.0</td>\n",
       "      <td>113.477273</td>\n",
       "    </tr>\n",
       "  </tbody>\n",
       "</table>\n",
       "</div>"
      ],
      "text/plain": [
       "     code_unit        date  amount    HM  Consumption\n",
       "556       EX42  2022-07-11  2271.0   3.0   448.666667\n",
       "501       EX42  2022-05-17  1818.0  18.0   133.415584\n",
       "45        EX41  2022-02-15  1102.0  18.0    76.441558\n",
       "1153      EX44  2022-02-28  1926.0  21.0    70.700000\n",
       "1086      EX43  2022-12-23  1920.0  18.0   107.912500\n",
       "107       EX41  2022-04-18     0.0   0.0          NaN\n",
       "941       EX43  2022-07-31  1304.0  14.0   171.800000\n",
       "1311      EX44  2022-08-05  2055.0  19.0    95.344444\n",
       "1052      EX43  2022-11-19  1555.0  16.0   117.812500\n",
       "1072      EX43  2022-12-09  1807.0  19.0   113.477273"
      ]
     },
     "execution_count": 4,
     "metadata": {},
     "output_type": "execute_result"
    }
   ],
   "source": [
    "fuel_interim.sample(10)"
   ]
  },
  {
   "attachments": {},
   "cell_type": "markdown",
   "metadata": {},
   "source": [
    "## Raw Data Production"
   ]
  },
  {
   "cell_type": "code",
   "execution_count": 5,
   "metadata": {},
   "outputs": [
    {
     "data": {
      "text/html": [
       "<div>\n",
       "<style scoped>\n",
       "    .dataframe tbody tr th:only-of-type {\n",
       "        vertical-align: middle;\n",
       "    }\n",
       "\n",
       "    .dataframe tbody tr th {\n",
       "        vertical-align: top;\n",
       "    }\n",
       "\n",
       "    .dataframe thead th {\n",
       "        text-align: right;\n",
       "    }\n",
       "</style>\n",
       "<table border=\"1\" class=\"dataframe\">\n",
       "  <thead>\n",
       "    <tr style=\"text-align: right;\">\n",
       "      <th></th>\n",
       "      <th>date</th>\n",
       "      <th>Eq. Numb</th>\n",
       "      <th>EGI</th>\n",
       "      <th>HM</th>\n",
       "      <th>Production OB</th>\n",
       "    </tr>\n",
       "  </thead>\n",
       "  <tbody>\n",
       "    <tr>\n",
       "      <th>408</th>\n",
       "      <td>2022-09-07</td>\n",
       "      <td>EX41</td>\n",
       "      <td>Excavator</td>\n",
       "      <td>19.0</td>\n",
       "      <td>8118.0</td>\n",
       "    </tr>\n",
       "    <tr>\n",
       "      <th>104</th>\n",
       "      <td>2022-02-23</td>\n",
       "      <td>EX41</td>\n",
       "      <td>Excavator</td>\n",
       "      <td>20.0</td>\n",
       "      <td>9886.0</td>\n",
       "    </tr>\n",
       "    <tr>\n",
       "      <th>410</th>\n",
       "      <td>2022-09-08</td>\n",
       "      <td>EX41</td>\n",
       "      <td>Excavator</td>\n",
       "      <td>20.0</td>\n",
       "      <td>7832.0</td>\n",
       "    </tr>\n",
       "    <tr>\n",
       "      <th>18</th>\n",
       "      <td>2022-01-11</td>\n",
       "      <td>EX41</td>\n",
       "      <td>Excavator</td>\n",
       "      <td>21.0</td>\n",
       "      <td>11520.0</td>\n",
       "    </tr>\n",
       "    <tr>\n",
       "      <th>677</th>\n",
       "      <td>2023-01-27</td>\n",
       "      <td>EX43</td>\n",
       "      <td>Excavator</td>\n",
       "      <td>20.0</td>\n",
       "      <td>8382.0</td>\n",
       "    </tr>\n",
       "    <tr>\n",
       "      <th>67</th>\n",
       "      <td>2022-02-04</td>\n",
       "      <td>EX43</td>\n",
       "      <td>Excavator</td>\n",
       "      <td>13.0</td>\n",
       "      <td>7002.0</td>\n",
       "    </tr>\n",
       "    <tr>\n",
       "      <th>23</th>\n",
       "      <td>2022-01-13</td>\n",
       "      <td>EX43</td>\n",
       "      <td>Excavator</td>\n",
       "      <td>8.0</td>\n",
       "      <td>3420.0</td>\n",
       "    </tr>\n",
       "    <tr>\n",
       "      <th>14</th>\n",
       "      <td>2022-01-09</td>\n",
       "      <td>EX41</td>\n",
       "      <td>Excavator</td>\n",
       "      <td>15.0</td>\n",
       "      <td>6390.0</td>\n",
       "    </tr>\n",
       "    <tr>\n",
       "      <th>259</th>\n",
       "      <td>2022-06-21</td>\n",
       "      <td>EX43</td>\n",
       "      <td>Excavator</td>\n",
       "      <td>18.0</td>\n",
       "      <td>7744.0</td>\n",
       "    </tr>\n",
       "    <tr>\n",
       "      <th>443</th>\n",
       "      <td>2022-10-02</td>\n",
       "      <td>EX43</td>\n",
       "      <td>Excavator</td>\n",
       "      <td>11.0</td>\n",
       "      <td>4889.0</td>\n",
       "    </tr>\n",
       "  </tbody>\n",
       "</table>\n",
       "</div>"
      ],
      "text/plain": [
       "          date Eq. Numb        EGI    HM  Production OB\n",
       "408 2022-09-07     EX41  Excavator  19.0         8118.0\n",
       "104 2022-02-23     EX41  Excavator  20.0         9886.0\n",
       "410 2022-09-08     EX41  Excavator  20.0         7832.0\n",
       "18  2022-01-11     EX41  Excavator  21.0        11520.0\n",
       "677 2023-01-27     EX43  Excavator  20.0         8382.0\n",
       "67  2022-02-04     EX43  Excavator  13.0         7002.0\n",
       "23  2022-01-13     EX43  Excavator   8.0         3420.0\n",
       "14  2022-01-09     EX41  Excavator  15.0         6390.0\n",
       "259 2022-06-21     EX43  Excavator  18.0         7744.0\n",
       "443 2022-10-02     EX43  Excavator  11.0         4889.0"
      ]
     },
     "execution_count": 5,
     "metadata": {},
     "output_type": "execute_result"
    }
   ],
   "source": [
    "production = pd.read_excel('../data/processed/Produksi EX41 dan EX43.ods')\n",
    "\n",
    "production.sample(10)"
   ]
  },
  {
   "cell_type": "code",
   "execution_count": 6,
   "metadata": {},
   "outputs": [],
   "source": [
    "production_interim = production[['date',\n",
    "                                 'Eq. Numb',\n",
    "                                 'HM',\n",
    "                                 'Production OB']].copy()"
   ]
  },
  {
   "cell_type": "code",
   "execution_count": 7,
   "metadata": {},
   "outputs": [],
   "source": [
    "production_interim.rename(columns={\"Eq. Numb\": \"code_unit\"}, inplace=True)"
   ]
  },
  {
   "cell_type": "code",
   "execution_count": 8,
   "metadata": {},
   "outputs": [
    {
     "name": "stdout",
     "output_type": "stream",
     "text": [
      "<class 'pandas.core.frame.DataFrame'>\n",
      "RangeIndex: 718 entries, 0 to 717\n",
      "Data columns (total 4 columns):\n",
      " #   Column         Non-Null Count  Dtype         \n",
      "---  ------         --------------  -----         \n",
      " 0   date           718 non-null    datetime64[ns]\n",
      " 1   code_unit      718 non-null    object        \n",
      " 2   HM             718 non-null    float64       \n",
      " 3   Production OB  718 non-null    float64       \n",
      "dtypes: datetime64[ns](1), float64(2), object(1)\n",
      "memory usage: 22.6+ KB\n"
     ]
    }
   ],
   "source": [
    "production_interim.info()"
   ]
  },
  {
   "cell_type": "code",
   "execution_count": 9,
   "metadata": {},
   "outputs": [
    {
     "data": {
      "text/html": [
       "<div>\n",
       "<style scoped>\n",
       "    .dataframe tbody tr th:only-of-type {\n",
       "        vertical-align: middle;\n",
       "    }\n",
       "\n",
       "    .dataframe tbody tr th {\n",
       "        vertical-align: top;\n",
       "    }\n",
       "\n",
       "    .dataframe thead th {\n",
       "        text-align: right;\n",
       "    }\n",
       "</style>\n",
       "<table border=\"1\" class=\"dataframe\">\n",
       "  <thead>\n",
       "    <tr style=\"text-align: right;\">\n",
       "      <th></th>\n",
       "      <th>date</th>\n",
       "      <th>code_unit</th>\n",
       "      <th>HM</th>\n",
       "      <th>Production OB</th>\n",
       "    </tr>\n",
       "  </thead>\n",
       "  <tbody>\n",
       "    <tr>\n",
       "      <th>118</th>\n",
       "      <td>2022-03-02</td>\n",
       "      <td>EX41</td>\n",
       "      <td>0.0</td>\n",
       "      <td>0.0</td>\n",
       "    </tr>\n",
       "    <tr>\n",
       "      <th>322</th>\n",
       "      <td>2022-07-26</td>\n",
       "      <td>EX41</td>\n",
       "      <td>14.0</td>\n",
       "      <td>6133.5</td>\n",
       "    </tr>\n",
       "    <tr>\n",
       "      <th>405</th>\n",
       "      <td>2022-09-05</td>\n",
       "      <td>EX43</td>\n",
       "      <td>13.0</td>\n",
       "      <td>4221.0</td>\n",
       "    </tr>\n",
       "    <tr>\n",
       "      <th>21</th>\n",
       "      <td>2022-01-12</td>\n",
       "      <td>EX43</td>\n",
       "      <td>0.0</td>\n",
       "      <td>0.0</td>\n",
       "    </tr>\n",
       "    <tr>\n",
       "      <th>290</th>\n",
       "      <td>2022-07-09</td>\n",
       "      <td>EX41</td>\n",
       "      <td>10.0</td>\n",
       "      <td>5220.0</td>\n",
       "    </tr>\n",
       "    <tr>\n",
       "      <th>73</th>\n",
       "      <td>2022-02-07</td>\n",
       "      <td>EX43</td>\n",
       "      <td>21.0</td>\n",
       "      <td>10386.0</td>\n",
       "    </tr>\n",
       "    <tr>\n",
       "      <th>540</th>\n",
       "      <td>2022-11-20</td>\n",
       "      <td>EX41</td>\n",
       "      <td>20.0</td>\n",
       "      <td>7590.8</td>\n",
       "    </tr>\n",
       "    <tr>\n",
       "      <th>86</th>\n",
       "      <td>2022-02-14</td>\n",
       "      <td>EX41</td>\n",
       "      <td>9.0</td>\n",
       "      <td>3885.0</td>\n",
       "    </tr>\n",
       "    <tr>\n",
       "      <th>199</th>\n",
       "      <td>2022-04-11</td>\n",
       "      <td>EX43</td>\n",
       "      <td>21.0</td>\n",
       "      <td>9695.0</td>\n",
       "    </tr>\n",
       "    <tr>\n",
       "      <th>166</th>\n",
       "      <td>2022-03-26</td>\n",
       "      <td>EX41</td>\n",
       "      <td>18.0</td>\n",
       "      <td>8624.0</td>\n",
       "    </tr>\n",
       "  </tbody>\n",
       "</table>\n",
       "</div>"
      ],
      "text/plain": [
       "          date code_unit    HM  Production OB\n",
       "118 2022-03-02      EX41   0.0            0.0\n",
       "322 2022-07-26      EX41  14.0         6133.5\n",
       "405 2022-09-05      EX43  13.0         4221.0\n",
       "21  2022-01-12      EX43   0.0            0.0\n",
       "290 2022-07-09      EX41  10.0         5220.0\n",
       "73  2022-02-07      EX43  21.0        10386.0\n",
       "540 2022-11-20      EX41  20.0         7590.8\n",
       "86  2022-02-14      EX41   9.0         3885.0\n",
       "199 2022-04-11      EX43  21.0         9695.0\n",
       "166 2022-03-26      EX41  18.0         8624.0"
      ]
     },
     "execution_count": 9,
     "metadata": {},
     "output_type": "execute_result"
    }
   ],
   "source": [
    "production_interim.sample(10)"
   ]
  },
  {
   "cell_type": "code",
   "execution_count": 10,
   "metadata": {},
   "outputs": [],
   "source": [
    "production_interim['date'] = production_interim['date'].astype(str) "
   ]
  },
  {
   "attachments": {},
   "cell_type": "markdown",
   "metadata": {},
   "source": [
    "## Raw Data Ritase"
   ]
  },
  {
   "cell_type": "code",
   "execution_count": 11,
   "metadata": {},
   "outputs": [
    {
     "data": {
      "text/html": [
       "<div>\n",
       "<style scoped>\n",
       "    .dataframe tbody tr th:only-of-type {\n",
       "        vertical-align: middle;\n",
       "    }\n",
       "\n",
       "    .dataframe tbody tr th {\n",
       "        vertical-align: top;\n",
       "    }\n",
       "\n",
       "    .dataframe thead th {\n",
       "        text-align: right;\n",
       "    }\n",
       "</style>\n",
       "<table border=\"1\" class=\"dataframe\">\n",
       "  <thead>\n",
       "    <tr style=\"text-align: right;\">\n",
       "      <th></th>\n",
       "      <th>date</th>\n",
       "      <th>ritase</th>\n",
       "      <th>code_unit</th>\n",
       "      <th>OB</th>\n",
       "    </tr>\n",
       "  </thead>\n",
       "  <tbody>\n",
       "    <tr>\n",
       "      <th>0</th>\n",
       "      <td>2022-01-01</td>\n",
       "      <td>0</td>\n",
       "      <td>EX42</td>\n",
       "      <td>0</td>\n",
       "    </tr>\n",
       "    <tr>\n",
       "      <th>1</th>\n",
       "      <td>2022-01-02</td>\n",
       "      <td>135</td>\n",
       "      <td>EX42</td>\n",
       "      <td>5805</td>\n",
       "    </tr>\n",
       "    <tr>\n",
       "      <th>2</th>\n",
       "      <td>2022-01-03</td>\n",
       "      <td>149</td>\n",
       "      <td>EX42</td>\n",
       "      <td>6407</td>\n",
       "    </tr>\n",
       "    <tr>\n",
       "      <th>3</th>\n",
       "      <td>2022-01-04</td>\n",
       "      <td>159</td>\n",
       "      <td>EX42</td>\n",
       "      <td>6837</td>\n",
       "    </tr>\n",
       "    <tr>\n",
       "      <th>4</th>\n",
       "      <td>2022-01-05</td>\n",
       "      <td>135</td>\n",
       "      <td>EX42</td>\n",
       "      <td>5805</td>\n",
       "    </tr>\n",
       "    <tr>\n",
       "      <th>...</th>\n",
       "      <td>...</td>\n",
       "      <td>...</td>\n",
       "      <td>...</td>\n",
       "      <td>...</td>\n",
       "    </tr>\n",
       "    <tr>\n",
       "      <th>727</th>\n",
       "      <td>2022-12-28</td>\n",
       "      <td>211</td>\n",
       "      <td>EX44</td>\n",
       "      <td>9073</td>\n",
       "    </tr>\n",
       "    <tr>\n",
       "      <th>728</th>\n",
       "      <td>2022-12-29</td>\n",
       "      <td>164</td>\n",
       "      <td>EX44</td>\n",
       "      <td>7052</td>\n",
       "    </tr>\n",
       "    <tr>\n",
       "      <th>729</th>\n",
       "      <td>2022-12-30</td>\n",
       "      <td>255</td>\n",
       "      <td>EX44</td>\n",
       "      <td>10965</td>\n",
       "    </tr>\n",
       "    <tr>\n",
       "      <th>730</th>\n",
       "      <td>2022-12-31</td>\n",
       "      <td>192</td>\n",
       "      <td>EX44</td>\n",
       "      <td>8256</td>\n",
       "    </tr>\n",
       "    <tr>\n",
       "      <th>731</th>\n",
       "      <td>2023-01-01</td>\n",
       "      <td>0</td>\n",
       "      <td>EX44</td>\n",
       "      <td>0</td>\n",
       "    </tr>\n",
       "  </tbody>\n",
       "</table>\n",
       "<p>732 rows × 4 columns</p>\n",
       "</div>"
      ],
      "text/plain": [
       "           date  ritase code_unit     OB\n",
       "0    2022-01-01       0      EX42      0\n",
       "1    2022-01-02     135      EX42   5805\n",
       "2    2022-01-03     149      EX42   6407\n",
       "3    2022-01-04     159      EX42   6837\n",
       "4    2022-01-05     135      EX42   5805\n",
       "..          ...     ...       ...    ...\n",
       "727  2022-12-28     211      EX44   9073\n",
       "728  2022-12-29     164      EX44   7052\n",
       "729  2022-12-30     255      EX44  10965\n",
       "730  2022-12-31     192      EX44   8256\n",
       "731  2023-01-01       0      EX44      0\n",
       "\n",
       "[732 rows x 4 columns]"
      ]
     },
     "execution_count": 11,
     "metadata": {},
     "output_type": "execute_result"
    }
   ],
   "source": [
    "ritase_files = glob.glob('../data/processed/ritase_*.xls')\n",
    "\n",
    "temp = []\n",
    "for i in ritase_files:\n",
    "      frame = pd.read_csv(i)\n",
    "      frame['code_unit'] = i[25:29].upper()\n",
    "      temp.append(frame)\n",
    "\n",
    "ritase = pd.concat(temp, axis=0, ignore_index=True)\n",
    "\n",
    "ritase['OB'] = ritase['ritase'] * 43\n",
    "\n",
    "ritase"
   ]
  },
  {
   "cell_type": "code",
   "execution_count": 12,
   "metadata": {},
   "outputs": [],
   "source": [
    "ritase_interim = ritase[['date', 'code_unit', 'OB']].copy()"
   ]
  },
  {
   "cell_type": "code",
   "execution_count": 13,
   "metadata": {},
   "outputs": [],
   "source": [
    "ritase_interim.rename(columns={\"OB\": \"Production OB\"}, inplace=True)"
   ]
  },
  {
   "cell_type": "code",
   "execution_count": 14,
   "metadata": {},
   "outputs": [
    {
     "data": {
      "text/html": [
       "<div>\n",
       "<style scoped>\n",
       "    .dataframe tbody tr th:only-of-type {\n",
       "        vertical-align: middle;\n",
       "    }\n",
       "\n",
       "    .dataframe tbody tr th {\n",
       "        vertical-align: top;\n",
       "    }\n",
       "\n",
       "    .dataframe thead th {\n",
       "        text-align: right;\n",
       "    }\n",
       "</style>\n",
       "<table border=\"1\" class=\"dataframe\">\n",
       "  <thead>\n",
       "    <tr style=\"text-align: right;\">\n",
       "      <th></th>\n",
       "      <th>date</th>\n",
       "      <th>code_unit</th>\n",
       "      <th>Production OB</th>\n",
       "    </tr>\n",
       "  </thead>\n",
       "  <tbody>\n",
       "    <tr>\n",
       "      <th>653</th>\n",
       "      <td>2022-10-15</td>\n",
       "      <td>EX44</td>\n",
       "      <td>11094</td>\n",
       "    </tr>\n",
       "    <tr>\n",
       "      <th>300</th>\n",
       "      <td>2022-10-28</td>\n",
       "      <td>EX42</td>\n",
       "      <td>11653</td>\n",
       "    </tr>\n",
       "    <tr>\n",
       "      <th>713</th>\n",
       "      <td>2022-12-14</td>\n",
       "      <td>EX44</td>\n",
       "      <td>9976</td>\n",
       "    </tr>\n",
       "    <tr>\n",
       "      <th>183</th>\n",
       "      <td>2022-07-03</td>\n",
       "      <td>EX42</td>\n",
       "      <td>8471</td>\n",
       "    </tr>\n",
       "    <tr>\n",
       "      <th>615</th>\n",
       "      <td>2022-09-07</td>\n",
       "      <td>EX44</td>\n",
       "      <td>9632</td>\n",
       "    </tr>\n",
       "    <tr>\n",
       "      <th>48</th>\n",
       "      <td>2022-02-18</td>\n",
       "      <td>EX42</td>\n",
       "      <td>5074</td>\n",
       "    </tr>\n",
       "    <tr>\n",
       "      <th>559</th>\n",
       "      <td>2022-07-13</td>\n",
       "      <td>EX44</td>\n",
       "      <td>7783</td>\n",
       "    </tr>\n",
       "    <tr>\n",
       "      <th>146</th>\n",
       "      <td>2022-05-27</td>\n",
       "      <td>EX42</td>\n",
       "      <td>9632</td>\n",
       "    </tr>\n",
       "    <tr>\n",
       "      <th>536</th>\n",
       "      <td>2022-06-20</td>\n",
       "      <td>EX44</td>\n",
       "      <td>9675</td>\n",
       "    </tr>\n",
       "    <tr>\n",
       "      <th>599</th>\n",
       "      <td>2022-08-22</td>\n",
       "      <td>EX44</td>\n",
       "      <td>5332</td>\n",
       "    </tr>\n",
       "  </tbody>\n",
       "</table>\n",
       "</div>"
      ],
      "text/plain": [
       "           date code_unit  Production OB\n",
       "653  2022-10-15      EX44          11094\n",
       "300  2022-10-28      EX42          11653\n",
       "713  2022-12-14      EX44           9976\n",
       "183  2022-07-03      EX42           8471\n",
       "615  2022-09-07      EX44           9632\n",
       "48   2022-02-18      EX42           5074\n",
       "559  2022-07-13      EX44           7783\n",
       "146  2022-05-27      EX42           9632\n",
       "536  2022-06-20      EX44           9675\n",
       "599  2022-08-22      EX44           5332"
      ]
     },
     "execution_count": 14,
     "metadata": {},
     "output_type": "execute_result"
    }
   ],
   "source": [
    "ritase_interim.sample(10)"
   ]
  },
  {
   "cell_type": "code",
   "execution_count": 15,
   "metadata": {},
   "outputs": [
    {
     "data": {
      "text/html": [
       "<div>\n",
       "<style scoped>\n",
       "    .dataframe tbody tr th:only-of-type {\n",
       "        vertical-align: middle;\n",
       "    }\n",
       "\n",
       "    .dataframe tbody tr th {\n",
       "        vertical-align: top;\n",
       "    }\n",
       "\n",
       "    .dataframe thead th {\n",
       "        text-align: right;\n",
       "    }\n",
       "</style>\n",
       "<table border=\"1\" class=\"dataframe\">\n",
       "  <thead>\n",
       "    <tr style=\"text-align: right;\">\n",
       "      <th></th>\n",
       "      <th>date</th>\n",
       "      <th>code_unit</th>\n",
       "      <th>HM</th>\n",
       "      <th>Production OB</th>\n",
       "    </tr>\n",
       "  </thead>\n",
       "  <tbody>\n",
       "    <tr>\n",
       "      <th>629</th>\n",
       "      <td>2022-09-21</td>\n",
       "      <td>EX44</td>\n",
       "      <td>NaN</td>\n",
       "      <td>8385</td>\n",
       "    </tr>\n",
       "    <tr>\n",
       "      <th>115</th>\n",
       "      <td>2022-04-26</td>\n",
       "      <td>EX42</td>\n",
       "      <td>NaN</td>\n",
       "      <td>9761</td>\n",
       "    </tr>\n",
       "    <tr>\n",
       "      <th>565</th>\n",
       "      <td>2022-07-19</td>\n",
       "      <td>EX44</td>\n",
       "      <td>NaN</td>\n",
       "      <td>10062</td>\n",
       "    </tr>\n",
       "    <tr>\n",
       "      <th>443</th>\n",
       "      <td>2022-03-19</td>\n",
       "      <td>EX44</td>\n",
       "      <td>NaN</td>\n",
       "      <td>7181</td>\n",
       "    </tr>\n",
       "    <tr>\n",
       "      <th>551</th>\n",
       "      <td>2022-07-05</td>\n",
       "      <td>EX44</td>\n",
       "      <td>NaN</td>\n",
       "      <td>8600</td>\n",
       "    </tr>\n",
       "  </tbody>\n",
       "</table>\n",
       "</div>"
      ],
      "text/plain": [
       "           date code_unit  HM  Production OB\n",
       "629  2022-09-21      EX44 NaN           8385\n",
       "115  2022-04-26      EX42 NaN           9761\n",
       "565  2022-07-19      EX44 NaN          10062\n",
       "443  2022-03-19      EX44 NaN           7181\n",
       "551  2022-07-05      EX44 NaN           8600"
      ]
     },
     "execution_count": 15,
     "metadata": {},
     "output_type": "execute_result"
    }
   ],
   "source": [
    "ritase_interim.insert(2, 'HM', np.nan)\n",
    "\n",
    "ritase_interim.sample(5)"
   ]
  },
  {
   "cell_type": "code",
   "execution_count": 16,
   "metadata": {},
   "outputs": [
    {
     "name": "stdout",
     "output_type": "stream",
     "text": [
      "<class 'pandas.core.frame.DataFrame'>\n",
      "RangeIndex: 732 entries, 0 to 731\n",
      "Data columns (total 4 columns):\n",
      " #   Column         Non-Null Count  Dtype  \n",
      "---  ------         --------------  -----  \n",
      " 0   date           732 non-null    object \n",
      " 1   code_unit      732 non-null    object \n",
      " 2   HM             0 non-null      float64\n",
      " 3   Production OB  732 non-null    int64  \n",
      "dtypes: float64(1), int64(1), object(2)\n",
      "memory usage: 23.0+ KB\n"
     ]
    }
   ],
   "source": [
    "ritase_interim.info()"
   ]
  },
  {
   "cell_type": "code",
   "execution_count": 17,
   "metadata": {},
   "outputs": [
    {
     "data": {
      "text/html": [
       "<div>\n",
       "<style scoped>\n",
       "    .dataframe tbody tr th:only-of-type {\n",
       "        vertical-align: middle;\n",
       "    }\n",
       "\n",
       "    .dataframe tbody tr th {\n",
       "        vertical-align: top;\n",
       "    }\n",
       "\n",
       "    .dataframe thead th {\n",
       "        text-align: right;\n",
       "    }\n",
       "</style>\n",
       "<table border=\"1\" class=\"dataframe\">\n",
       "  <thead>\n",
       "    <tr style=\"text-align: right;\">\n",
       "      <th></th>\n",
       "      <th>date</th>\n",
       "      <th>code_unit</th>\n",
       "      <th>HM</th>\n",
       "      <th>Production OB</th>\n",
       "    </tr>\n",
       "  </thead>\n",
       "  <tbody>\n",
       "    <tr>\n",
       "      <th>1153</th>\n",
       "      <td>2022-03-11</td>\n",
       "      <td>EX44</td>\n",
       "      <td>NaN</td>\n",
       "      <td>8772.0</td>\n",
       "    </tr>\n",
       "    <tr>\n",
       "      <th>1421</th>\n",
       "      <td>2022-12-04</td>\n",
       "      <td>EX44</td>\n",
       "      <td>NaN</td>\n",
       "      <td>0.0</td>\n",
       "    </tr>\n",
       "    <tr>\n",
       "      <th>1136</th>\n",
       "      <td>2022-02-22</td>\n",
       "      <td>EX44</td>\n",
       "      <td>NaN</td>\n",
       "      <td>4257.0</td>\n",
       "    </tr>\n",
       "    <tr>\n",
       "      <th>767</th>\n",
       "      <td>2022-02-19</td>\n",
       "      <td>EX42</td>\n",
       "      <td>NaN</td>\n",
       "      <td>9847.0</td>\n",
       "    </tr>\n",
       "    <tr>\n",
       "      <th>117</th>\n",
       "      <td>2022-03-01</td>\n",
       "      <td>EX43</td>\n",
       "      <td>20.0</td>\n",
       "      <td>9087.0</td>\n",
       "    </tr>\n",
       "  </tbody>\n",
       "</table>\n",
       "</div>"
      ],
      "text/plain": [
       "            date code_unit    HM  Production OB\n",
       "1153  2022-03-11      EX44   NaN         8772.0\n",
       "1421  2022-12-04      EX44   NaN            0.0\n",
       "1136  2022-02-22      EX44   NaN         4257.0\n",
       "767   2022-02-19      EX42   NaN         9847.0\n",
       "117   2022-03-01      EX43  20.0         9087.0"
      ]
     },
     "execution_count": 17,
     "metadata": {},
     "output_type": "execute_result"
    }
   ],
   "source": [
    "production_final = pd.concat([production_interim, ritase_interim], \n",
    "                             axis=0, ignore_index=True)\n",
    "\n",
    "production_final.sample(5)"
   ]
  },
  {
   "cell_type": "code",
   "execution_count": 18,
   "metadata": {},
   "outputs": [
    {
     "data": {
      "text/html": [
       "<div>\n",
       "<style scoped>\n",
       "    .dataframe tbody tr th:only-of-type {\n",
       "        vertical-align: middle;\n",
       "    }\n",
       "\n",
       "    .dataframe tbody tr th {\n",
       "        vertical-align: top;\n",
       "    }\n",
       "\n",
       "    .dataframe thead th {\n",
       "        text-align: right;\n",
       "    }\n",
       "</style>\n",
       "<table border=\"1\" class=\"dataframe\">\n",
       "  <thead>\n",
       "    <tr style=\"text-align: right;\">\n",
       "      <th></th>\n",
       "      <th>date</th>\n",
       "      <th>code_unit</th>\n",
       "      <th>HM</th>\n",
       "      <th>Production OB</th>\n",
       "    </tr>\n",
       "  </thead>\n",
       "  <tbody>\n",
       "    <tr>\n",
       "      <th>0</th>\n",
       "      <td>2022-01-02</td>\n",
       "      <td>EX41</td>\n",
       "      <td>20.0</td>\n",
       "      <td>10350.0</td>\n",
       "    </tr>\n",
       "    <tr>\n",
       "      <th>1</th>\n",
       "      <td>2022-01-02</td>\n",
       "      <td>EX43</td>\n",
       "      <td>21.0</td>\n",
       "      <td>10800.0</td>\n",
       "    </tr>\n",
       "    <tr>\n",
       "      <th>2</th>\n",
       "      <td>2022-01-03</td>\n",
       "      <td>EX41</td>\n",
       "      <td>22.0</td>\n",
       "      <td>11565.0</td>\n",
       "    </tr>\n",
       "    <tr>\n",
       "      <th>3</th>\n",
       "      <td>2022-01-03</td>\n",
       "      <td>EX43</td>\n",
       "      <td>21.0</td>\n",
       "      <td>9675.0</td>\n",
       "    </tr>\n",
       "    <tr>\n",
       "      <th>4</th>\n",
       "      <td>2022-01-04</td>\n",
       "      <td>EX41</td>\n",
       "      <td>14.0</td>\n",
       "      <td>6750.0</td>\n",
       "    </tr>\n",
       "    <tr>\n",
       "      <th>...</th>\n",
       "      <td>...</td>\n",
       "      <td>...</td>\n",
       "      <td>...</td>\n",
       "      <td>...</td>\n",
       "    </tr>\n",
       "    <tr>\n",
       "      <th>1445</th>\n",
       "      <td>2022-12-28</td>\n",
       "      <td>EX44</td>\n",
       "      <td>NaN</td>\n",
       "      <td>9073.0</td>\n",
       "    </tr>\n",
       "    <tr>\n",
       "      <th>1446</th>\n",
       "      <td>2022-12-29</td>\n",
       "      <td>EX44</td>\n",
       "      <td>NaN</td>\n",
       "      <td>7052.0</td>\n",
       "    </tr>\n",
       "    <tr>\n",
       "      <th>1447</th>\n",
       "      <td>2022-12-30</td>\n",
       "      <td>EX44</td>\n",
       "      <td>NaN</td>\n",
       "      <td>10965.0</td>\n",
       "    </tr>\n",
       "    <tr>\n",
       "      <th>1448</th>\n",
       "      <td>2022-12-31</td>\n",
       "      <td>EX44</td>\n",
       "      <td>NaN</td>\n",
       "      <td>8256.0</td>\n",
       "    </tr>\n",
       "    <tr>\n",
       "      <th>1449</th>\n",
       "      <td>2023-01-01</td>\n",
       "      <td>EX44</td>\n",
       "      <td>NaN</td>\n",
       "      <td>0.0</td>\n",
       "    </tr>\n",
       "  </tbody>\n",
       "</table>\n",
       "<p>1450 rows × 4 columns</p>\n",
       "</div>"
      ],
      "text/plain": [
       "            date code_unit    HM  Production OB\n",
       "0     2022-01-02      EX41  20.0        10350.0\n",
       "1     2022-01-02      EX43  21.0        10800.0\n",
       "2     2022-01-03      EX41  22.0        11565.0\n",
       "3     2022-01-03      EX43  21.0         9675.0\n",
       "4     2022-01-04      EX41  14.0         6750.0\n",
       "...          ...       ...   ...            ...\n",
       "1445  2022-12-28      EX44   NaN         9073.0\n",
       "1446  2022-12-29      EX44   NaN         7052.0\n",
       "1447  2022-12-30      EX44   NaN        10965.0\n",
       "1448  2022-12-31      EX44   NaN         8256.0\n",
       "1449  2023-01-01      EX44   NaN            0.0\n",
       "\n",
       "[1450 rows x 4 columns]"
      ]
     },
     "execution_count": 18,
     "metadata": {},
     "output_type": "execute_result"
    }
   ],
   "source": [
    "production_final"
   ]
  },
  {
   "cell_type": "code",
   "execution_count": 19,
   "metadata": {},
   "outputs": [
    {
     "data": {
      "text/plain": [
       "array(['EX41', 'EX43', 'EX42', 'EX44'], dtype=object)"
      ]
     },
     "execution_count": 19,
     "metadata": {},
     "output_type": "execute_result"
    }
   ],
   "source": [
    "production_final['code_unit'].unique()"
   ]
  },
  {
   "attachments": {},
   "cell_type": "markdown",
   "metadata": {},
   "source": [
    "## Finalize Data"
   ]
  },
  {
   "cell_type": "code",
   "execution_count": 20,
   "metadata": {},
   "outputs": [
    {
     "data": {
      "text/html": [
       "<div>\n",
       "<style scoped>\n",
       "    .dataframe tbody tr th:only-of-type {\n",
       "        vertical-align: middle;\n",
       "    }\n",
       "\n",
       "    .dataframe tbody tr th {\n",
       "        vertical-align: top;\n",
       "    }\n",
       "\n",
       "    .dataframe thead th {\n",
       "        text-align: right;\n",
       "    }\n",
       "</style>\n",
       "<table border=\"1\" class=\"dataframe\">\n",
       "  <thead>\n",
       "    <tr style=\"text-align: right;\">\n",
       "      <th></th>\n",
       "      <th>code_unit</th>\n",
       "      <th>date</th>\n",
       "      <th>amount</th>\n",
       "      <th>HM</th>\n",
       "      <th>Consumption</th>\n",
       "    </tr>\n",
       "  </thead>\n",
       "  <tbody>\n",
       "    <tr>\n",
       "      <th>1337</th>\n",
       "      <td>EX44</td>\n",
       "      <td>2022-08-31</td>\n",
       "      <td>2051.0</td>\n",
       "      <td>11.0</td>\n",
       "      <td>84.272727</td>\n",
       "    </tr>\n",
       "    <tr>\n",
       "      <th>1220</th>\n",
       "      <td>EX44</td>\n",
       "      <td>2022-05-06</td>\n",
       "      <td>1319.0</td>\n",
       "      <td>16.0</td>\n",
       "      <td>111.363636</td>\n",
       "    </tr>\n",
       "    <tr>\n",
       "      <th>213</th>\n",
       "      <td>EX41</td>\n",
       "      <td>2022-08-02</td>\n",
       "      <td>2106.0</td>\n",
       "      <td>19.0</td>\n",
       "      <td>120.577778</td>\n",
       "    </tr>\n",
       "    <tr>\n",
       "      <th>228</th>\n",
       "      <td>EX41</td>\n",
       "      <td>2022-08-17</td>\n",
       "      <td>0.0</td>\n",
       "      <td>0.0</td>\n",
       "      <td>NaN</td>\n",
       "    </tr>\n",
       "    <tr>\n",
       "      <th>1218</th>\n",
       "      <td>EX44</td>\n",
       "      <td>2022-05-04</td>\n",
       "      <td>1568.0</td>\n",
       "      <td>18.0</td>\n",
       "      <td>86.000000</td>\n",
       "    </tr>\n",
       "  </tbody>\n",
       "</table>\n",
       "</div>"
      ],
      "text/plain": [
       "     code_unit        date  amount    HM  Consumption\n",
       "1337      EX44  2022-08-31  2051.0  11.0    84.272727\n",
       "1220      EX44  2022-05-06  1319.0  16.0   111.363636\n",
       "213       EX41  2022-08-02  2106.0  19.0   120.577778\n",
       "228       EX41  2022-08-17     0.0   0.0          NaN\n",
       "1218      EX44  2022-05-04  1568.0  18.0    86.000000"
      ]
     },
     "execution_count": 20,
     "metadata": {},
     "output_type": "execute_result"
    }
   ],
   "source": [
    "fuel_interim.sample(5)"
   ]
  },
  {
   "cell_type": "code",
   "execution_count": 21,
   "metadata": {},
   "outputs": [
    {
     "data": {
      "text/html": [
       "<div>\n",
       "<style scoped>\n",
       "    .dataframe tbody tr th:only-of-type {\n",
       "        vertical-align: middle;\n",
       "    }\n",
       "\n",
       "    .dataframe tbody tr th {\n",
       "        vertical-align: top;\n",
       "    }\n",
       "\n",
       "    .dataframe thead th {\n",
       "        text-align: right;\n",
       "    }\n",
       "</style>\n",
       "<table border=\"1\" class=\"dataframe\">\n",
       "  <thead>\n",
       "    <tr style=\"text-align: right;\">\n",
       "      <th></th>\n",
       "      <th>date</th>\n",
       "      <th>code_unit</th>\n",
       "      <th>HM</th>\n",
       "      <th>Production OB</th>\n",
       "    </tr>\n",
       "  </thead>\n",
       "  <tbody>\n",
       "    <tr>\n",
       "      <th>158</th>\n",
       "      <td>2022-03-22</td>\n",
       "      <td>EX41</td>\n",
       "      <td>17.0</td>\n",
       "      <td>8536.0</td>\n",
       "    </tr>\n",
       "    <tr>\n",
       "      <th>18</th>\n",
       "      <td>2022-01-11</td>\n",
       "      <td>EX41</td>\n",
       "      <td>21.0</td>\n",
       "      <td>11520.0</td>\n",
       "    </tr>\n",
       "    <tr>\n",
       "      <th>298</th>\n",
       "      <td>2022-07-13</td>\n",
       "      <td>EX41</td>\n",
       "      <td>19.0</td>\n",
       "      <td>4590.0</td>\n",
       "    </tr>\n",
       "    <tr>\n",
       "      <th>700</th>\n",
       "      <td>2023-02-08</td>\n",
       "      <td>EX41</td>\n",
       "      <td>20.0</td>\n",
       "      <td>9202.0</td>\n",
       "    </tr>\n",
       "    <tr>\n",
       "      <th>11</th>\n",
       "      <td>2022-01-07</td>\n",
       "      <td>EX43</td>\n",
       "      <td>20.0</td>\n",
       "      <td>10800.0</td>\n",
       "    </tr>\n",
       "  </tbody>\n",
       "</table>\n",
       "</div>"
      ],
      "text/plain": [
       "           date code_unit    HM  Production OB\n",
       "158  2022-03-22      EX41  17.0         8536.0\n",
       "18   2022-01-11      EX41  21.0        11520.0\n",
       "298  2022-07-13      EX41  19.0         4590.0\n",
       "700  2023-02-08      EX41  20.0         9202.0\n",
       "11   2022-01-07      EX43  20.0        10800.0"
      ]
     },
     "execution_count": 21,
     "metadata": {},
     "output_type": "execute_result"
    }
   ],
   "source": [
    "production_interim.sample(5)"
   ]
  },
  {
   "cell_type": "code",
   "execution_count": 22,
   "metadata": {},
   "outputs": [],
   "source": [
    "df = pd.merge(fuel_interim, production_final, on=[\"date\", \"code_unit\"],\n",
    "              how='left')"
   ]
  },
  {
   "cell_type": "code",
   "execution_count": 23,
   "metadata": {},
   "outputs": [],
   "source": [
    "df.columns = df.columns.str.upper() "
   ]
  },
  {
   "cell_type": "code",
   "execution_count": 24,
   "metadata": {},
   "outputs": [
    {
     "data": {
      "text/html": [
       "<div>\n",
       "<style scoped>\n",
       "    .dataframe tbody tr th:only-of-type {\n",
       "        vertical-align: middle;\n",
       "    }\n",
       "\n",
       "    .dataframe tbody tr th {\n",
       "        vertical-align: top;\n",
       "    }\n",
       "\n",
       "    .dataframe thead th {\n",
       "        text-align: right;\n",
       "    }\n",
       "</style>\n",
       "<table border=\"1\" class=\"dataframe\">\n",
       "  <thead>\n",
       "    <tr style=\"text-align: right;\">\n",
       "      <th></th>\n",
       "      <th>CODE_UNIT</th>\n",
       "      <th>DATE</th>\n",
       "      <th>AMOUNT</th>\n",
       "      <th>HM_X</th>\n",
       "      <th>CONSUMPTION</th>\n",
       "      <th>HM_Y</th>\n",
       "      <th>PRODUCTION OB</th>\n",
       "    </tr>\n",
       "  </thead>\n",
       "  <tbody>\n",
       "    <tr>\n",
       "      <th>1364</th>\n",
       "      <td>EX44</td>\n",
       "      <td>2022-09-27</td>\n",
       "      <td>866.0</td>\n",
       "      <td>0.0</td>\n",
       "      <td>NaN</td>\n",
       "      <td>NaN</td>\n",
       "      <td>10191.0</td>\n",
       "    </tr>\n",
       "    <tr>\n",
       "      <th>680</th>\n",
       "      <td>EX42</td>\n",
       "      <td>2022-11-12</td>\n",
       "      <td>1907.0</td>\n",
       "      <td>16.0</td>\n",
       "      <td>139.111111</td>\n",
       "      <td>NaN</td>\n",
       "      <td>7783.0</td>\n",
       "    </tr>\n",
       "    <tr>\n",
       "      <th>1450</th>\n",
       "      <td>EX44</td>\n",
       "      <td>2022-12-22</td>\n",
       "      <td>2052.0</td>\n",
       "      <td>21.0</td>\n",
       "      <td>93.527273</td>\n",
       "      <td>NaN</td>\n",
       "      <td>6020.0</td>\n",
       "    </tr>\n",
       "    <tr>\n",
       "      <th>708</th>\n",
       "      <td>EX42</td>\n",
       "      <td>2022-12-10</td>\n",
       "      <td>1881.0</td>\n",
       "      <td>15.0</td>\n",
       "      <td>184.886364</td>\n",
       "      <td>NaN</td>\n",
       "      <td>10191.0</td>\n",
       "    </tr>\n",
       "    <tr>\n",
       "      <th>1005</th>\n",
       "      <td>EX43</td>\n",
       "      <td>2022-10-03</td>\n",
       "      <td>1633.0</td>\n",
       "      <td>17.0</td>\n",
       "      <td>117.886364</td>\n",
       "      <td>0.0</td>\n",
       "      <td>0.0</td>\n",
       "    </tr>\n",
       "  </tbody>\n",
       "</table>\n",
       "</div>"
      ],
      "text/plain": [
       "     CODE_UNIT        DATE  AMOUNT  HM_X  CONSUMPTION  HM_Y  PRODUCTION OB\n",
       "1364      EX44  2022-09-27   866.0   0.0          NaN   NaN        10191.0\n",
       "680       EX42  2022-11-12  1907.0  16.0   139.111111   NaN         7783.0\n",
       "1450      EX44  2022-12-22  2052.0  21.0    93.527273   NaN         6020.0\n",
       "708       EX42  2022-12-10  1881.0  15.0   184.886364   NaN        10191.0\n",
       "1005      EX43  2022-10-03  1633.0  17.0   117.886364   0.0            0.0"
      ]
     },
     "execution_count": 24,
     "metadata": {},
     "output_type": "execute_result"
    }
   ],
   "source": [
    "df.sample(5)"
   ]
  },
  {
   "cell_type": "code",
   "execution_count": 25,
   "metadata": {},
   "outputs": [
    {
     "data": {
      "text/html": [
       "<div>\n",
       "<style scoped>\n",
       "    .dataframe tbody tr th:only-of-type {\n",
       "        vertical-align: middle;\n",
       "    }\n",
       "\n",
       "    .dataframe tbody tr th {\n",
       "        vertical-align: top;\n",
       "    }\n",
       "\n",
       "    .dataframe thead th {\n",
       "        text-align: right;\n",
       "    }\n",
       "</style>\n",
       "<table border=\"1\" class=\"dataframe\">\n",
       "  <thead>\n",
       "    <tr style=\"text-align: right;\">\n",
       "      <th></th>\n",
       "      <th>CODE_UNIT</th>\n",
       "      <th>DATE</th>\n",
       "      <th>AMOUNT</th>\n",
       "      <th>HM_CALC</th>\n",
       "      <th>CONSUMPTION</th>\n",
       "      <th>HM_HRS</th>\n",
       "      <th>PRODUCTION_OB</th>\n",
       "    </tr>\n",
       "  </thead>\n",
       "  <tbody>\n",
       "    <tr>\n",
       "      <th>1331</th>\n",
       "      <td>EX44</td>\n",
       "      <td>2022-08-25</td>\n",
       "      <td>1202.0</td>\n",
       "      <td>14.0</td>\n",
       "      <td>133.250000</td>\n",
       "      <td>NaN</td>\n",
       "      <td>0.0</td>\n",
       "    </tr>\n",
       "    <tr>\n",
       "      <th>566</th>\n",
       "      <td>EX42</td>\n",
       "      <td>2022-07-21</td>\n",
       "      <td>2172.0</td>\n",
       "      <td>19.0</td>\n",
       "      <td>119.655556</td>\n",
       "      <td>NaN</td>\n",
       "      <td>1591.0</td>\n",
       "    </tr>\n",
       "    <tr>\n",
       "      <th>1343</th>\n",
       "      <td>EX44</td>\n",
       "      <td>2022-09-06</td>\n",
       "      <td>1949.0</td>\n",
       "      <td>21.0</td>\n",
       "      <td>92.436364</td>\n",
       "      <td>NaN</td>\n",
       "      <td>10019.0</td>\n",
       "    </tr>\n",
       "    <tr>\n",
       "      <th>549</th>\n",
       "      <td>EX42</td>\n",
       "      <td>2022-07-04</td>\n",
       "      <td>2481.0</td>\n",
       "      <td>20.0</td>\n",
       "      <td>129.500000</td>\n",
       "      <td>NaN</td>\n",
       "      <td>10320.0</td>\n",
       "    </tr>\n",
       "    <tr>\n",
       "      <th>733</th>\n",
       "      <td>EX43</td>\n",
       "      <td>2022-01-04</td>\n",
       "      <td>1424.0</td>\n",
       "      <td>16.0</td>\n",
       "      <td>103.198413</td>\n",
       "      <td>15.0</td>\n",
       "      <td>7740.0</td>\n",
       "    </tr>\n",
       "  </tbody>\n",
       "</table>\n",
       "</div>"
      ],
      "text/plain": [
       "     CODE_UNIT        DATE  AMOUNT  HM_CALC  CONSUMPTION  HM_HRS  \\\n",
       "1331      EX44  2022-08-25  1202.0     14.0   133.250000     NaN   \n",
       "566       EX42  2022-07-21  2172.0     19.0   119.655556     NaN   \n",
       "1343      EX44  2022-09-06  1949.0     21.0    92.436364     NaN   \n",
       "549       EX42  2022-07-04  2481.0     20.0   129.500000     NaN   \n",
       "733       EX43  2022-01-04  1424.0     16.0   103.198413    15.0   \n",
       "\n",
       "      PRODUCTION_OB  \n",
       "1331            0.0  \n",
       "566          1591.0  \n",
       "1343        10019.0  \n",
       "549         10320.0  \n",
       "733          7740.0  "
      ]
     },
     "execution_count": 25,
     "metadata": {},
     "output_type": "execute_result"
    }
   ],
   "source": [
    "df.rename(columns={'HM_X': 'HM_CALC',\n",
    "                   'HM_Y': 'HM_HRS',\n",
    "                   'PRODUCTION OB' : \"PRODUCTION_OB\"}, inplace=True)\n",
    "\n",
    "df.sample(5)"
   ]
  },
  {
   "cell_type": "code",
   "execution_count": 26,
   "metadata": {},
   "outputs": [],
   "source": [
    "df['CONSUMPTION_CALC'] = df['AMOUNT']/df['HM_CALC']"
   ]
  },
  {
   "cell_type": "code",
   "execution_count": 27,
   "metadata": {},
   "outputs": [],
   "source": [
    "df['CONSUMPTION_HRS'] = df['AMOUNT']/df['HM_HRS']"
   ]
  },
  {
   "cell_type": "code",
   "execution_count": 28,
   "metadata": {},
   "outputs": [
    {
     "data": {
      "text/html": [
       "<div>\n",
       "<style scoped>\n",
       "    .dataframe tbody tr th:only-of-type {\n",
       "        vertical-align: middle;\n",
       "    }\n",
       "\n",
       "    .dataframe tbody tr th {\n",
       "        vertical-align: top;\n",
       "    }\n",
       "\n",
       "    .dataframe thead th {\n",
       "        text-align: right;\n",
       "    }\n",
       "</style>\n",
       "<table border=\"1\" class=\"dataframe\">\n",
       "  <thead>\n",
       "    <tr style=\"text-align: right;\">\n",
       "      <th></th>\n",
       "      <th>CODE_UNIT</th>\n",
       "      <th>DATE</th>\n",
       "      <th>AMOUNT</th>\n",
       "      <th>HM_CALC</th>\n",
       "      <th>CONSUMPTION</th>\n",
       "      <th>HM_HRS</th>\n",
       "      <th>PRODUCTION_OB</th>\n",
       "      <th>CONSUMPTION_CALC</th>\n",
       "      <th>CONSUMPTION_HRS</th>\n",
       "    </tr>\n",
       "  </thead>\n",
       "  <tbody>\n",
       "    <tr>\n",
       "      <th>572</th>\n",
       "      <td>EX42</td>\n",
       "      <td>2022-07-27</td>\n",
       "      <td>2543.0</td>\n",
       "      <td>21.0</td>\n",
       "      <td>114.909091</td>\n",
       "      <td>NaN</td>\n",
       "      <td>9331.0</td>\n",
       "      <td>121.095238</td>\n",
       "      <td>NaN</td>\n",
       "    </tr>\n",
       "    <tr>\n",
       "      <th>825</th>\n",
       "      <td>EX43</td>\n",
       "      <td>2022-04-06</td>\n",
       "      <td>1808.0</td>\n",
       "      <td>20.0</td>\n",
       "      <td>87.863636</td>\n",
       "      <td>15.0</td>\n",
       "      <td>6690.0</td>\n",
       "      <td>90.400000</td>\n",
       "      <td>120.533333</td>\n",
       "    </tr>\n",
       "    <tr>\n",
       "      <th>622</th>\n",
       "      <td>EX42</td>\n",
       "      <td>2022-09-15</td>\n",
       "      <td>1992.0</td>\n",
       "      <td>13.0</td>\n",
       "      <td>652.625000</td>\n",
       "      <td>NaN</td>\n",
       "      <td>10535.0</td>\n",
       "      <td>153.230769</td>\n",
       "      <td>NaN</td>\n",
       "    </tr>\n",
       "    <tr>\n",
       "      <th>904</th>\n",
       "      <td>EX43</td>\n",
       "      <td>2022-06-24</td>\n",
       "      <td>1635.0</td>\n",
       "      <td>18.0</td>\n",
       "      <td>94.112500</td>\n",
       "      <td>17.0</td>\n",
       "      <td>7785.0</td>\n",
       "      <td>90.833333</td>\n",
       "      <td>96.176471</td>\n",
       "    </tr>\n",
       "    <tr>\n",
       "      <th>1107</th>\n",
       "      <td>EX44</td>\n",
       "      <td>2022-01-13</td>\n",
       "      <td>1073.0</td>\n",
       "      <td>11.0</td>\n",
       "      <td>97.545455</td>\n",
       "      <td>NaN</td>\n",
       "      <td>5418.0</td>\n",
       "      <td>97.545455</td>\n",
       "      <td>NaN</td>\n",
       "    </tr>\n",
       "  </tbody>\n",
       "</table>\n",
       "</div>"
      ],
      "text/plain": [
       "     CODE_UNIT        DATE  AMOUNT  HM_CALC  CONSUMPTION  HM_HRS  \\\n",
       "572       EX42  2022-07-27  2543.0     21.0   114.909091     NaN   \n",
       "825       EX43  2022-04-06  1808.0     20.0    87.863636    15.0   \n",
       "622       EX42  2022-09-15  1992.0     13.0   652.625000     NaN   \n",
       "904       EX43  2022-06-24  1635.0     18.0    94.112500    17.0   \n",
       "1107      EX44  2022-01-13  1073.0     11.0    97.545455     NaN   \n",
       "\n",
       "      PRODUCTION_OB  CONSUMPTION_CALC  CONSUMPTION_HRS  \n",
       "572          9331.0        121.095238              NaN  \n",
       "825          6690.0         90.400000       120.533333  \n",
       "622         10535.0        153.230769              NaN  \n",
       "904          7785.0         90.833333        96.176471  \n",
       "1107         5418.0         97.545455              NaN  "
      ]
     },
     "execution_count": 28,
     "metadata": {},
     "output_type": "execute_result"
    }
   ],
   "source": [
    "df.sample(5)"
   ]
  },
  {
   "attachments": {},
   "cell_type": "markdown",
   "metadata": {},
   "source": [
    "Amount : Konsumsi bahan bakar dalam liter (L)\n",
    "Consumption : Konsumsi bahan bakar/jam (L/jam)"
   ]
  },
  {
   "cell_type": "code",
   "execution_count": 29,
   "metadata": {},
   "outputs": [
    {
     "data": {
      "text/plain": [
       "<AxesSubplot: ylabel='Frequency'>"
      ]
     },
     "execution_count": 29,
     "metadata": {},
     "output_type": "execute_result"
    },
    {
     "data": {
      "image/png": "[encoded data removed]",
      "text/plain": [
       "<Figure size 640x480 with 1 Axes>"
      ]
     },
     "metadata": {},
     "output_type": "display_data"
    }
   ],
   "source": [
    "ritase_interim['Production OB'].plot(kind='hist') # OB hasil hitungan ritase"
   ]
  },
  {
   "cell_type": "code",
   "execution_count": 30,
   "metadata": {},
   "outputs": [
    {
     "data": {
      "text/plain": [
       "<AxesSubplot: ylabel='Frequency'>"
      ]
     },
     "execution_count": 30,
     "metadata": {},
     "output_type": "execute_result"
    },
    {
     "data": {
      "image/png": "[encoded data removed]",
      "text/plain": [
       "<Figure size 640x480 with 1 Axes>"
      ]
     },
     "metadata": {},
     "output_type": "display_data"
    }
   ],
   "source": [
    "production_interim['Production OB'].plot(kind=\"hist\")"
   ]
  },
  {
   "attachments": {},
   "cell_type": "markdown",
   "metadata": {},
   "source": [
    "# Modeling"
   ]
  },
  {
   "cell_type": "code",
   "execution_count": 46,
   "metadata": {},
   "outputs": [],
   "source": [
    "df_modeling = df[['CODE_UNIT', 'AMOUNT', 'PRODUCTION_OB']].copy()"
   ]
  },
  {
   "cell_type": "code",
   "execution_count": 47,
   "metadata": {},
   "outputs": [],
   "source": [
    "df_modeling.dropna(inplace=True)"
   ]
  },
  {
   "cell_type": "code",
   "execution_count": 48,
   "metadata": {},
   "outputs": [],
   "source": [
    "df_modeling = df_modeling[df_modeling['CODE_UNIT'].isin(['EX41', 'EX43'])].copy()"
   ]
  },
  {
   "cell_type": "code",
   "execution_count": 49,
   "metadata": {},
   "outputs": [
    {
     "name": "stdout",
     "output_type": "stream",
     "text": [
      "<class 'pandas.core.frame.DataFrame'>\n",
      "Int64Index: 624 entries, 1 to 1094\n",
      "Data columns (total 3 columns):\n",
      " #   Column         Non-Null Count  Dtype  \n",
      "---  ------         --------------  -----  \n",
      " 0   CODE_UNIT      624 non-null    object \n",
      " 1   AMOUNT         624 non-null    float64\n",
      " 2   PRODUCTION_OB  624 non-null    float64\n",
      "dtypes: float64(2), object(1)\n",
      "memory usage: 19.5+ KB\n"
     ]
    }
   ],
   "source": [
    "df_modeling.info()"
   ]
  },
  {
   "cell_type": "code",
   "execution_count": 50,
   "metadata": {},
   "outputs": [],
   "source": [
    "df_modeling.replace([np.inf, -np.inf], np.nan, inplace=True)"
   ]
  },
  {
   "cell_type": "code",
   "execution_count": 51,
   "metadata": {},
   "outputs": [],
   "source": [
    "df_modeling.dropna(inplace=True)"
   ]
  },
  {
   "cell_type": "code",
   "execution_count": 52,
   "metadata": {},
   "outputs": [
    {
     "data": {
      "text/plain": [
       "EX41    312\n",
       "EX43    312\n",
       "Name: CODE_UNIT, dtype: int64"
      ]
     },
     "execution_count": 52,
     "metadata": {},
     "output_type": "execute_result"
    }
   ],
   "source": [
    "df_modeling['CODE_UNIT'].value_counts()"
   ]
  },
  {
   "cell_type": "code",
   "execution_count": 53,
   "metadata": {},
   "outputs": [
    {
     "data": {
      "text/html": [
       "<div>\n",
       "<style scoped>\n",
       "    .dataframe tbody tr th:only-of-type {\n",
       "        vertical-align: middle;\n",
       "    }\n",
       "\n",
       "    .dataframe tbody tr th {\n",
       "        vertical-align: top;\n",
       "    }\n",
       "\n",
       "    .dataframe thead th {\n",
       "        text-align: right;\n",
       "    }\n",
       "</style>\n",
       "<table border=\"1\" class=\"dataframe\">\n",
       "  <thead>\n",
       "    <tr style=\"text-align: right;\">\n",
       "      <th></th>\n",
       "      <th>AMOUNT</th>\n",
       "      <th>PRODUCTION_OB</th>\n",
       "    </tr>\n",
       "  </thead>\n",
       "  <tbody>\n",
       "    <tr>\n",
       "      <th>AMOUNT</th>\n",
       "      <td>1.000000</td>\n",
       "      <td>0.038865</td>\n",
       "    </tr>\n",
       "    <tr>\n",
       "      <th>PRODUCTION_OB</th>\n",
       "      <td>0.038865</td>\n",
       "      <td>1.000000</td>\n",
       "    </tr>\n",
       "  </tbody>\n",
       "</table>\n",
       "</div>"
      ],
      "text/plain": [
       "                 AMOUNT  PRODUCTION_OB\n",
       "AMOUNT         1.000000       0.038865\n",
       "PRODUCTION_OB  0.038865       1.000000"
      ]
     },
     "execution_count": 53,
     "metadata": {},
     "output_type": "execute_result"
    }
   ],
   "source": [
    "df_modeling.corr(numeric_only=True)"
   ]
  },
  {
   "cell_type": "code",
   "execution_count": 54,
   "metadata": {},
   "outputs": [],
   "source": [
    "X = df_modeling.drop('AMOUNT', axis=1)\n",
    "y = df_modeling['AMOUNT']"
   ]
  },
  {
   "cell_type": "code",
   "execution_count": 55,
   "metadata": {},
   "outputs": [],
   "source": [
    "X = pd.get_dummies(X)"
   ]
  },
  {
   "cell_type": "markdown",
   "metadata": {},
   "source": [
    "## Split Data"
   ]
  },
  {
   "cell_type": "code",
   "execution_count": 56,
   "metadata": {},
   "outputs": [],
   "source": [
    "X_train, X_test, y_train, y_test = train_test_split(X, y, test_size=0.2, random_state=42)"
   ]
  },
  {
   "cell_type": "code",
   "execution_count": 57,
   "metadata": {},
   "outputs": [
    {
     "data": {
      "text/html": [
       "<div>\n",
       "<style scoped>\n",
       "    .dataframe tbody tr th:only-of-type {\n",
       "        vertical-align: middle;\n",
       "    }\n",
       "\n",
       "    .dataframe tbody tr th {\n",
       "        vertical-align: top;\n",
       "    }\n",
       "\n",
       "    .dataframe thead th {\n",
       "        text-align: right;\n",
       "    }\n",
       "</style>\n",
       "<table border=\"1\" class=\"dataframe\">\n",
       "  <thead>\n",
       "    <tr style=\"text-align: right;\">\n",
       "      <th></th>\n",
       "      <th>PRODUCTION_OB</th>\n",
       "      <th>CODE_UNIT_EX41</th>\n",
       "      <th>CODE_UNIT_EX43</th>\n",
       "    </tr>\n",
       "  </thead>\n",
       "  <tbody>\n",
       "    <tr>\n",
       "      <th>815</th>\n",
       "      <td>9936.0</td>\n",
       "      <td>0</td>\n",
       "      <td>1</td>\n",
       "    </tr>\n",
       "    <tr>\n",
       "      <th>748</th>\n",
       "      <td>9224.0</td>\n",
       "      <td>0</td>\n",
       "      <td>1</td>\n",
       "    </tr>\n",
       "    <tr>\n",
       "      <th>7</th>\n",
       "      <td>11115.0</td>\n",
       "      <td>1</td>\n",
       "      <td>0</td>\n",
       "    </tr>\n",
       "    <tr>\n",
       "      <th>105</th>\n",
       "      <td>6903.0</td>\n",
       "      <td>1</td>\n",
       "      <td>0</td>\n",
       "    </tr>\n",
       "    <tr>\n",
       "      <th>156</th>\n",
       "      <td>8052.0</td>\n",
       "      <td>1</td>\n",
       "      <td>0</td>\n",
       "    </tr>\n",
       "    <tr>\n",
       "      <th>...</th>\n",
       "      <td>...</td>\n",
       "      <td>...</td>\n",
       "      <td>...</td>\n",
       "    </tr>\n",
       "    <tr>\n",
       "      <th>72</th>\n",
       "      <td>7781.0</td>\n",
       "      <td>1</td>\n",
       "      <td>0</td>\n",
       "    </tr>\n",
       "    <tr>\n",
       "      <th>107</th>\n",
       "      <td>3960.0</td>\n",
       "      <td>1</td>\n",
       "      <td>0</td>\n",
       "    </tr>\n",
       "    <tr>\n",
       "      <th>323</th>\n",
       "      <td>7590.8</td>\n",
       "      <td>1</td>\n",
       "      <td>0</td>\n",
       "    </tr>\n",
       "    <tr>\n",
       "      <th>895</th>\n",
       "      <td>8932.0</td>\n",
       "      <td>0</td>\n",
       "      <td>1</td>\n",
       "    </tr>\n",
       "    <tr>\n",
       "      <th>103</th>\n",
       "      <td>2772.0</td>\n",
       "      <td>1</td>\n",
       "      <td>0</td>\n",
       "    </tr>\n",
       "  </tbody>\n",
       "</table>\n",
       "<p>499 rows × 3 columns</p>\n",
       "</div>"
      ],
      "text/plain": [
       "     PRODUCTION_OB  CODE_UNIT_EX41  CODE_UNIT_EX43\n",
       "815         9936.0               0               1\n",
       "748         9224.0               0               1\n",
       "7          11115.0               1               0\n",
       "105         6903.0               1               0\n",
       "156         8052.0               1               0\n",
       "..             ...             ...             ...\n",
       "72          7781.0               1               0\n",
       "107         3960.0               1               0\n",
       "323         7590.8               1               0\n",
       "895         8932.0               0               1\n",
       "103         2772.0               1               0\n",
       "\n",
       "[499 rows x 3 columns]"
      ]
     },
     "execution_count": 57,
     "metadata": {},
     "output_type": "execute_result"
    }
   ],
   "source": [
    "X_train"
   ]
  },
  {
   "attachments": {},
   "cell_type": "markdown",
   "metadata": {},
   "source": [
    "## Preprocessing"
   ]
  },
  {
   "cell_type": "code",
   "execution_count": 58,
   "metadata": {},
   "outputs": [],
   "source": [
    "scaler = StandardScaler()"
   ]
  },
  {
   "cell_type": "code",
   "execution_count": 59,
   "metadata": {},
   "outputs": [
    {
     "data": {
      "text/html": [
       "<style>#sk-container-id-1 {color: black;background-color: white;}#sk-container-id-1 pre{padding: 0;}#sk-container-id-1 div.sk-toggleable {background-color: white;}#sk-container-id-1 label.sk-toggleable__label {cursor: pointer;display: block;width: 100%;margin-bottom: 0;padding: 0.3em;box-sizing: border-box;text-align: center;}#sk-container-id-1 label.sk-toggleable__label-arrow:before {content: \"▸\";float: left;margin-right: 0.25em;color: #696969;}#sk-container-id-1 label.sk-toggleable__label-arrow:hover:before {color: black;}#sk-container-id-1 div.sk-estimator:hover label.sk-toggleable__label-arrow:before {color: black;}#sk-container-id-1 div.sk-toggleable__content {max-height: 0;max-width: 0;overflow: hidden;text-align: left;background-color: #f0f8ff;}#sk-container-id-1 div.sk-toggleable__content pre {margin: 0.2em;color: black;border-radius: 0.25em;background-color: #f0f8ff;}#sk-container-id-1 input.sk-toggleable__control:checked~div.sk-toggleable__content {max-height: 200px;max-width: 100%;overflow: auto;}#sk-container-id-1 input.sk-toggleable__control:checked~label.sk-toggleable__label-arrow:before {content: \"▾\";}#sk-container-id-1 div.sk-estimator input.sk-toggleable__control:checked~label.sk-toggleable__label {background-color: #d4ebff;}#sk-container-id-1 div.sk-label input.sk-toggleable__control:checked~label.sk-toggleable__label {background-color: #d4ebff;}#sk-container-id-1 input.sk-hidden--visually {border: 0;clip: rect(1px 1px 1px 1px);clip: rect(1px, 1px, 1px, 1px);height: 1px;margin: -1px;overflow: hidden;padding: 0;position: absolute;width: 1px;}#sk-container-id-1 div.sk-estimator {font-family: monospace;background-color: #f0f8ff;border: 1px dotted black;border-radius: 0.25em;box-sizing: border-box;margin-bottom: 0.5em;}#sk-container-id-1 div.sk-estimator:hover {background-color: #d4ebff;}#sk-container-id-1 div.sk-parallel-item::after {content: \"\";width: 100%;border-bottom: 1px solid gray;flex-grow: 1;}#sk-container-id-1 div.sk-label:hover label.sk-toggleable__label {background-color: #d4ebff;}#sk-container-id-1 div.sk-serial::before {content: \"\";position: absolute;border-left: 1px solid gray;box-sizing: border-box;top: 0;bottom: 0;left: 50%;z-index: 0;}#sk-container-id-1 div.sk-serial {display: flex;flex-direction: column;align-items: center;background-color: white;padding-right: 0.2em;padding-left: 0.2em;position: relative;}#sk-container-id-1 div.sk-item {position: relative;z-index: 1;}#sk-container-id-1 div.sk-parallel {display: flex;align-items: stretch;justify-content: center;background-color: white;position: relative;}#sk-container-id-1 div.sk-item::before, #sk-container-id-1 div.sk-parallel-item::before {content: \"\";position: absolute;border-left: 1px solid gray;box-sizing: border-box;top: 0;bottom: 0;left: 50%;z-index: -1;}#sk-container-id-1 div.sk-parallel-item {display: flex;flex-direction: column;z-index: 1;position: relative;background-color: white;}#sk-container-id-1 div.sk-parallel-item:first-child::after {align-self: flex-end;width: 50%;}#sk-container-id-1 div.sk-parallel-item:last-child::after {align-self: flex-start;width: 50%;}#sk-container-id-1 div.sk-parallel-item:only-child::after {width: 0;}#sk-container-id-1 div.sk-dashed-wrapped {border: 1px dashed gray;margin: 0 0.4em 0.5em 0.4em;box-sizing: border-box;padding-bottom: 0.4em;background-color: white;}#sk-container-id-1 div.sk-label label {font-family: monospace;font-weight: bold;display: inline-block;line-height: 1.2em;}#sk-container-id-1 div.sk-label-container {text-align: center;}#sk-container-id-1 div.sk-container {/* jupyter's `normalize.less` sets `[hidden] { display: none; }` but bootstrap.min.css set `[hidden] { display: none !important; }` so we also need the `!important` here to be able to override the default hidden behavior on the sphinx rendered scikit-learn.org. See: https://github.com/scikit-learn/scikit-learn/issues/21755 */display: inline-block !important;position: relative;}#sk-container-id-1 div.sk-text-repr-fallback {display: none;}</style><div id=\"sk-container-id-1\" class=\"sk-top-container\"><div class=\"sk-text-repr-fallback\"><pre>StandardScaler()</pre><b>In a Jupyter environment, please rerun this cell to show the HTML representation or trust the notebook. <br />On GitHub, the HTML representation is unable to render, please try loading this page with nbviewer.org.</b></div><div class=\"sk-container\" hidden><div class=\"sk-item\"><div class=\"sk-estimator sk-toggleable\"><input class=\"sk-toggleable__control sk-hidden--visually\" id=\"sk-estimator-id-1\" type=\"checkbox\" checked><label for=\"sk-estimator-id-1\" class=\"sk-toggleable__label sk-toggleable__label-arrow\">StandardScaler</label><div class=\"sk-toggleable__content\"><pre>StandardScaler()</pre></div></div></div></div></div>"
      ],
      "text/plain": [
       "StandardScaler()"
      ]
     },
     "execution_count": 59,
     "metadata": {},
     "output_type": "execute_result"
    }
   ],
   "source": [
    "numeric_feature = ['PRODUCTION_OB']\n",
    "categoric_feature = ['CODE_UNIT_EX41', 'CODE_UNIT_EX43']\n",
    "\n",
    "scaler.fit(X_train[numeric_feature])"
   ]
  },
  {
   "cell_type": "code",
   "execution_count": 60,
   "metadata": {},
   "outputs": [],
   "source": [
    "X_train_scaled = scaler.transform(X_train[numeric_feature])\n",
    "X_test_scaled = scaler.transform(X_test[numeric_feature])"
   ]
  },
  {
   "cell_type": "code",
   "execution_count": 61,
   "metadata": {},
   "outputs": [],
   "source": [
    "X_train_final = pd.concat([X_train[categoric_feature],\n",
    "                           pd.DataFrame(X_train_scaled, index=X_train.index, columns=numeric_feature)], axis=1)\n",
    "\n",
    "X_test_final = pd.concat([X_test[categoric_feature],\n",
    "                           pd.DataFrame(X_test_scaled, index=X_test.index, columns=numeric_feature)], axis=1)"
   ]
  },
  {
   "cell_type": "code",
   "execution_count": 62,
   "metadata": {},
   "outputs": [],
   "source": [
    "model = LinearRegression(n_jobs=-1)"
   ]
  },
  {
   "cell_type": "code",
   "execution_count": 73,
   "metadata": {},
   "outputs": [
    {
     "data": {
      "text/plain": [
       "815    1420.0\n",
       "748    1664.0\n",
       "7      1808.0\n",
       "105    1474.0\n",
       "156    1461.0\n",
       "        ...  \n",
       "72     2157.0\n",
       "107       0.0\n",
       "323    1133.0\n",
       "895    2013.0\n",
       "103    2137.0\n",
       "Name: AMOUNT, Length: 499, dtype: float64"
      ]
     },
     "execution_count": 73,
     "metadata": {},
     "output_type": "execute_result"
    }
   ],
   "source": [
    "y_train"
   ]
  },
  {
   "cell_type": "code",
   "execution_count": 74,
   "metadata": {},
   "outputs": [
    {
     "name": "stdout",
     "output_type": "stream",
     "text": [
      "                            OLS Regression Results                            \n",
      "==============================================================================\n",
      "Dep. Variable:                 AMOUNT   R-squared:                       0.014\n",
      "Model:                            OLS   Adj. R-squared:                  0.010\n",
      "Method:                 Least Squares   F-statistic:                     3.621\n",
      "Date:                Sun, 12 Feb 2023   Prob (F-statistic):             0.0275\n",
      "Time:                        14:30:01   Log-Likelihood:                -3858.8\n",
      "No. Observations:                 499   AIC:                             7724.\n",
      "Df Residuals:                     496   BIC:                             7736.\n",
      "Df Model:                           2                                         \n",
      "Covariance Type:            nonrobust                                         \n",
      "==================================================================================\n",
      "                     coef    std err          t      P>|t|      [0.025      0.975]\n",
      "----------------------------------------------------------------------------------\n",
      "CODE_UNIT_EX41  1682.6524     35.709     47.121      0.000    1612.492    1752.813\n",
      "CODE_UNIT_EX43  1560.4836     34.511     45.217      0.000    1492.677    1628.290\n",
      "PRODUCTION_OB     30.2959     24.833      1.220      0.223     -18.494      79.086\n",
      "==============================================================================\n",
      "Omnibus:                       80.124   Durbin-Watson:                   2.181\n",
      "Prob(Omnibus):                  0.000   Jarque-Bera (JB):              116.772\n",
      "Skew:                          -1.091   Prob(JB):                     4.40e-26\n",
      "Kurtosis:                       3.925   Cond. No.                         1.44\n",
      "==============================================================================\n",
      "\n",
      "Notes:\n",
      "[1] Standard Errors assume that the covariance matrix of the errors is correctly specified.\n"
     ]
    }
   ],
   "source": [
    "import statsmodels.api as sm\n",
    "mod = sm.OLS(y_train, X_train_final)\n",
    "res = mod.fit()\n",
    "print(res.summary())"
   ]
  },
  {
   "attachments": {},
   "cell_type": "markdown",
   "metadata": {},
   "source": [
    "## Train Model"
   ]
  },
  {
   "cell_type": "code",
   "execution_count": 64,
   "metadata": {},
   "outputs": [
    {
     "data": {
      "text/html": [
       "<style>#sk-container-id-2 {color: black;background-color: white;}#sk-container-id-2 pre{padding: 0;}#sk-container-id-2 div.sk-toggleable {background-color: white;}#sk-container-id-2 label.sk-toggleable__label {cursor: pointer;display: block;width: 100%;margin-bottom: 0;padding: 0.3em;box-sizing: border-box;text-align: center;}#sk-container-id-2 label.sk-toggleable__label-arrow:before {content: \"▸\";float: left;margin-right: 0.25em;color: #696969;}#sk-container-id-2 label.sk-toggleable__label-arrow:hover:before {color: black;}#sk-container-id-2 div.sk-estimator:hover label.sk-toggleable__label-arrow:before {color: black;}#sk-container-id-2 div.sk-toggleable__content {max-height: 0;max-width: 0;overflow: hidden;text-align: left;background-color: #f0f8ff;}#sk-container-id-2 div.sk-toggleable__content pre {margin: 0.2em;color: black;border-radius: 0.25em;background-color: #f0f8ff;}#sk-container-id-2 input.sk-toggleable__control:checked~div.sk-toggleable__content {max-height: 200px;max-width: 100%;overflow: auto;}#sk-container-id-2 input.sk-toggleable__control:checked~label.sk-toggleable__label-arrow:before {content: \"▾\";}#sk-container-id-2 div.sk-estimator input.sk-toggleable__control:checked~label.sk-toggleable__label {background-color: #d4ebff;}#sk-container-id-2 div.sk-label input.sk-toggleable__control:checked~label.sk-toggleable__label {background-color: #d4ebff;}#sk-container-id-2 input.sk-hidden--visually {border: 0;clip: rect(1px 1px 1px 1px);clip: rect(1px, 1px, 1px, 1px);height: 1px;margin: -1px;overflow: hidden;padding: 0;position: absolute;width: 1px;}#sk-container-id-2 div.sk-estimator {font-family: monospace;background-color: #f0f8ff;border: 1px dotted black;border-radius: 0.25em;box-sizing: border-box;margin-bottom: 0.5em;}#sk-container-id-2 div.sk-estimator:hover {background-color: #d4ebff;}#sk-container-id-2 div.sk-parallel-item::after {content: \"\";width: 100%;border-bottom: 1px solid gray;flex-grow: 1;}#sk-container-id-2 div.sk-label:hover label.sk-toggleable__label {background-color: #d4ebff;}#sk-container-id-2 div.sk-serial::before {content: \"\";position: absolute;border-left: 1px solid gray;box-sizing: border-box;top: 0;bottom: 0;left: 50%;z-index: 0;}#sk-container-id-2 div.sk-serial {display: flex;flex-direction: column;align-items: center;background-color: white;padding-right: 0.2em;padding-left: 0.2em;position: relative;}#sk-container-id-2 div.sk-item {position: relative;z-index: 1;}#sk-container-id-2 div.sk-parallel {display: flex;align-items: stretch;justify-content: center;background-color: white;position: relative;}#sk-container-id-2 div.sk-item::before, #sk-container-id-2 div.sk-parallel-item::before {content: \"\";position: absolute;border-left: 1px solid gray;box-sizing: border-box;top: 0;bottom: 0;left: 50%;z-index: -1;}#sk-container-id-2 div.sk-parallel-item {display: flex;flex-direction: column;z-index: 1;position: relative;background-color: white;}#sk-container-id-2 div.sk-parallel-item:first-child::after {align-self: flex-end;width: 50%;}#sk-container-id-2 div.sk-parallel-item:last-child::after {align-self: flex-start;width: 50%;}#sk-container-id-2 div.sk-parallel-item:only-child::after {width: 0;}#sk-container-id-2 div.sk-dashed-wrapped {border: 1px dashed gray;margin: 0 0.4em 0.5em 0.4em;box-sizing: border-box;padding-bottom: 0.4em;background-color: white;}#sk-container-id-2 div.sk-label label {font-family: monospace;font-weight: bold;display: inline-block;line-height: 1.2em;}#sk-container-id-2 div.sk-label-container {text-align: center;}#sk-container-id-2 div.sk-container {/* jupyter's `normalize.less` sets `[hidden] { display: none; }` but bootstrap.min.css set `[hidden] { display: none !important; }` so we also need the `!important` here to be able to override the default hidden behavior on the sphinx rendered scikit-learn.org. See: https://github.com/scikit-learn/scikit-learn/issues/21755 */display: inline-block !important;position: relative;}#sk-container-id-2 div.sk-text-repr-fallback {display: none;}</style><div id=\"sk-container-id-2\" class=\"sk-top-container\"><div class=\"sk-text-repr-fallback\"><pre>LinearRegression(n_jobs=-1)</pre><b>In a Jupyter environment, please rerun this cell to show the HTML representation or trust the notebook. <br />On GitHub, the HTML representation is unable to render, please try loading this page with nbviewer.org.</b></div><div class=\"sk-container\" hidden><div class=\"sk-item\"><div class=\"sk-estimator sk-toggleable\"><input class=\"sk-toggleable__control sk-hidden--visually\" id=\"sk-estimator-id-2\" type=\"checkbox\" checked><label for=\"sk-estimator-id-2\" class=\"sk-toggleable__label sk-toggleable__label-arrow\">LinearRegression</label><div class=\"sk-toggleable__content\"><pre>LinearRegression(n_jobs=-1)</pre></div></div></div></div></div>"
      ],
      "text/plain": [
       "LinearRegression(n_jobs=-1)"
      ]
     },
     "execution_count": 64,
     "metadata": {},
     "output_type": "execute_result"
    }
   ],
   "source": [
    "model.fit(X_train_final,y_train)"
   ]
  },
  {
   "cell_type": "code",
   "execution_count": 65,
   "metadata": {},
   "outputs": [],
   "source": [
    "y_train_predict = model.predict(X_train_final)\n",
    "y_test_predict = model.predict(X_test_final)"
   ]
  },
  {
   "cell_type": "code",
   "execution_count": 66,
   "metadata": {},
   "outputs": [
    {
     "data": {
      "text/plain": [
       "array([ 61.08442405, -61.08442405,  30.29594551])"
      ]
     },
     "execution_count": 66,
     "metadata": {},
     "output_type": "execute_result"
    }
   ],
   "source": [
    "model.coef_"
   ]
  },
  {
   "cell_type": "code",
   "execution_count": 67,
   "metadata": {},
   "outputs": [
    {
     "data": {
      "text/plain": [
       "1621.5680064304113"
      ]
     },
     "execution_count": 67,
     "metadata": {},
     "output_type": "execute_result"
    }
   ],
   "source": [
    "model.intercept_"
   ]
  },
  {
   "attachments": {},
   "cell_type": "markdown",
   "metadata": {},
   "source": [
    "## Evaluation"
   ]
  },
  {
   "cell_type": "code",
   "execution_count": 68,
   "metadata": {},
   "outputs": [],
   "source": [
    "from sklearn.metrics import mean_absolute_error\n",
    "from sklearn.metrics import mean_squared_error\n",
    "from sklearn.metrics import r2_score"
   ]
  },
  {
   "cell_type": "code",
   "execution_count": null,
   "metadata": {},
   "outputs": [],
   "source": [
    "from sklearn.metrics import f"
   ]
  },
  {
   "cell_type": "code",
   "execution_count": 69,
   "metadata": {},
   "outputs": [
    {
     "name": "stdout",
     "output_type": "stream",
     "text": [
      "Linear Regression\n",
      "Train RMSE: 552.3079514588804\n",
      "Test RMSE: 557.1656311135862\n",
      "Train MAE: 437.8311382095395\n",
      "Test MAE: 448.55624160057744\n",
      "Train R2 0.014390213841331323\n",
      "Test R2 -0.014074599064602067\n"
     ]
    }
   ],
   "source": [
    "train_rmse = mean_squared_error(y_train, y_train_predict, squared=False)\n",
    "test_rmse = mean_squared_error(y_test, y_test_predict, squared=False)\n",
    "train_mae = mean_absolute_error(y_train, y_train_predict)\n",
    "test_mae = mean_absolute_error(y_test, y_test_predict)\n",
    "train_r2 = r2_score(y_train, y_train_predict)\n",
    "test_r2 = r2_score(y_test, y_test_predict)\n",
    "\n",
    "print(\"Linear Regression\")\n",
    "print(\"Train RMSE:\", train_rmse)\n",
    "print(\"Test RMSE:\", test_rmse)\n",
    "print(\"Train MAE:\", train_mae)\n",
    "print(\"Test MAE:\", test_mae)\n",
    "print(\"Train R2\", train_r2)\n",
    "print(\"Test R2\", test_r2)"
   ]
  },
  {
   "cell_type": "markdown",
   "metadata": {},
   "source": [
    "# Export Dataset"
   ]
  },
  {
   "cell_type": "code",
   "execution_count": 55,
   "metadata": {},
   "outputs": [],
   "source": [
    "df.to_csv(\"../data/processed/datamart_final.csv\", index=False)"
   ]
  }
 ],
 "metadata": {
  "kernelspec": {
   "display_name": "ds_env",
   "language": "python",
   "name": "python3"
  },
  "language_info": {
   "codemirror_mode": {
    "name": "ipython",
    "version": 3
   },
   "file_extension": ".py",
   "mimetype": "text/x-python",
   "name": "python",
   "nbconvert_exporter": "python",
   "pygments_lexer": "ipython3",
   "version": "3.10.9"
  },
  "orig_nbformat": 4,
  "vscode": {
   "interpreter": {
    "hash": "5879385c91744f75d306cfe78a4616a5dfd2e8f998e3c2491611c606660945a7"
   }
  }
 },
 "nbformat": 4,
 "nbformat_minor": 2
}
