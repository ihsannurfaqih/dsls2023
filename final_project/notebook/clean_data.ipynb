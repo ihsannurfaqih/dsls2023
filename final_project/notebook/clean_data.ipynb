{
 "cells": [
  {
   "cell_type": "code",
   "execution_count": 2,
   "metadata": {},
   "outputs": [],
   "source": [
    "import os\n",
    "import glob\n",
    "import pandas as pd\n",
    "import numpy as np\n",
    "import matplotlib.pyplot as plt\n",
    "import seaborn as sns"
   ]
  },
  {
   "cell_type": "code",
   "execution_count": 3,
   "metadata": {},
   "outputs": [
    {
     "data": {
      "text/html": [
       "<div>\n",
       "<style scoped>\n",
       "    .dataframe tbody tr th:only-of-type {\n",
       "        vertical-align: middle;\n",
       "    }\n",
       "\n",
       "    .dataframe tbody tr th {\n",
       "        vertical-align: top;\n",
       "    }\n",
       "\n",
       "    .dataframe thead th {\n",
       "        text-align: right;\n",
       "    }\n",
       "</style>\n",
       "<table border=\"1\" class=\"dataframe\">\n",
       "  <thead>\n",
       "    <tr style=\"text-align: right;\">\n",
       "      <th></th>\n",
       "      <th>code_unit</th>\n",
       "      <th>EGI</th>\n",
       "      <th>tipe</th>\n",
       "      <th>date</th>\n",
       "      <th>hour</th>\n",
       "      <th>SLOC</th>\n",
       "      <th>amount</th>\n",
       "      <th>Hm</th>\n",
       "      <th>Consumption</th>\n",
       "    </tr>\n",
       "  </thead>\n",
       "  <tbody>\n",
       "    <tr>\n",
       "      <th>0</th>\n",
       "      <td>EX41</td>\n",
       "      <td>EGI 37</td>\n",
       "      <td>day</td>\n",
       "      <td>2022-01-01</td>\n",
       "      <td>NaN</td>\n",
       "      <td>NaN</td>\n",
       "      <td>NaN</td>\n",
       "      <td>NaN</td>\n",
       "      <td>NaN</td>\n",
       "    </tr>\n",
       "    <tr>\n",
       "      <th>1</th>\n",
       "      <td>EX41</td>\n",
       "      <td>EGI 37</td>\n",
       "      <td>night</td>\n",
       "      <td>2022-01-01</td>\n",
       "      <td>NaN</td>\n",
       "      <td>NaN</td>\n",
       "      <td>NaN</td>\n",
       "      <td>NaN</td>\n",
       "      <td>NaN</td>\n",
       "    </tr>\n",
       "    <tr>\n",
       "      <th>2</th>\n",
       "      <td>EX41</td>\n",
       "      <td>EGI 37</td>\n",
       "      <td>day</td>\n",
       "      <td>2022-01-02</td>\n",
       "      <td>12:24:00</td>\n",
       "      <td>CN403</td>\n",
       "      <td>1166.0</td>\n",
       "      <td>22715</td>\n",
       "      <td>NaN</td>\n",
       "    </tr>\n",
       "    <tr>\n",
       "      <th>3</th>\n",
       "      <td>EX41</td>\n",
       "      <td>EGI 37</td>\n",
       "      <td>night</td>\n",
       "      <td>2022-01-02</td>\n",
       "      <td>23:48:00</td>\n",
       "      <td>CN403</td>\n",
       "      <td>1196.0</td>\n",
       "      <td>22726</td>\n",
       "      <td>NaN</td>\n",
       "    </tr>\n",
       "    <tr>\n",
       "      <th>4</th>\n",
       "      <td>EX41</td>\n",
       "      <td>EGI 37</td>\n",
       "      <td>day</td>\n",
       "      <td>2022-01-03</td>\n",
       "      <td>12:30:00</td>\n",
       "      <td>CN403</td>\n",
       "      <td>788.0</td>\n",
       "      <td>22734</td>\n",
       "      <td>NaN</td>\n",
       "    </tr>\n",
       "    <tr>\n",
       "      <th>...</th>\n",
       "      <td>...</td>\n",
       "      <td>...</td>\n",
       "      <td>...</td>\n",
       "      <td>...</td>\n",
       "      <td>...</td>\n",
       "      <td>...</td>\n",
       "      <td>...</td>\n",
       "      <td>...</td>\n",
       "      <td>...</td>\n",
       "    </tr>\n",
       "    <tr>\n",
       "      <th>5103</th>\n",
       "      <td>EX44</td>\n",
       "      <td>EGI 87</td>\n",
       "      <td>night</td>\n",
       "      <td>2022-12-29</td>\n",
       "      <td>NaN</td>\n",
       "      <td>NaN</td>\n",
       "      <td>NaN</td>\n",
       "      <td>NaN</td>\n",
       "      <td>NaN</td>\n",
       "    </tr>\n",
       "    <tr>\n",
       "      <th>5104</th>\n",
       "      <td>EX44</td>\n",
       "      <td>EGI 87</td>\n",
       "      <td>day</td>\n",
       "      <td>2022-12-30</td>\n",
       "      <td>NaN</td>\n",
       "      <td>NaN</td>\n",
       "      <td>NaN</td>\n",
       "      <td>NaN</td>\n",
       "      <td>NaN</td>\n",
       "    </tr>\n",
       "    <tr>\n",
       "      <th>5105</th>\n",
       "      <td>EX44</td>\n",
       "      <td>EGI 87</td>\n",
       "      <td>night</td>\n",
       "      <td>2022-12-30</td>\n",
       "      <td>NaN</td>\n",
       "      <td>NaN</td>\n",
       "      <td>NaN</td>\n",
       "      <td>NaN</td>\n",
       "      <td>NaN</td>\n",
       "    </tr>\n",
       "    <tr>\n",
       "      <th>5106</th>\n",
       "      <td>EX44</td>\n",
       "      <td>EGI 87</td>\n",
       "      <td>day</td>\n",
       "      <td>2022-12-31</td>\n",
       "      <td>NaN</td>\n",
       "      <td>NaN</td>\n",
       "      <td>NaN</td>\n",
       "      <td>NaN</td>\n",
       "      <td>NaN</td>\n",
       "    </tr>\n",
       "    <tr>\n",
       "      <th>5107</th>\n",
       "      <td>EX44</td>\n",
       "      <td>EGI 87</td>\n",
       "      <td>night</td>\n",
       "      <td>2022-12-31</td>\n",
       "      <td>NaN</td>\n",
       "      <td>NaN</td>\n",
       "      <td>NaN</td>\n",
       "      <td>NaN</td>\n",
       "      <td>NaN</td>\n",
       "    </tr>\n",
       "  </tbody>\n",
       "</table>\n",
       "<p>5108 rows × 9 columns</p>\n",
       "</div>"
      ],
      "text/plain": [
       "     code_unit     EGI   tipe        date      hour   SLOC  amount     Hm  \\\n",
       "0         EX41  EGI 37    day  2022-01-01       NaN    NaN     NaN    NaN   \n",
       "1         EX41  EGI 37  night  2022-01-01       NaN    NaN     NaN    NaN   \n",
       "2         EX41  EGI 37    day  2022-01-02  12:24:00  CN403  1166.0  22715   \n",
       "3         EX41  EGI 37  night  2022-01-02  23:48:00  CN403  1196.0  22726   \n",
       "4         EX41  EGI 37    day  2022-01-03  12:30:00  CN403   788.0  22734   \n",
       "...        ...     ...    ...         ...       ...    ...     ...    ...   \n",
       "5103      EX44  EGI 87  night  2022-12-29       NaN    NaN     NaN    NaN   \n",
       "5104      EX44  EGI 87    day  2022-12-30       NaN    NaN     NaN    NaN   \n",
       "5105      EX44  EGI 87  night  2022-12-30       NaN    NaN     NaN    NaN   \n",
       "5106      EX44  EGI 87    day  2022-12-31       NaN    NaN     NaN    NaN   \n",
       "5107      EX44  EGI 87  night  2022-12-31       NaN    NaN     NaN    NaN   \n",
       "\n",
       "      Consumption  \n",
       "0             NaN  \n",
       "1             NaN  \n",
       "2             NaN  \n",
       "3             NaN  \n",
       "4             NaN  \n",
       "...           ...  \n",
       "5103          NaN  \n",
       "5104          NaN  \n",
       "5105          NaN  \n",
       "5106          NaN  \n",
       "5107          NaN  \n",
       "\n",
       "[5108 rows x 9 columns]"
      ]
     },
     "execution_count": 3,
     "metadata": {},
     "output_type": "execute_result"
    }
   ],
   "source": [
    "fuel_raw = pd.read_csv('../data/processed/pengisian_fuel.csv')\n",
    "\n",
    "fuel_raw"
   ]
  },
  {
   "cell_type": "code",
   "execution_count": 5,
   "metadata": {},
   "outputs": [
    {
     "name": "stdout",
     "output_type": "stream",
     "text": [
      "<class 'pandas.core.frame.DataFrame'>\n",
      "RangeIndex: 5108 entries, 0 to 5107\n",
      "Data columns (total 9 columns):\n",
      " #   Column       Non-Null Count  Dtype  \n",
      "---  ------       --------------  -----  \n",
      " 0   code_unit    5108 non-null   object \n",
      " 1   EGI          5108 non-null   object \n",
      " 2   tipe         5108 non-null   object \n",
      " 3   date         5108 non-null   object \n",
      " 4   hour         2522 non-null   object \n",
      " 5   SLOC         2522 non-null   object \n",
      " 6   amount       2522 non-null   float64\n",
      " 7   Hm           2503 non-null   object \n",
      " 8   Consumption  133 non-null    float64\n",
      "dtypes: float64(2), object(7)\n",
      "memory usage: 359.3+ KB\n"
     ]
    }
   ],
   "source": [
    "fuel_raw.info()"
   ]
  },
  {
   "cell_type": "code",
   "execution_count": 6,
   "metadata": {},
   "outputs": [],
   "source": [
    "fuel_raw['Hm'] = fuel_raw['Hm'].replace('eror', np.nan).astype(float)"
   ]
  },
  {
   "cell_type": "code",
   "execution_count": 41,
   "metadata": {},
   "outputs": [],
   "source": [
    "df_dict = {name: group for name, group in fuel_raw.groupby('code_unit')}"
   ]
  },
  {
   "cell_type": "code",
   "execution_count": 16,
   "metadata": {},
   "outputs": [],
   "source": [
    "for item in df_dict.values():\n",
    "      item = item.groupby(['code_unit', 'date']).agg({'amount': np.sum,\n",
    "                                                      'Hm': np.max,\n",
    "                                                      'Consumption':np.sum})"
   ]
  },
  {
   "cell_type": "code",
   "execution_count": 17,
   "metadata": {},
   "outputs": [],
   "source": [
    "df_dict = {key: value.groupby(['code_unit', 'date']).agg({'amount': np.sum,\n",
    "                                                      'Hm': np.max,\n",
    "                                                      'Consumption':np.sum}).reset_index() for key, value in df_dict.items()}"
   ]
  },
  {
   "cell_type": "code",
   "execution_count": 38,
   "metadata": {},
   "outputs": [],
   "source": [
    "for key in df_dict.keys():\n",
    "      df_dict[key]['Hm1'] = df_dict[key]['Hm'].shift(-1)"
   ]
  },
  {
   "cell_type": "code",
   "execution_count": 39,
   "metadata": {},
   "outputs": [],
   "source": [
    "for key in df_dict.keys():\n",
    "      df_dict[key]['HM_Calculation'] = df_dict[key]['Hm'] - df_dict[key]['Hm1'] "
   ]
  },
  {
   "cell_type": "code",
   "execution_count": 43,
   "metadata": {},
   "outputs": [],
   "source": [
    "df_dict['EX41'].to_clipboard()"
   ]
  }
 ],
 "metadata": {
  "kernelspec": {
   "display_name": "ds_env",
   "language": "python",
   "name": "python3"
  },
  "language_info": {
   "codemirror_mode": {
    "name": "ipython",
    "version": 3
   },
   "file_extension": ".py",
   "mimetype": "text/x-python",
   "name": "python",
   "nbconvert_exporter": "python",
   "pygments_lexer": "ipython3",
   "version": "3.10.9"
  },
  "orig_nbformat": 4,
  "vscode": {
   "interpreter": {
    "hash": "5879385c91744f75d306cfe78a4616a5dfd2e8f998e3c2491611c606660945a7"
   }
  }
 },
 "nbformat": 4,
 "nbformat_minor": 2
}
