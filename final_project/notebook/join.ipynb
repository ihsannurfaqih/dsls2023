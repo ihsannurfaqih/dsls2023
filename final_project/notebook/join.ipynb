{
 "cells": [
  {
   "cell_type": "code",
   "execution_count": 1,
   "metadata": {},
   "outputs": [],
   "source": [
    "import pandas as pd\n",
    "import numpy as np"
   ]
  },
  {
   "cell_type": "code",
   "execution_count": 26,
   "metadata": {},
   "outputs": [
    {
     "name": "stdout",
     "output_type": "stream",
     "text": [
      "<class 'pandas.core.frame.DataFrame'>\n",
      "RangeIndex: 5108 entries, 0 to 5107\n",
      "Data columns (total 9 columns):\n",
      " #   Column       Non-Null Count  Dtype  \n",
      "---  ------       --------------  -----  \n",
      " 0   code_unit    5108 non-null   object \n",
      " 1   EGI          5108 non-null   object \n",
      " 2   tipe         5108 non-null   object \n",
      " 3   date         5108 non-null   object \n",
      " 4   hour         2522 non-null   object \n",
      " 5   SLOC         2522 non-null   object \n",
      " 6   amount       2522 non-null   float64\n",
      " 7   Hm           2503 non-null   object \n",
      " 8   Consumption  133 non-null    float64\n",
      "dtypes: float64(2), object(7)\n",
      "memory usage: 359.3+ KB\n"
     ]
    }
   ],
   "source": [
    "pengisian_fuel = pd.read_csv('../data/processed/pengisian_fuel.csv')\n",
    "\n",
    "pengisian_fuel.info()"
   ]
  },
  {
   "cell_type": "code",
   "execution_count": 3,
   "metadata": {},
   "outputs": [],
   "source": [
    "ritase_ex42 = pd.read_csv(\"../data/processed/ritase_ex42_agregated.csv.xls\")\n",
    "ritase_ex44 = pd.read_csv(\"../data/processed/ritase_ex44_agregated.csv.xls\")"
   ]
  },
  {
   "cell_type": "code",
   "execution_count": 4,
   "metadata": {},
   "outputs": [],
   "source": [
    "data_produksi = pd.read_excel('../data/raw/Produksi EX41 dan EX43.ods')"
   ]
  },
  {
   "cell_type": "code",
   "execution_count": 5,
   "metadata": {},
   "outputs": [],
   "source": [
    "pengisian_fuel['Hm'] = pengisian_fuel['Hm'].replace('eror','nan').astype(float)"
   ]
  },
  {
   "cell_type": "code",
   "execution_count": 6,
   "metadata": {},
   "outputs": [],
   "source": [
    "pengisian_fuel_final = pengisian_fuel.groupby(['code_unit',\n",
    "                                                'EGI',\n",
    "                                                'date',\n",
    "                                                'SLOC'])[['amount', 'Hm','Consumption']].sum().reset_index()"
   ]
  },
  {
   "cell_type": "code",
   "execution_count": 28,
   "metadata": {},
   "outputs": [
    {
     "name": "stdout",
     "output_type": "stream",
     "text": [
      "<class 'pandas.core.frame.DataFrame'>\n",
      "RangeIndex: 1664 entries, 0 to 1663\n",
      "Data columns (total 7 columns):\n",
      " #   Column       Non-Null Count  Dtype  \n",
      "---  ------       --------------  -----  \n",
      " 0   code_unit    1664 non-null   object \n",
      " 1   EGI          1664 non-null   object \n",
      " 2   date         1664 non-null   object \n",
      " 3   SLOC         1664 non-null   object \n",
      " 4   amount       1664 non-null   float64\n",
      " 5   Hm           1664 non-null   float64\n",
      " 6   Consumption  1664 non-null   float64\n",
      "dtypes: float64(3), object(4)\n",
      "memory usage: 91.1+ KB\n"
     ]
    }
   ],
   "source": [
    "pengisian_fuel_final.info()"
   ]
  },
  {
   "cell_type": "code",
   "execution_count": 7,
   "metadata": {},
   "outputs": [],
   "source": [
    "ritase_ex42['code_unit'] = 'EX42'\n",
    "ritase_ex44['code_unit'] = 'EX44'"
   ]
  },
  {
   "cell_type": "code",
   "execution_count": 8,
   "metadata": {},
   "outputs": [
    {
     "data": {
      "text/html": [
       "<div>\n",
       "<style scoped>\n",
       "    .dataframe tbody tr th:only-of-type {\n",
       "        vertical-align: middle;\n",
       "    }\n",
       "\n",
       "    .dataframe tbody tr th {\n",
       "        vertical-align: top;\n",
       "    }\n",
       "\n",
       "    .dataframe thead th {\n",
       "        text-align: right;\n",
       "    }\n",
       "</style>\n",
       "<table border=\"1\" class=\"dataframe\">\n",
       "  <thead>\n",
       "    <tr style=\"text-align: right;\">\n",
       "      <th></th>\n",
       "      <th>code_unit</th>\n",
       "      <th>EGI</th>\n",
       "      <th>date</th>\n",
       "      <th>SLOC</th>\n",
       "      <th>amount</th>\n",
       "      <th>Hm</th>\n",
       "      <th>Consumption</th>\n",
       "    </tr>\n",
       "  </thead>\n",
       "  <tbody>\n",
       "    <tr>\n",
       "      <th>0</th>\n",
       "      <td>EX41</td>\n",
       "      <td>EGI 37</td>\n",
       "      <td>2022-01-02</td>\n",
       "      <td>CN403</td>\n",
       "      <td>2362.0</td>\n",
       "      <td>45441.0</td>\n",
       "      <td>0.0</td>\n",
       "    </tr>\n",
       "    <tr>\n",
       "      <th>1</th>\n",
       "      <td>EX41</td>\n",
       "      <td>EGI 37</td>\n",
       "      <td>2022-01-03</td>\n",
       "      <td>CN403</td>\n",
       "      <td>1961.0</td>\n",
       "      <td>45480.0</td>\n",
       "      <td>0.0</td>\n",
       "    </tr>\n",
       "    <tr>\n",
       "      <th>2</th>\n",
       "      <td>EX41</td>\n",
       "      <td>EGI 37</td>\n",
       "      <td>2022-01-04</td>\n",
       "      <td>CN403</td>\n",
       "      <td>1950.0</td>\n",
       "      <td>45523.0</td>\n",
       "      <td>0.0</td>\n",
       "    </tr>\n",
       "    <tr>\n",
       "      <th>3</th>\n",
       "      <td>EX41</td>\n",
       "      <td>EGI 37</td>\n",
       "      <td>2022-01-05</td>\n",
       "      <td>CN403</td>\n",
       "      <td>1744.0</td>\n",
       "      <td>45566.0</td>\n",
       "      <td>0.0</td>\n",
       "    </tr>\n",
       "    <tr>\n",
       "      <th>4</th>\n",
       "      <td>EX41</td>\n",
       "      <td>EGI 37</td>\n",
       "      <td>2022-01-06</td>\n",
       "      <td>CN403</td>\n",
       "      <td>1060.0</td>\n",
       "      <td>22797.0</td>\n",
       "      <td>0.0</td>\n",
       "    </tr>\n",
       "    <tr>\n",
       "      <th>...</th>\n",
       "      <td>...</td>\n",
       "      <td>...</td>\n",
       "      <td>...</td>\n",
       "      <td>...</td>\n",
       "      <td>...</td>\n",
       "      <td>...</td>\n",
       "      <td>...</td>\n",
       "    </tr>\n",
       "    <tr>\n",
       "      <th>1659</th>\n",
       "      <td>EX44</td>\n",
       "      <td>EGI 87</td>\n",
       "      <td>2022-12-27</td>\n",
       "      <td>CN403</td>\n",
       "      <td>1137.0</td>\n",
       "      <td>50427.0</td>\n",
       "      <td>0.0</td>\n",
       "    </tr>\n",
       "    <tr>\n",
       "      <th>1660</th>\n",
       "      <td>EX44</td>\n",
       "      <td>EGI 87</td>\n",
       "      <td>2022-12-28</td>\n",
       "      <td>CN403</td>\n",
       "      <td>2061.0</td>\n",
       "      <td>50463.0</td>\n",
       "      <td>0.0</td>\n",
       "    </tr>\n",
       "    <tr>\n",
       "      <th>1661</th>\n",
       "      <td>EX44</td>\n",
       "      <td>EGI 87</td>\n",
       "      <td>2022-12-29</td>\n",
       "      <td>CN403</td>\n",
       "      <td>1524.0</td>\n",
       "      <td>50499.0</td>\n",
       "      <td>0.0</td>\n",
       "    </tr>\n",
       "    <tr>\n",
       "      <th>1662</th>\n",
       "      <td>EX44</td>\n",
       "      <td>EGI 87</td>\n",
       "      <td>2022-12-30</td>\n",
       "      <td>CN403</td>\n",
       "      <td>2091.0</td>\n",
       "      <td>50535.0</td>\n",
       "      <td>0.0</td>\n",
       "    </tr>\n",
       "    <tr>\n",
       "      <th>1663</th>\n",
       "      <td>EX44</td>\n",
       "      <td>EGI 87</td>\n",
       "      <td>2022-12-31</td>\n",
       "      <td>CN403</td>\n",
       "      <td>1052.0</td>\n",
       "      <td>25284.0</td>\n",
       "      <td>0.0</td>\n",
       "    </tr>\n",
       "  </tbody>\n",
       "</table>\n",
       "<p>1664 rows × 7 columns</p>\n",
       "</div>"
      ],
      "text/plain": [
       "     code_unit     EGI        date   SLOC  amount       Hm  Consumption\n",
       "0         EX41  EGI 37  2022-01-02  CN403  2362.0  45441.0          0.0\n",
       "1         EX41  EGI 37  2022-01-03  CN403  1961.0  45480.0          0.0\n",
       "2         EX41  EGI 37  2022-01-04  CN403  1950.0  45523.0          0.0\n",
       "3         EX41  EGI 37  2022-01-05  CN403  1744.0  45566.0          0.0\n",
       "4         EX41  EGI 37  2022-01-06  CN403  1060.0  22797.0          0.0\n",
       "...        ...     ...         ...    ...     ...      ...          ...\n",
       "1659      EX44  EGI 87  2022-12-27  CN403  1137.0  50427.0          0.0\n",
       "1660      EX44  EGI 87  2022-12-28  CN403  2061.0  50463.0          0.0\n",
       "1661      EX44  EGI 87  2022-12-29  CN403  1524.0  50499.0          0.0\n",
       "1662      EX44  EGI 87  2022-12-30  CN403  2091.0  50535.0          0.0\n",
       "1663      EX44  EGI 87  2022-12-31  CN403  1052.0  25284.0          0.0\n",
       "\n",
       "[1664 rows x 7 columns]"
      ]
     },
     "execution_count": 8,
     "metadata": {},
     "output_type": "execute_result"
    }
   ],
   "source": [
    "pengisian_fuel_final"
   ]
  },
  {
   "cell_type": "code",
   "execution_count": 9,
   "metadata": {},
   "outputs": [],
   "source": [
    "data_ritase = pd.concat([ritase_ex42, ritase_ex44], axis = 0, ignore_index=True)"
   ]
  },
  {
   "cell_type": "code",
   "execution_count": 13,
   "metadata": {},
   "outputs": [],
   "source": [
    "data_produksi.rename(columns={'Eq. Numb':'code_unit'}, inplace=True)"
   ]
  },
  {
   "cell_type": "code",
   "execution_count": 23,
   "metadata": {},
   "outputs": [
    {
     "name": "stdout",
     "output_type": "stream",
     "text": [
      "<class 'pandas.core.frame.DataFrame'>\n",
      "RangeIndex: 718 entries, 0 to 717\n",
      "Data columns (total 5 columns):\n",
      " #   Column         Non-Null Count  Dtype         \n",
      "---  ------         --------------  -----         \n",
      " 0   date           718 non-null    datetime64[ns]\n",
      " 1   code_unit      718 non-null    object        \n",
      " 2   EGI            718 non-null    object        \n",
      " 3   HM             718 non-null    float64       \n",
      " 4   Production OB  718 non-null    float64       \n",
      "dtypes: datetime64[ns](1), float64(2), object(2)\n",
      "memory usage: 28.2+ KB\n"
     ]
    }
   ],
   "source": [
    "data_produksi.info()"
   ]
  },
  {
   "cell_type": "code",
   "execution_count": 24,
   "metadata": {},
   "outputs": [],
   "source": [
    "data_produksi['date'] = data_produksi['date'].astype(str)"
   ]
  },
  {
   "cell_type": "code",
   "execution_count": 15,
   "metadata": {},
   "outputs": [],
   "source": [
    "data_final = pd.merge(pengisian_fuel_final,data_ritase,\n",
    "                        how='left', on = ['date', 'code_unit'])"
   ]
  },
  {
   "cell_type": "code",
   "execution_count": 30,
   "metadata": {},
   "outputs": [],
   "source": [
    "data_final = pd.merge(data_final,\n",
    "                        data_produksi, how='left', on = ['date', 'code_unit'])"
   ]
  },
  {
   "cell_type": "code",
   "execution_count": 36,
   "metadata": {},
   "outputs": [],
   "source": [
    "data_final.to_csv('../data/processed/data_final_join.csv',\n",
    "                  sep = ';',\n",
    "                  index=False)"
   ]
  },
  {
   "cell_type": "code",
   "execution_count": null,
   "metadata": {},
   "outputs": [],
   "source": []
  }
 ],
 "metadata": {
  "kernelspec": {
   "display_name": ".venv",
   "language": "python",
   "name": "python3"
  },
  "language_info": {
   "codemirror_mode": {
    "name": "ipython",
    "version": 3
   },
   "file_extension": ".py",
   "mimetype": "text/x-python",
   "name": "python",
   "nbconvert_exporter": "python",
   "pygments_lexer": "ipython3",
   "version": "3.10.9"
  },
  "orig_nbformat": 4,
  "vscode": {
   "interpreter": {
    "hash": "51c75f1b1061e4426bf0f43c1035d248a3d394675b9ff57edd180a28c633baa0"
   }
  }
 },
 "nbformat": 4,
 "nbformat_minor": 2
}
