{
 "cells": [
  {
   "attachments": {},
   "cell_type": "markdown",
   "metadata": {},
   "source": [
    "# Import Packages\n",
    "\n",
    "Note : Hanya modeling menggunakan EX42 dan 44, HM Calculation di hilangkan outlier"
   ]
  },
  {
   "cell_type": "code",
   "execution_count": 1,
   "metadata": {},
   "outputs": [],
   "source": [
    "import os\n",
    "import glob\n",
    "import pandas as pd\n",
    "import numpy as np\n",
    "from sklearn.linear_model import LinearRegression\n",
    "from sklearn.model_selection import train_test_split\n",
    "from sklearn.preprocessing import StandardScaler\n",
    "import matplotlib.pyplot as plt\n",
    "import seaborn as sns"
   ]
  },
  {
   "attachments": {},
   "cell_type": "markdown",
   "metadata": {},
   "source": [
    "# Import Raw Data"
   ]
  },
  {
   "attachments": {},
   "cell_type": "markdown",
   "metadata": {},
   "source": [
    "## Raw Data Fuel"
   ]
  },
  {
   "cell_type": "code",
   "execution_count": 2,
   "metadata": {},
   "outputs": [
    {
     "data": {
      "text/html": [
       "<div>\n",
       "<style scoped>\n",
       "    .dataframe tbody tr th:only-of-type {\n",
       "        vertical-align: middle;\n",
       "    }\n",
       "\n",
       "    .dataframe tbody tr th {\n",
       "        vertical-align: top;\n",
       "    }\n",
       "\n",
       "    .dataframe thead th {\n",
       "        text-align: right;\n",
       "    }\n",
       "</style>\n",
       "<table border=\"1\" class=\"dataframe\">\n",
       "  <thead>\n",
       "    <tr style=\"text-align: right;\">\n",
       "      <th></th>\n",
       "      <th>code_unit</th>\n",
       "      <th>EGI</th>\n",
       "      <th>tipe</th>\n",
       "      <th>date</th>\n",
       "      <th>hour</th>\n",
       "      <th>SLOC</th>\n",
       "      <th>amount</th>\n",
       "      <th>Hm</th>\n",
       "      <th>Consumption</th>\n",
       "      <th>HM</th>\n",
       "    </tr>\n",
       "  </thead>\n",
       "  <tbody>\n",
       "    <tr>\n",
       "      <th>1280</th>\n",
       "      <td>EX42</td>\n",
       "      <td>EGI 37</td>\n",
       "      <td>day</td>\n",
       "      <td>2022-09-26</td>\n",
       "      <td>11:56:00</td>\n",
       "      <td>CN403</td>\n",
       "      <td>1126.0</td>\n",
       "      <td>28193.0</td>\n",
       "      <td>147.000000</td>\n",
       "      <td>9.0</td>\n",
       "    </tr>\n",
       "    <tr>\n",
       "      <th>2612</th>\n",
       "      <td>EX44</td>\n",
       "      <td>EGI 87</td>\n",
       "      <td>day</td>\n",
       "      <td>2022-07-16</td>\n",
       "      <td>12:05:00</td>\n",
       "      <td>CN403</td>\n",
       "      <td>1041.0</td>\n",
       "      <td>22734.0</td>\n",
       "      <td>98.083333</td>\n",
       "      <td>12.0</td>\n",
       "    </tr>\n",
       "    <tr>\n",
       "      <th>313</th>\n",
       "      <td>EX41</td>\n",
       "      <td>EGI 37</td>\n",
       "      <td>day</td>\n",
       "      <td>2022-06-05</td>\n",
       "      <td>11:30:00</td>\n",
       "      <td>CN404</td>\n",
       "      <td>906.0</td>\n",
       "      <td>25093.0</td>\n",
       "      <td>12.000000</td>\n",
       "      <td>10.0</td>\n",
       "    </tr>\n",
       "    <tr>\n",
       "      <th>997</th>\n",
       "      <td>EX42</td>\n",
       "      <td>EGI 37</td>\n",
       "      <td>day</td>\n",
       "      <td>2022-05-09</td>\n",
       "      <td>14:46:00</td>\n",
       "      <td>CN404</td>\n",
       "      <td>775.0</td>\n",
       "      <td>25965.0</td>\n",
       "      <td>71.750000</td>\n",
       "      <td>8.0</td>\n",
       "    </tr>\n",
       "    <tr>\n",
       "      <th>2806</th>\n",
       "      <td>EX44</td>\n",
       "      <td>EGI 87</td>\n",
       "      <td>night</td>\n",
       "      <td>2022-10-20</td>\n",
       "      <td>00:19:00</td>\n",
       "      <td>CN404</td>\n",
       "      <td>1077.0</td>\n",
       "      <td>23946.0</td>\n",
       "      <td>90.727273</td>\n",
       "      <td>11.0</td>\n",
       "    </tr>\n",
       "    <tr>\n",
       "      <th>1546</th>\n",
       "      <td>EX43</td>\n",
       "      <td>EGI 87</td>\n",
       "      <td>night</td>\n",
       "      <td>2022-02-03</td>\n",
       "      <td>23:59:00</td>\n",
       "      <td>CN403</td>\n",
       "      <td>984.0</td>\n",
       "      <td>22203.0</td>\n",
       "      <td>101.777778</td>\n",
       "      <td>9.0</td>\n",
       "    </tr>\n",
       "    <tr>\n",
       "      <th>2335</th>\n",
       "      <td>EX44</td>\n",
       "      <td>EGI 87</td>\n",
       "      <td>day</td>\n",
       "      <td>2022-02-28</td>\n",
       "      <td>12:35:00</td>\n",
       "      <td>CN403</td>\n",
       "      <td>936.0</td>\n",
       "      <td>20291.0</td>\n",
       "      <td>90.000000</td>\n",
       "      <td>11.0</td>\n",
       "    </tr>\n",
       "    <tr>\n",
       "      <th>2134</th>\n",
       "      <td>EX43</td>\n",
       "      <td>EGI 87</td>\n",
       "      <td>night</td>\n",
       "      <td>2022-11-21</td>\n",
       "      <td>00:32:00</td>\n",
       "      <td>CN403</td>\n",
       "      <td>902.0</td>\n",
       "      <td>27151.0</td>\n",
       "      <td>143.888889</td>\n",
       "      <td>9.0</td>\n",
       "    </tr>\n",
       "    <tr>\n",
       "      <th>1453</th>\n",
       "      <td>EX42</td>\n",
       "      <td>EGI 37</td>\n",
       "      <td>night</td>\n",
       "      <td>2022-12-20</td>\n",
       "      <td>00:49:00</td>\n",
       "      <td>CN403</td>\n",
       "      <td>899.0</td>\n",
       "      <td>29738.0</td>\n",
       "      <td>162.666667</td>\n",
       "      <td>9.0</td>\n",
       "    </tr>\n",
       "    <tr>\n",
       "      <th>1549</th>\n",
       "      <td>EX43</td>\n",
       "      <td>EGI 87</td>\n",
       "      <td>day</td>\n",
       "      <td>2022-02-05</td>\n",
       "      <td>11:59:00</td>\n",
       "      <td>CN403</td>\n",
       "      <td>952.0</td>\n",
       "      <td>22236.0</td>\n",
       "      <td>48.181818</td>\n",
       "      <td>11.0</td>\n",
       "    </tr>\n",
       "  </tbody>\n",
       "</table>\n",
       "</div>"
      ],
      "text/plain": [
       "     code_unit     EGI   tipe        date      hour   SLOC  amount       Hm  \\\n",
       "1280      EX42  EGI 37    day  2022-09-26  11:56:00  CN403  1126.0  28193.0   \n",
       "2612      EX44  EGI 87    day  2022-07-16  12:05:00  CN403  1041.0  22734.0   \n",
       "313       EX41  EGI 37    day  2022-06-05  11:30:00  CN404   906.0  25093.0   \n",
       "997       EX42  EGI 37    day  2022-05-09  14:46:00  CN404   775.0  25965.0   \n",
       "2806      EX44  EGI 87  night  2022-10-20  00:19:00  CN404  1077.0  23946.0   \n",
       "1546      EX43  EGI 87  night  2022-02-03  23:59:00  CN403   984.0  22203.0   \n",
       "2335      EX44  EGI 87    day  2022-02-28  12:35:00  CN403   936.0  20291.0   \n",
       "2134      EX43  EGI 87  night  2022-11-21  00:32:00  CN403   902.0  27151.0   \n",
       "1453      EX42  EGI 37  night  2022-12-20  00:49:00  CN403   899.0  29738.0   \n",
       "1549      EX43  EGI 87    day  2022-02-05  11:59:00  CN403   952.0  22236.0   \n",
       "\n",
       "      Consumption    HM  \n",
       "1280   147.000000   9.0  \n",
       "2612    98.083333  12.0  \n",
       "313     12.000000  10.0  \n",
       "997     71.750000   8.0  \n",
       "2806    90.727273  11.0  \n",
       "1546   101.777778   9.0  \n",
       "2335    90.000000  11.0  \n",
       "2134   143.888889   9.0  \n",
       "1453   162.666667   9.0  \n",
       "1549    48.181818  11.0  "
      ]
     },
     "execution_count": 2,
     "metadata": {},
     "output_type": "execute_result"
    }
   ],
   "source": [
    "fuel_raw = pd.read_excel('../data/processed/all_completed.xlsx')\n",
    "\n",
    "fuel_raw.sample(10)"
   ]
  },
  {
   "cell_type": "code",
   "execution_count": 3,
   "metadata": {},
   "outputs": [],
   "source": [
    "fuel_interim = fuel_raw.groupby(['code_unit',\n",
    "                                 'date']).agg({'amount':np.sum,\n",
    "                                               'HM':np.sum,\n",
    "                                               'Consumption':np.mean}).reset_index().copy()"
   ]
  },
  {
   "cell_type": "code",
   "execution_count": 4,
   "metadata": {},
   "outputs": [
    {
     "data": {
      "text/html": [
       "<div>\n",
       "<style scoped>\n",
       "    .dataframe tbody tr th:only-of-type {\n",
       "        vertical-align: middle;\n",
       "    }\n",
       "\n",
       "    .dataframe tbody tr th {\n",
       "        vertical-align: top;\n",
       "    }\n",
       "\n",
       "    .dataframe thead th {\n",
       "        text-align: right;\n",
       "    }\n",
       "</style>\n",
       "<table border=\"1\" class=\"dataframe\">\n",
       "  <thead>\n",
       "    <tr style=\"text-align: right;\">\n",
       "      <th></th>\n",
       "      <th>code_unit</th>\n",
       "      <th>date</th>\n",
       "      <th>amount</th>\n",
       "      <th>HM</th>\n",
       "      <th>Consumption</th>\n",
       "    </tr>\n",
       "  </thead>\n",
       "  <tbody>\n",
       "    <tr>\n",
       "      <th>531</th>\n",
       "      <td>EX42</td>\n",
       "      <td>2022-06-16</td>\n",
       "      <td>2220.0</td>\n",
       "      <td>19.0</td>\n",
       "      <td>122.085227</td>\n",
       "    </tr>\n",
       "    <tr>\n",
       "      <th>904</th>\n",
       "      <td>EX43</td>\n",
       "      <td>2022-06-24</td>\n",
       "      <td>1635.0</td>\n",
       "      <td>18.0</td>\n",
       "      <td>94.112500</td>\n",
       "    </tr>\n",
       "    <tr>\n",
       "      <th>704</th>\n",
       "      <td>EX42</td>\n",
       "      <td>2022-12-06</td>\n",
       "      <td>2089.0</td>\n",
       "      <td>5.0</td>\n",
       "      <td>295.000000</td>\n",
       "    </tr>\n",
       "    <tr>\n",
       "      <th>477</th>\n",
       "      <td>EX42</td>\n",
       "      <td>2022-04-23</td>\n",
       "      <td>1682.0</td>\n",
       "      <td>16.0</td>\n",
       "      <td>127.126984</td>\n",
       "    </tr>\n",
       "    <tr>\n",
       "      <th>266</th>\n",
       "      <td>EX41</td>\n",
       "      <td>2022-09-24</td>\n",
       "      <td>954.0</td>\n",
       "      <td>15.0</td>\n",
       "      <td>63.600000</td>\n",
       "    </tr>\n",
       "    <tr>\n",
       "      <th>792</th>\n",
       "      <td>EX43</td>\n",
       "      <td>2022-03-04</td>\n",
       "      <td>1922.0</td>\n",
       "      <td>8.0</td>\n",
       "      <td>64.875000</td>\n",
       "    </tr>\n",
       "    <tr>\n",
       "      <th>994</th>\n",
       "      <td>EX43</td>\n",
       "      <td>2022-09-22</td>\n",
       "      <td>2073.0</td>\n",
       "      <td>10.0</td>\n",
       "      <td>101.300000</td>\n",
       "    </tr>\n",
       "    <tr>\n",
       "      <th>758</th>\n",
       "      <td>EX43</td>\n",
       "      <td>2022-01-29</td>\n",
       "      <td>1524.0</td>\n",
       "      <td>15.0</td>\n",
       "      <td>149.600000</td>\n",
       "    </tr>\n",
       "    <tr>\n",
       "      <th>615</th>\n",
       "      <td>EX42</td>\n",
       "      <td>2022-09-08</td>\n",
       "      <td>1233.0</td>\n",
       "      <td>16.0</td>\n",
       "      <td>71.200000</td>\n",
       "    </tr>\n",
       "    <tr>\n",
       "      <th>1294</th>\n",
       "      <td>EX44</td>\n",
       "      <td>2022-07-19</td>\n",
       "      <td>2063.0</td>\n",
       "      <td>22.0</td>\n",
       "      <td>93.391667</td>\n",
       "    </tr>\n",
       "  </tbody>\n",
       "</table>\n",
       "</div>"
      ],
      "text/plain": [
       "     code_unit        date  amount    HM  Consumption\n",
       "531       EX42  2022-06-16  2220.0  19.0   122.085227\n",
       "904       EX43  2022-06-24  1635.0  18.0    94.112500\n",
       "704       EX42  2022-12-06  2089.0   5.0   295.000000\n",
       "477       EX42  2022-04-23  1682.0  16.0   127.126984\n",
       "266       EX41  2022-09-24   954.0  15.0    63.600000\n",
       "792       EX43  2022-03-04  1922.0   8.0    64.875000\n",
       "994       EX43  2022-09-22  2073.0  10.0   101.300000\n",
       "758       EX43  2022-01-29  1524.0  15.0   149.600000\n",
       "615       EX42  2022-09-08  1233.0  16.0    71.200000\n",
       "1294      EX44  2022-07-19  2063.0  22.0    93.391667"
      ]
     },
     "execution_count": 4,
     "metadata": {},
     "output_type": "execute_result"
    }
   ],
   "source": [
    "fuel_interim.sample(10)"
   ]
  },
  {
   "attachments": {},
   "cell_type": "markdown",
   "metadata": {},
   "source": [
    "## Raw Data Production"
   ]
  },
  {
   "cell_type": "code",
   "execution_count": 5,
   "metadata": {},
   "outputs": [
    {
     "data": {
      "text/html": [
       "<div>\n",
       "<style scoped>\n",
       "    .dataframe tbody tr th:only-of-type {\n",
       "        vertical-align: middle;\n",
       "    }\n",
       "\n",
       "    .dataframe tbody tr th {\n",
       "        vertical-align: top;\n",
       "    }\n",
       "\n",
       "    .dataframe thead th {\n",
       "        text-align: right;\n",
       "    }\n",
       "</style>\n",
       "<table border=\"1\" class=\"dataframe\">\n",
       "  <thead>\n",
       "    <tr style=\"text-align: right;\">\n",
       "      <th></th>\n",
       "      <th>date</th>\n",
       "      <th>Eq. Numb</th>\n",
       "      <th>EGI</th>\n",
       "      <th>HM</th>\n",
       "      <th>Production OB</th>\n",
       "    </tr>\n",
       "  </thead>\n",
       "  <tbody>\n",
       "    <tr>\n",
       "      <th>425</th>\n",
       "      <td>2022-09-15</td>\n",
       "      <td>EX43</td>\n",
       "      <td>Excavator</td>\n",
       "      <td>19.0</td>\n",
       "      <td>10750.0</td>\n",
       "    </tr>\n",
       "    <tr>\n",
       "      <th>452</th>\n",
       "      <td>2022-10-07</td>\n",
       "      <td>EX41</td>\n",
       "      <td>Excavator</td>\n",
       "      <td>16.0</td>\n",
       "      <td>6321.0</td>\n",
       "    </tr>\n",
       "    <tr>\n",
       "      <th>457</th>\n",
       "      <td>2022-10-09</td>\n",
       "      <td>EX43</td>\n",
       "      <td>Excavator</td>\n",
       "      <td>13.0</td>\n",
       "      <td>5633.0</td>\n",
       "    </tr>\n",
       "    <tr>\n",
       "      <th>498</th>\n",
       "      <td>2022-10-30</td>\n",
       "      <td>EX41</td>\n",
       "      <td>Excavator</td>\n",
       "      <td>19.0</td>\n",
       "      <td>8023.0</td>\n",
       "    </tr>\n",
       "    <tr>\n",
       "      <th>325</th>\n",
       "      <td>2022-07-27</td>\n",
       "      <td>EX43</td>\n",
       "      <td>Excavator</td>\n",
       "      <td>22.0</td>\n",
       "      <td>9570.0</td>\n",
       "    </tr>\n",
       "    <tr>\n",
       "      <th>101</th>\n",
       "      <td>2022-02-21</td>\n",
       "      <td>EX43</td>\n",
       "      <td>Excavator</td>\n",
       "      <td>22.0</td>\n",
       "      <td>9988.0</td>\n",
       "    </tr>\n",
       "    <tr>\n",
       "      <th>475</th>\n",
       "      <td>2022-10-18</td>\n",
       "      <td>EX43</td>\n",
       "      <td>Excavator</td>\n",
       "      <td>19.0</td>\n",
       "      <td>7869.0</td>\n",
       "    </tr>\n",
       "    <tr>\n",
       "      <th>320</th>\n",
       "      <td>2022-07-25</td>\n",
       "      <td>EX41</td>\n",
       "      <td>Excavator</td>\n",
       "      <td>21.0</td>\n",
       "      <td>9874.5</td>\n",
       "    </tr>\n",
       "    <tr>\n",
       "      <th>10</th>\n",
       "      <td>2022-01-07</td>\n",
       "      <td>EX41</td>\n",
       "      <td>Excavator</td>\n",
       "      <td>22.0</td>\n",
       "      <td>12195.0</td>\n",
       "    </tr>\n",
       "    <tr>\n",
       "      <th>504</th>\n",
       "      <td>2022-11-02</td>\n",
       "      <td>EX41</td>\n",
       "      <td>Excavator</td>\n",
       "      <td>15.0</td>\n",
       "      <td>5372.0</td>\n",
       "    </tr>\n",
       "  </tbody>\n",
       "</table>\n",
       "</div>"
      ],
      "text/plain": [
       "          date Eq. Numb        EGI    HM  Production OB\n",
       "425 2022-09-15     EX43  Excavator  19.0        10750.0\n",
       "452 2022-10-07     EX41  Excavator  16.0         6321.0\n",
       "457 2022-10-09     EX43  Excavator  13.0         5633.0\n",
       "498 2022-10-30     EX41  Excavator  19.0         8023.0\n",
       "325 2022-07-27     EX43  Excavator  22.0         9570.0\n",
       "101 2022-02-21     EX43  Excavator  22.0         9988.0\n",
       "475 2022-10-18     EX43  Excavator  19.0         7869.0\n",
       "320 2022-07-25     EX41  Excavator  21.0         9874.5\n",
       "10  2022-01-07     EX41  Excavator  22.0        12195.0\n",
       "504 2022-11-02     EX41  Excavator  15.0         5372.0"
      ]
     },
     "execution_count": 5,
     "metadata": {},
     "output_type": "execute_result"
    }
   ],
   "source": [
    "production = pd.read_excel('../data/processed/Produksi EX41 dan EX43.ods')\n",
    "\n",
    "production.sample(10)"
   ]
  },
  {
   "cell_type": "code",
   "execution_count": 6,
   "metadata": {},
   "outputs": [],
   "source": [
    "production_interim = production[['date',\n",
    "                                 'Eq. Numb',\n",
    "                                 'HM',\n",
    "                                 'Production OB']].copy()"
   ]
  },
  {
   "cell_type": "code",
   "execution_count": 7,
   "metadata": {},
   "outputs": [],
   "source": [
    "production_interim.rename(columns={\"Eq. Numb\": \"code_unit\"}, inplace=True)"
   ]
  },
  {
   "cell_type": "code",
   "execution_count": 8,
   "metadata": {},
   "outputs": [
    {
     "name": "stdout",
     "output_type": "stream",
     "text": [
      "<class 'pandas.core.frame.DataFrame'>\n",
      "RangeIndex: 718 entries, 0 to 717\n",
      "Data columns (total 4 columns):\n",
      " #   Column         Non-Null Count  Dtype         \n",
      "---  ------         --------------  -----         \n",
      " 0   date           718 non-null    datetime64[ns]\n",
      " 1   code_unit      718 non-null    object        \n",
      " 2   HM             718 non-null    float64       \n",
      " 3   Production OB  718 non-null    float64       \n",
      "dtypes: datetime64[ns](1), float64(2), object(1)\n",
      "memory usage: 22.6+ KB\n"
     ]
    }
   ],
   "source": [
    "production_interim.info()"
   ]
  },
  {
   "cell_type": "code",
   "execution_count": 9,
   "metadata": {},
   "outputs": [
    {
     "data": {
      "text/html": [
       "<div>\n",
       "<style scoped>\n",
       "    .dataframe tbody tr th:only-of-type {\n",
       "        vertical-align: middle;\n",
       "    }\n",
       "\n",
       "    .dataframe tbody tr th {\n",
       "        vertical-align: top;\n",
       "    }\n",
       "\n",
       "    .dataframe thead th {\n",
       "        text-align: right;\n",
       "    }\n",
       "</style>\n",
       "<table border=\"1\" class=\"dataframe\">\n",
       "  <thead>\n",
       "    <tr style=\"text-align: right;\">\n",
       "      <th></th>\n",
       "      <th>date</th>\n",
       "      <th>code_unit</th>\n",
       "      <th>HM</th>\n",
       "      <th>Production OB</th>\n",
       "    </tr>\n",
       "  </thead>\n",
       "  <tbody>\n",
       "    <tr>\n",
       "      <th>76</th>\n",
       "      <td>2022-02-09</td>\n",
       "      <td>EX41</td>\n",
       "      <td>16.0</td>\n",
       "      <td>8360.0</td>\n",
       "    </tr>\n",
       "    <tr>\n",
       "      <th>111</th>\n",
       "      <td>2022-02-26</td>\n",
       "      <td>EX43</td>\n",
       "      <td>18.0</td>\n",
       "      <td>7566.0</td>\n",
       "    </tr>\n",
       "    <tr>\n",
       "      <th>655</th>\n",
       "      <td>2023-01-16</td>\n",
       "      <td>EX43</td>\n",
       "      <td>2.0</td>\n",
       "      <td>0.0</td>\n",
       "    </tr>\n",
       "    <tr>\n",
       "      <th>378</th>\n",
       "      <td>2022-08-23</td>\n",
       "      <td>EX41</td>\n",
       "      <td>16.0</td>\n",
       "      <td>7785.0</td>\n",
       "    </tr>\n",
       "    <tr>\n",
       "      <th>463</th>\n",
       "      <td>2022-10-12</td>\n",
       "      <td>EX43</td>\n",
       "      <td>17.0</td>\n",
       "      <td>8342.0</td>\n",
       "    </tr>\n",
       "    <tr>\n",
       "      <th>168</th>\n",
       "      <td>2022-03-27</td>\n",
       "      <td>EX41</td>\n",
       "      <td>22.0</td>\n",
       "      <td>10076.0</td>\n",
       "    </tr>\n",
       "    <tr>\n",
       "      <th>197</th>\n",
       "      <td>2022-04-10</td>\n",
       "      <td>EX43</td>\n",
       "      <td>13.0</td>\n",
       "      <td>6178.0</td>\n",
       "    </tr>\n",
       "    <tr>\n",
       "      <th>8</th>\n",
       "      <td>2022-01-06</td>\n",
       "      <td>EX41</td>\n",
       "      <td>13.0</td>\n",
       "      <td>6255.0</td>\n",
       "    </tr>\n",
       "    <tr>\n",
       "      <th>579</th>\n",
       "      <td>2022-12-09</td>\n",
       "      <td>EX43</td>\n",
       "      <td>21.0</td>\n",
       "      <td>10062.0</td>\n",
       "    </tr>\n",
       "    <tr>\n",
       "      <th>310</th>\n",
       "      <td>2022-07-19</td>\n",
       "      <td>EX41</td>\n",
       "      <td>5.0</td>\n",
       "      <td>2728.0</td>\n",
       "    </tr>\n",
       "  </tbody>\n",
       "</table>\n",
       "</div>"
      ],
      "text/plain": [
       "          date code_unit    HM  Production OB\n",
       "76  2022-02-09      EX41  16.0         8360.0\n",
       "111 2022-02-26      EX43  18.0         7566.0\n",
       "655 2023-01-16      EX43   2.0            0.0\n",
       "378 2022-08-23      EX41  16.0         7785.0\n",
       "463 2022-10-12      EX43  17.0         8342.0\n",
       "168 2022-03-27      EX41  22.0        10076.0\n",
       "197 2022-04-10      EX43  13.0         6178.0\n",
       "8   2022-01-06      EX41  13.0         6255.0\n",
       "579 2022-12-09      EX43  21.0        10062.0\n",
       "310 2022-07-19      EX41   5.0         2728.0"
      ]
     },
     "execution_count": 9,
     "metadata": {},
     "output_type": "execute_result"
    }
   ],
   "source": [
    "production_interim.sample(10)"
   ]
  },
  {
   "cell_type": "code",
   "execution_count": 10,
   "metadata": {},
   "outputs": [],
   "source": [
    "production_interim['date'] = production_interim['date'].astype(str) "
   ]
  },
  {
   "attachments": {},
   "cell_type": "markdown",
   "metadata": {},
   "source": [
    "## Raw Data Ritase"
   ]
  },
  {
   "cell_type": "code",
   "execution_count": 11,
   "metadata": {},
   "outputs": [
    {
     "data": {
      "text/html": [
       "<div>\n",
       "<style scoped>\n",
       "    .dataframe tbody tr th:only-of-type {\n",
       "        vertical-align: middle;\n",
       "    }\n",
       "\n",
       "    .dataframe tbody tr th {\n",
       "        vertical-align: top;\n",
       "    }\n",
       "\n",
       "    .dataframe thead th {\n",
       "        text-align: right;\n",
       "    }\n",
       "</style>\n",
       "<table border=\"1\" class=\"dataframe\">\n",
       "  <thead>\n",
       "    <tr style=\"text-align: right;\">\n",
       "      <th></th>\n",
       "      <th>date</th>\n",
       "      <th>ritase</th>\n",
       "      <th>code_unit</th>\n",
       "      <th>OB</th>\n",
       "    </tr>\n",
       "  </thead>\n",
       "  <tbody>\n",
       "    <tr>\n",
       "      <th>0</th>\n",
       "      <td>2022-01-01</td>\n",
       "      <td>0</td>\n",
       "      <td>EX42</td>\n",
       "      <td>0</td>\n",
       "    </tr>\n",
       "    <tr>\n",
       "      <th>1</th>\n",
       "      <td>2022-01-02</td>\n",
       "      <td>135</td>\n",
       "      <td>EX42</td>\n",
       "      <td>5805</td>\n",
       "    </tr>\n",
       "    <tr>\n",
       "      <th>2</th>\n",
       "      <td>2022-01-03</td>\n",
       "      <td>149</td>\n",
       "      <td>EX42</td>\n",
       "      <td>6407</td>\n",
       "    </tr>\n",
       "    <tr>\n",
       "      <th>3</th>\n",
       "      <td>2022-01-04</td>\n",
       "      <td>159</td>\n",
       "      <td>EX42</td>\n",
       "      <td>6837</td>\n",
       "    </tr>\n",
       "    <tr>\n",
       "      <th>4</th>\n",
       "      <td>2022-01-05</td>\n",
       "      <td>135</td>\n",
       "      <td>EX42</td>\n",
       "      <td>5805</td>\n",
       "    </tr>\n",
       "    <tr>\n",
       "      <th>...</th>\n",
       "      <td>...</td>\n",
       "      <td>...</td>\n",
       "      <td>...</td>\n",
       "      <td>...</td>\n",
       "    </tr>\n",
       "    <tr>\n",
       "      <th>727</th>\n",
       "      <td>2022-12-28</td>\n",
       "      <td>211</td>\n",
       "      <td>EX44</td>\n",
       "      <td>9073</td>\n",
       "    </tr>\n",
       "    <tr>\n",
       "      <th>728</th>\n",
       "      <td>2022-12-29</td>\n",
       "      <td>164</td>\n",
       "      <td>EX44</td>\n",
       "      <td>7052</td>\n",
       "    </tr>\n",
       "    <tr>\n",
       "      <th>729</th>\n",
       "      <td>2022-12-30</td>\n",
       "      <td>255</td>\n",
       "      <td>EX44</td>\n",
       "      <td>10965</td>\n",
       "    </tr>\n",
       "    <tr>\n",
       "      <th>730</th>\n",
       "      <td>2022-12-31</td>\n",
       "      <td>192</td>\n",
       "      <td>EX44</td>\n",
       "      <td>8256</td>\n",
       "    </tr>\n",
       "    <tr>\n",
       "      <th>731</th>\n",
       "      <td>2023-01-01</td>\n",
       "      <td>0</td>\n",
       "      <td>EX44</td>\n",
       "      <td>0</td>\n",
       "    </tr>\n",
       "  </tbody>\n",
       "</table>\n",
       "<p>732 rows × 4 columns</p>\n",
       "</div>"
      ],
      "text/plain": [
       "           date  ritase code_unit     OB\n",
       "0    2022-01-01       0      EX42      0\n",
       "1    2022-01-02     135      EX42   5805\n",
       "2    2022-01-03     149      EX42   6407\n",
       "3    2022-01-04     159      EX42   6837\n",
       "4    2022-01-05     135      EX42   5805\n",
       "..          ...     ...       ...    ...\n",
       "727  2022-12-28     211      EX44   9073\n",
       "728  2022-12-29     164      EX44   7052\n",
       "729  2022-12-30     255      EX44  10965\n",
       "730  2022-12-31     192      EX44   8256\n",
       "731  2023-01-01       0      EX44      0\n",
       "\n",
       "[732 rows x 4 columns]"
      ]
     },
     "execution_count": 11,
     "metadata": {},
     "output_type": "execute_result"
    }
   ],
   "source": [
    "ritase_files = glob.glob('../data/processed/ritase_*.xls')\n",
    "\n",
    "temp = []\n",
    "for i in ritase_files:\n",
    "      frame = pd.read_csv(i)\n",
    "      frame['code_unit'] = i[25:29].upper()\n",
    "      temp.append(frame)\n",
    "\n",
    "ritase = pd.concat(temp, axis=0, ignore_index=True)\n",
    "\n",
    "ritase['OB'] = ritase['ritase'] * 43\n",
    "\n",
    "ritase"
   ]
  },
  {
   "cell_type": "code",
   "execution_count": 12,
   "metadata": {},
   "outputs": [],
   "source": [
    "ritase_interim = ritase[['date', 'code_unit', 'OB']].copy()"
   ]
  },
  {
   "cell_type": "code",
   "execution_count": 13,
   "metadata": {},
   "outputs": [],
   "source": [
    "ritase_interim.rename(columns={\"OB\": \"Production OB\"}, inplace=True)"
   ]
  },
  {
   "cell_type": "code",
   "execution_count": 14,
   "metadata": {},
   "outputs": [
    {
     "data": {
      "text/html": [
       "<div>\n",
       "<style scoped>\n",
       "    .dataframe tbody tr th:only-of-type {\n",
       "        vertical-align: middle;\n",
       "    }\n",
       "\n",
       "    .dataframe tbody tr th {\n",
       "        vertical-align: top;\n",
       "    }\n",
       "\n",
       "    .dataframe thead th {\n",
       "        text-align: right;\n",
       "    }\n",
       "</style>\n",
       "<table border=\"1\" class=\"dataframe\">\n",
       "  <thead>\n",
       "    <tr style=\"text-align: right;\">\n",
       "      <th></th>\n",
       "      <th>date</th>\n",
       "      <th>code_unit</th>\n",
       "      <th>Production OB</th>\n",
       "    </tr>\n",
       "  </thead>\n",
       "  <tbody>\n",
       "    <tr>\n",
       "      <th>292</th>\n",
       "      <td>2022-10-20</td>\n",
       "      <td>EX42</td>\n",
       "      <td>8170</td>\n",
       "    </tr>\n",
       "    <tr>\n",
       "      <th>256</th>\n",
       "      <td>2022-09-14</td>\n",
       "      <td>EX42</td>\n",
       "      <td>7998</td>\n",
       "    </tr>\n",
       "    <tr>\n",
       "      <th>175</th>\n",
       "      <td>2022-06-25</td>\n",
       "      <td>EX42</td>\n",
       "      <td>8428</td>\n",
       "    </tr>\n",
       "    <tr>\n",
       "      <th>332</th>\n",
       "      <td>2022-11-29</td>\n",
       "      <td>EX42</td>\n",
       "      <td>7697</td>\n",
       "    </tr>\n",
       "    <tr>\n",
       "      <th>327</th>\n",
       "      <td>2022-11-24</td>\n",
       "      <td>EX42</td>\n",
       "      <td>9718</td>\n",
       "    </tr>\n",
       "    <tr>\n",
       "      <th>407</th>\n",
       "      <td>2022-02-11</td>\n",
       "      <td>EX44</td>\n",
       "      <td>6364</td>\n",
       "    </tr>\n",
       "    <tr>\n",
       "      <th>492</th>\n",
       "      <td>2022-05-07</td>\n",
       "      <td>EX44</td>\n",
       "      <td>6708</td>\n",
       "    </tr>\n",
       "    <tr>\n",
       "      <th>78</th>\n",
       "      <td>2022-03-20</td>\n",
       "      <td>EX42</td>\n",
       "      <td>4816</td>\n",
       "    </tr>\n",
       "    <tr>\n",
       "      <th>423</th>\n",
       "      <td>2022-02-27</td>\n",
       "      <td>EX44</td>\n",
       "      <td>8557</td>\n",
       "    </tr>\n",
       "    <tr>\n",
       "      <th>129</th>\n",
       "      <td>2022-05-10</td>\n",
       "      <td>EX42</td>\n",
       "      <td>8901</td>\n",
       "    </tr>\n",
       "  </tbody>\n",
       "</table>\n",
       "</div>"
      ],
      "text/plain": [
       "           date code_unit  Production OB\n",
       "292  2022-10-20      EX42           8170\n",
       "256  2022-09-14      EX42           7998\n",
       "175  2022-06-25      EX42           8428\n",
       "332  2022-11-29      EX42           7697\n",
       "327  2022-11-24      EX42           9718\n",
       "407  2022-02-11      EX44           6364\n",
       "492  2022-05-07      EX44           6708\n",
       "78   2022-03-20      EX42           4816\n",
       "423  2022-02-27      EX44           8557\n",
       "129  2022-05-10      EX42           8901"
      ]
     },
     "execution_count": 14,
     "metadata": {},
     "output_type": "execute_result"
    }
   ],
   "source": [
    "ritase_interim.sample(10)"
   ]
  },
  {
   "cell_type": "code",
   "execution_count": 15,
   "metadata": {},
   "outputs": [
    {
     "data": {
      "text/html": [
       "<div>\n",
       "<style scoped>\n",
       "    .dataframe tbody tr th:only-of-type {\n",
       "        vertical-align: middle;\n",
       "    }\n",
       "\n",
       "    .dataframe tbody tr th {\n",
       "        vertical-align: top;\n",
       "    }\n",
       "\n",
       "    .dataframe thead th {\n",
       "        text-align: right;\n",
       "    }\n",
       "</style>\n",
       "<table border=\"1\" class=\"dataframe\">\n",
       "  <thead>\n",
       "    <tr style=\"text-align: right;\">\n",
       "      <th></th>\n",
       "      <th>date</th>\n",
       "      <th>code_unit</th>\n",
       "      <th>HM</th>\n",
       "      <th>Production OB</th>\n",
       "    </tr>\n",
       "  </thead>\n",
       "  <tbody>\n",
       "    <tr>\n",
       "      <th>416</th>\n",
       "      <td>2022-02-20</td>\n",
       "      <td>EX44</td>\n",
       "      <td>NaN</td>\n",
       "      <td>172</td>\n",
       "    </tr>\n",
       "    <tr>\n",
       "      <th>712</th>\n",
       "      <td>2022-12-13</td>\n",
       "      <td>EX44</td>\n",
       "      <td>NaN</td>\n",
       "      <td>9460</td>\n",
       "    </tr>\n",
       "    <tr>\n",
       "      <th>161</th>\n",
       "      <td>2022-06-11</td>\n",
       "      <td>EX42</td>\n",
       "      <td>NaN</td>\n",
       "      <td>13588</td>\n",
       "    </tr>\n",
       "    <tr>\n",
       "      <th>159</th>\n",
       "      <td>2022-06-09</td>\n",
       "      <td>EX42</td>\n",
       "      <td>NaN</td>\n",
       "      <td>7396</td>\n",
       "    </tr>\n",
       "    <tr>\n",
       "      <th>609</th>\n",
       "      <td>2022-09-01</td>\n",
       "      <td>EX44</td>\n",
       "      <td>NaN</td>\n",
       "      <td>8858</td>\n",
       "    </tr>\n",
       "  </tbody>\n",
       "</table>\n",
       "</div>"
      ],
      "text/plain": [
       "           date code_unit  HM  Production OB\n",
       "416  2022-02-20      EX44 NaN            172\n",
       "712  2022-12-13      EX44 NaN           9460\n",
       "161  2022-06-11      EX42 NaN          13588\n",
       "159  2022-06-09      EX42 NaN           7396\n",
       "609  2022-09-01      EX44 NaN           8858"
      ]
     },
     "execution_count": 15,
     "metadata": {},
     "output_type": "execute_result"
    }
   ],
   "source": [
    "ritase_interim.insert(2, 'HM', np.nan)\n",
    "\n",
    "ritase_interim.sample(5)"
   ]
  },
  {
   "cell_type": "code",
   "execution_count": 16,
   "metadata": {},
   "outputs": [
    {
     "name": "stdout",
     "output_type": "stream",
     "text": [
      "<class 'pandas.core.frame.DataFrame'>\n",
      "RangeIndex: 732 entries, 0 to 731\n",
      "Data columns (total 4 columns):\n",
      " #   Column         Non-Null Count  Dtype  \n",
      "---  ------         --------------  -----  \n",
      " 0   date           732 non-null    object \n",
      " 1   code_unit      732 non-null    object \n",
      " 2   HM             0 non-null      float64\n",
      " 3   Production OB  732 non-null    int64  \n",
      "dtypes: float64(1), int64(1), object(2)\n",
      "memory usage: 23.0+ KB\n"
     ]
    }
   ],
   "source": [
    "ritase_interim.info()"
   ]
  },
  {
   "cell_type": "code",
   "execution_count": 17,
   "metadata": {},
   "outputs": [
    {
     "data": {
      "text/html": [
       "<div>\n",
       "<style scoped>\n",
       "    .dataframe tbody tr th:only-of-type {\n",
       "        vertical-align: middle;\n",
       "    }\n",
       "\n",
       "    .dataframe tbody tr th {\n",
       "        vertical-align: top;\n",
       "    }\n",
       "\n",
       "    .dataframe thead th {\n",
       "        text-align: right;\n",
       "    }\n",
       "</style>\n",
       "<table border=\"1\" class=\"dataframe\">\n",
       "  <thead>\n",
       "    <tr style=\"text-align: right;\">\n",
       "      <th></th>\n",
       "      <th>date</th>\n",
       "      <th>code_unit</th>\n",
       "      <th>HM</th>\n",
       "      <th>Production OB</th>\n",
       "    </tr>\n",
       "  </thead>\n",
       "  <tbody>\n",
       "    <tr>\n",
       "      <th>838</th>\n",
       "      <td>2022-05-01</td>\n",
       "      <td>EX42</td>\n",
       "      <td>NaN</td>\n",
       "      <td>6106.0</td>\n",
       "    </tr>\n",
       "    <tr>\n",
       "      <th>156</th>\n",
       "      <td>2022-03-21</td>\n",
       "      <td>EX41</td>\n",
       "      <td>22.0</td>\n",
       "      <td>10956.0</td>\n",
       "    </tr>\n",
       "    <tr>\n",
       "      <th>1255</th>\n",
       "      <td>2022-06-21</td>\n",
       "      <td>EX44</td>\n",
       "      <td>NaN</td>\n",
       "      <td>7869.0</td>\n",
       "    </tr>\n",
       "    <tr>\n",
       "      <th>401</th>\n",
       "      <td>2022-09-03</td>\n",
       "      <td>EX43</td>\n",
       "      <td>20.0</td>\n",
       "      <td>8481.0</td>\n",
       "    </tr>\n",
       "    <tr>\n",
       "      <th>289</th>\n",
       "      <td>2022-07-08</td>\n",
       "      <td>EX43</td>\n",
       "      <td>21.0</td>\n",
       "      <td>10125.0</td>\n",
       "    </tr>\n",
       "  </tbody>\n",
       "</table>\n",
       "</div>"
      ],
      "text/plain": [
       "            date code_unit    HM  Production OB\n",
       "838   2022-05-01      EX42   NaN         6106.0\n",
       "156   2022-03-21      EX41  22.0        10956.0\n",
       "1255  2022-06-21      EX44   NaN         7869.0\n",
       "401   2022-09-03      EX43  20.0         8481.0\n",
       "289   2022-07-08      EX43  21.0        10125.0"
      ]
     },
     "execution_count": 17,
     "metadata": {},
     "output_type": "execute_result"
    }
   ],
   "source": [
    "production_final = pd.concat([production_interim, ritase_interim], \n",
    "                             axis=0, ignore_index=True)\n",
    "\n",
    "production_final.sample(5)"
   ]
  },
  {
   "cell_type": "code",
   "execution_count": 18,
   "metadata": {},
   "outputs": [
    {
     "data": {
      "text/html": [
       "<div>\n",
       "<style scoped>\n",
       "    .dataframe tbody tr th:only-of-type {\n",
       "        vertical-align: middle;\n",
       "    }\n",
       "\n",
       "    .dataframe tbody tr th {\n",
       "        vertical-align: top;\n",
       "    }\n",
       "\n",
       "    .dataframe thead th {\n",
       "        text-align: right;\n",
       "    }\n",
       "</style>\n",
       "<table border=\"1\" class=\"dataframe\">\n",
       "  <thead>\n",
       "    <tr style=\"text-align: right;\">\n",
       "      <th></th>\n",
       "      <th>date</th>\n",
       "      <th>code_unit</th>\n",
       "      <th>HM</th>\n",
       "      <th>Production OB</th>\n",
       "    </tr>\n",
       "  </thead>\n",
       "  <tbody>\n",
       "    <tr>\n",
       "      <th>0</th>\n",
       "      <td>2022-01-02</td>\n",
       "      <td>EX41</td>\n",
       "      <td>20.0</td>\n",
       "      <td>10350.0</td>\n",
       "    </tr>\n",
       "    <tr>\n",
       "      <th>1</th>\n",
       "      <td>2022-01-02</td>\n",
       "      <td>EX43</td>\n",
       "      <td>21.0</td>\n",
       "      <td>10800.0</td>\n",
       "    </tr>\n",
       "    <tr>\n",
       "      <th>2</th>\n",
       "      <td>2022-01-03</td>\n",
       "      <td>EX41</td>\n",
       "      <td>22.0</td>\n",
       "      <td>11565.0</td>\n",
       "    </tr>\n",
       "    <tr>\n",
       "      <th>3</th>\n",
       "      <td>2022-01-03</td>\n",
       "      <td>EX43</td>\n",
       "      <td>21.0</td>\n",
       "      <td>9675.0</td>\n",
       "    </tr>\n",
       "    <tr>\n",
       "      <th>4</th>\n",
       "      <td>2022-01-04</td>\n",
       "      <td>EX41</td>\n",
       "      <td>14.0</td>\n",
       "      <td>6750.0</td>\n",
       "    </tr>\n",
       "    <tr>\n",
       "      <th>...</th>\n",
       "      <td>...</td>\n",
       "      <td>...</td>\n",
       "      <td>...</td>\n",
       "      <td>...</td>\n",
       "    </tr>\n",
       "    <tr>\n",
       "      <th>1445</th>\n",
       "      <td>2022-12-28</td>\n",
       "      <td>EX44</td>\n",
       "      <td>NaN</td>\n",
       "      <td>9073.0</td>\n",
       "    </tr>\n",
       "    <tr>\n",
       "      <th>1446</th>\n",
       "      <td>2022-12-29</td>\n",
       "      <td>EX44</td>\n",
       "      <td>NaN</td>\n",
       "      <td>7052.0</td>\n",
       "    </tr>\n",
       "    <tr>\n",
       "      <th>1447</th>\n",
       "      <td>2022-12-30</td>\n",
       "      <td>EX44</td>\n",
       "      <td>NaN</td>\n",
       "      <td>10965.0</td>\n",
       "    </tr>\n",
       "    <tr>\n",
       "      <th>1448</th>\n",
       "      <td>2022-12-31</td>\n",
       "      <td>EX44</td>\n",
       "      <td>NaN</td>\n",
       "      <td>8256.0</td>\n",
       "    </tr>\n",
       "    <tr>\n",
       "      <th>1449</th>\n",
       "      <td>2023-01-01</td>\n",
       "      <td>EX44</td>\n",
       "      <td>NaN</td>\n",
       "      <td>0.0</td>\n",
       "    </tr>\n",
       "  </tbody>\n",
       "</table>\n",
       "<p>1450 rows × 4 columns</p>\n",
       "</div>"
      ],
      "text/plain": [
       "            date code_unit    HM  Production OB\n",
       "0     2022-01-02      EX41  20.0        10350.0\n",
       "1     2022-01-02      EX43  21.0        10800.0\n",
       "2     2022-01-03      EX41  22.0        11565.0\n",
       "3     2022-01-03      EX43  21.0         9675.0\n",
       "4     2022-01-04      EX41  14.0         6750.0\n",
       "...          ...       ...   ...            ...\n",
       "1445  2022-12-28      EX44   NaN         9073.0\n",
       "1446  2022-12-29      EX44   NaN         7052.0\n",
       "1447  2022-12-30      EX44   NaN        10965.0\n",
       "1448  2022-12-31      EX44   NaN         8256.0\n",
       "1449  2023-01-01      EX44   NaN            0.0\n",
       "\n",
       "[1450 rows x 4 columns]"
      ]
     },
     "execution_count": 18,
     "metadata": {},
     "output_type": "execute_result"
    }
   ],
   "source": [
    "production_final"
   ]
  },
  {
   "cell_type": "code",
   "execution_count": 19,
   "metadata": {},
   "outputs": [
    {
     "data": {
      "text/plain": [
       "array(['EX41', 'EX43', 'EX42', 'EX44'], dtype=object)"
      ]
     },
     "execution_count": 19,
     "metadata": {},
     "output_type": "execute_result"
    }
   ],
   "source": [
    "production_final['code_unit'].unique()"
   ]
  },
  {
   "attachments": {},
   "cell_type": "markdown",
   "metadata": {},
   "source": [
    "## Finalize Data"
   ]
  },
  {
   "cell_type": "code",
   "execution_count": 20,
   "metadata": {},
   "outputs": [
    {
     "data": {
      "text/html": [
       "<div>\n",
       "<style scoped>\n",
       "    .dataframe tbody tr th:only-of-type {\n",
       "        vertical-align: middle;\n",
       "    }\n",
       "\n",
       "    .dataframe tbody tr th {\n",
       "        vertical-align: top;\n",
       "    }\n",
       "\n",
       "    .dataframe thead th {\n",
       "        text-align: right;\n",
       "    }\n",
       "</style>\n",
       "<table border=\"1\" class=\"dataframe\">\n",
       "  <thead>\n",
       "    <tr style=\"text-align: right;\">\n",
       "      <th></th>\n",
       "      <th>code_unit</th>\n",
       "      <th>date</th>\n",
       "      <th>amount</th>\n",
       "      <th>HM</th>\n",
       "      <th>Consumption</th>\n",
       "    </tr>\n",
       "  </thead>\n",
       "  <tbody>\n",
       "    <tr>\n",
       "      <th>342</th>\n",
       "      <td>EX41</td>\n",
       "      <td>2022-12-09</td>\n",
       "      <td>2342.0</td>\n",
       "      <td>21.0</td>\n",
       "      <td>102.040909</td>\n",
       "    </tr>\n",
       "    <tr>\n",
       "      <th>625</th>\n",
       "      <td>EX42</td>\n",
       "      <td>2022-09-18</td>\n",
       "      <td>1128.0</td>\n",
       "      <td>21.0</td>\n",
       "      <td>109.295455</td>\n",
       "    </tr>\n",
       "    <tr>\n",
       "      <th>693</th>\n",
       "      <td>EX42</td>\n",
       "      <td>2022-11-25</td>\n",
       "      <td>2550.0</td>\n",
       "      <td>20.0</td>\n",
       "      <td>80.200000</td>\n",
       "    </tr>\n",
       "    <tr>\n",
       "      <th>1392</th>\n",
       "      <td>EX44</td>\n",
       "      <td>2022-10-25</td>\n",
       "      <td>1262.0</td>\n",
       "      <td>3.0</td>\n",
       "      <td>320.000000</td>\n",
       "    </tr>\n",
       "    <tr>\n",
       "      <th>844</th>\n",
       "      <td>EX43</td>\n",
       "      <td>2022-04-25</td>\n",
       "      <td>1787.0</td>\n",
       "      <td>22.0</td>\n",
       "      <td>80.495726</td>\n",
       "    </tr>\n",
       "  </tbody>\n",
       "</table>\n",
       "</div>"
      ],
      "text/plain": [
       "     code_unit        date  amount    HM  Consumption\n",
       "342       EX41  2022-12-09  2342.0  21.0   102.040909\n",
       "625       EX42  2022-09-18  1128.0  21.0   109.295455\n",
       "693       EX42  2022-11-25  2550.0  20.0    80.200000\n",
       "1392      EX44  2022-10-25  1262.0   3.0   320.000000\n",
       "844       EX43  2022-04-25  1787.0  22.0    80.495726"
      ]
     },
     "execution_count": 20,
     "metadata": {},
     "output_type": "execute_result"
    }
   ],
   "source": [
    "fuel_interim.sample(5)"
   ]
  },
  {
   "cell_type": "code",
   "execution_count": 21,
   "metadata": {},
   "outputs": [
    {
     "data": {
      "text/html": [
       "<div>\n",
       "<style scoped>\n",
       "    .dataframe tbody tr th:only-of-type {\n",
       "        vertical-align: middle;\n",
       "    }\n",
       "\n",
       "    .dataframe tbody tr th {\n",
       "        vertical-align: top;\n",
       "    }\n",
       "\n",
       "    .dataframe thead th {\n",
       "        text-align: right;\n",
       "    }\n",
       "</style>\n",
       "<table border=\"1\" class=\"dataframe\">\n",
       "  <thead>\n",
       "    <tr style=\"text-align: right;\">\n",
       "      <th></th>\n",
       "      <th>date</th>\n",
       "      <th>code_unit</th>\n",
       "      <th>HM</th>\n",
       "      <th>Production OB</th>\n",
       "    </tr>\n",
       "  </thead>\n",
       "  <tbody>\n",
       "    <tr>\n",
       "      <th>574</th>\n",
       "      <td>2022-12-07</td>\n",
       "      <td>EX41</td>\n",
       "      <td>16.0</td>\n",
       "      <td>6172.0</td>\n",
       "    </tr>\n",
       "    <tr>\n",
       "      <th>234</th>\n",
       "      <td>2022-06-09</td>\n",
       "      <td>EX41</td>\n",
       "      <td>17.0</td>\n",
       "      <td>8228.0</td>\n",
       "    </tr>\n",
       "    <tr>\n",
       "      <th>7</th>\n",
       "      <td>2022-01-05</td>\n",
       "      <td>EX43</td>\n",
       "      <td>22.0</td>\n",
       "      <td>12015.0</td>\n",
       "    </tr>\n",
       "    <tr>\n",
       "      <th>120</th>\n",
       "      <td>2022-03-03</td>\n",
       "      <td>EX41</td>\n",
       "      <td>0.0</td>\n",
       "      <td>0.0</td>\n",
       "    </tr>\n",
       "    <tr>\n",
       "      <th>713</th>\n",
       "      <td>2023-02-14</td>\n",
       "      <td>EX43</td>\n",
       "      <td>18.0</td>\n",
       "      <td>7009.0</td>\n",
       "    </tr>\n",
       "  </tbody>\n",
       "</table>\n",
       "</div>"
      ],
      "text/plain": [
       "           date code_unit    HM  Production OB\n",
       "574  2022-12-07      EX41  16.0         6172.0\n",
       "234  2022-06-09      EX41  17.0         8228.0\n",
       "7    2022-01-05      EX43  22.0        12015.0\n",
       "120  2022-03-03      EX41   0.0            0.0\n",
       "713  2023-02-14      EX43  18.0         7009.0"
      ]
     },
     "execution_count": 21,
     "metadata": {},
     "output_type": "execute_result"
    }
   ],
   "source": [
    "production_interim.sample(5)"
   ]
  },
  {
   "cell_type": "code",
   "execution_count": 22,
   "metadata": {},
   "outputs": [],
   "source": [
    "df = pd.merge(fuel_interim, production_final, on=[\"date\", \"code_unit\"],\n",
    "              how='left')"
   ]
  },
  {
   "cell_type": "code",
   "execution_count": 23,
   "metadata": {},
   "outputs": [],
   "source": [
    "df.columns = df.columns.str.upper() "
   ]
  },
  {
   "cell_type": "code",
   "execution_count": 24,
   "metadata": {},
   "outputs": [
    {
     "data": {
      "text/html": [
       "<div>\n",
       "<style scoped>\n",
       "    .dataframe tbody tr th:only-of-type {\n",
       "        vertical-align: middle;\n",
       "    }\n",
       "\n",
       "    .dataframe tbody tr th {\n",
       "        vertical-align: top;\n",
       "    }\n",
       "\n",
       "    .dataframe thead th {\n",
       "        text-align: right;\n",
       "    }\n",
       "</style>\n",
       "<table border=\"1\" class=\"dataframe\">\n",
       "  <thead>\n",
       "    <tr style=\"text-align: right;\">\n",
       "      <th></th>\n",
       "      <th>CODE_UNIT</th>\n",
       "      <th>DATE</th>\n",
       "      <th>AMOUNT</th>\n",
       "      <th>HM_X</th>\n",
       "      <th>CONSUMPTION</th>\n",
       "      <th>HM_Y</th>\n",
       "      <th>PRODUCTION OB</th>\n",
       "    </tr>\n",
       "  </thead>\n",
       "  <tbody>\n",
       "    <tr>\n",
       "      <th>1272</th>\n",
       "      <td>EX44</td>\n",
       "      <td>2022-06-27</td>\n",
       "      <td>1445.0</td>\n",
       "      <td>7.0</td>\n",
       "      <td>142.142857</td>\n",
       "      <td>NaN</td>\n",
       "      <td>989.0</td>\n",
       "    </tr>\n",
       "    <tr>\n",
       "      <th>434</th>\n",
       "      <td>EX42</td>\n",
       "      <td>2022-03-11</td>\n",
       "      <td>2203.0</td>\n",
       "      <td>20.0</td>\n",
       "      <td>103.700000</td>\n",
       "      <td>NaN</td>\n",
       "      <td>9159.0</td>\n",
       "    </tr>\n",
       "    <tr>\n",
       "      <th>1142</th>\n",
       "      <td>EX44</td>\n",
       "      <td>2022-02-17</td>\n",
       "      <td>999.0</td>\n",
       "      <td>26.0</td>\n",
       "      <td>58.337500</td>\n",
       "      <td>NaN</td>\n",
       "      <td>1935.0</td>\n",
       "    </tr>\n",
       "    <tr>\n",
       "      <th>786</th>\n",
       "      <td>EX43</td>\n",
       "      <td>2022-02-26</td>\n",
       "      <td>1467.0</td>\n",
       "      <td>17.0</td>\n",
       "      <td>94.650000</td>\n",
       "      <td>18.0</td>\n",
       "      <td>7566.0</td>\n",
       "    </tr>\n",
       "    <tr>\n",
       "      <th>1121</th>\n",
       "      <td>EX44</td>\n",
       "      <td>2022-01-27</td>\n",
       "      <td>2052.0</td>\n",
       "      <td>20.0</td>\n",
       "      <td>102.484848</td>\n",
       "      <td>NaN</td>\n",
       "      <td>10578.0</td>\n",
       "    </tr>\n",
       "  </tbody>\n",
       "</table>\n",
       "</div>"
      ],
      "text/plain": [
       "     CODE_UNIT        DATE  AMOUNT  HM_X  CONSUMPTION  HM_Y  PRODUCTION OB\n",
       "1272      EX44  2022-06-27  1445.0   7.0   142.142857   NaN          989.0\n",
       "434       EX42  2022-03-11  2203.0  20.0   103.700000   NaN         9159.0\n",
       "1142      EX44  2022-02-17   999.0  26.0    58.337500   NaN         1935.0\n",
       "786       EX43  2022-02-26  1467.0  17.0    94.650000  18.0         7566.0\n",
       "1121      EX44  2022-01-27  2052.0  20.0   102.484848   NaN        10578.0"
      ]
     },
     "execution_count": 24,
     "metadata": {},
     "output_type": "execute_result"
    }
   ],
   "source": [
    "df.sample(5)"
   ]
  },
  {
   "cell_type": "code",
   "execution_count": 25,
   "metadata": {},
   "outputs": [
    {
     "data": {
      "text/html": [
       "<div>\n",
       "<style scoped>\n",
       "    .dataframe tbody tr th:only-of-type {\n",
       "        vertical-align: middle;\n",
       "    }\n",
       "\n",
       "    .dataframe tbody tr th {\n",
       "        vertical-align: top;\n",
       "    }\n",
       "\n",
       "    .dataframe thead th {\n",
       "        text-align: right;\n",
       "    }\n",
       "</style>\n",
       "<table border=\"1\" class=\"dataframe\">\n",
       "  <thead>\n",
       "    <tr style=\"text-align: right;\">\n",
       "      <th></th>\n",
       "      <th>CODE_UNIT</th>\n",
       "      <th>DATE</th>\n",
       "      <th>AMOUNT</th>\n",
       "      <th>HM_CALC</th>\n",
       "      <th>CONSUMPTION</th>\n",
       "      <th>HM_HRS</th>\n",
       "      <th>PRODUCTION_OB</th>\n",
       "    </tr>\n",
       "  </thead>\n",
       "  <tbody>\n",
       "    <tr>\n",
       "      <th>512</th>\n",
       "      <td>EX42</td>\n",
       "      <td>2022-05-28</td>\n",
       "      <td>2140.0</td>\n",
       "      <td>20.0</td>\n",
       "      <td>110.737374</td>\n",
       "      <td>NaN</td>\n",
       "      <td>8686.0</td>\n",
       "    </tr>\n",
       "    <tr>\n",
       "      <th>529</th>\n",
       "      <td>EX42</td>\n",
       "      <td>2022-06-14</td>\n",
       "      <td>2470.0</td>\n",
       "      <td>21.0</td>\n",
       "      <td>122.363636</td>\n",
       "      <td>NaN</td>\n",
       "      <td>11739.0</td>\n",
       "    </tr>\n",
       "    <tr>\n",
       "      <th>10</th>\n",
       "      <td>EX41</td>\n",
       "      <td>2022-01-11</td>\n",
       "      <td>1645.0</td>\n",
       "      <td>7.0</td>\n",
       "      <td>150.857143</td>\n",
       "      <td>21.0</td>\n",
       "      <td>11520.0</td>\n",
       "    </tr>\n",
       "    <tr>\n",
       "      <th>662</th>\n",
       "      <td>EX42</td>\n",
       "      <td>2022-10-25</td>\n",
       "      <td>0.0</td>\n",
       "      <td>0.0</td>\n",
       "      <td>NaN</td>\n",
       "      <td>NaN</td>\n",
       "      <td>6493.0</td>\n",
       "    </tr>\n",
       "    <tr>\n",
       "      <th>678</th>\n",
       "      <td>EX42</td>\n",
       "      <td>2022-11-10</td>\n",
       "      <td>1744.0</td>\n",
       "      <td>14.0</td>\n",
       "      <td>152.625000</td>\n",
       "      <td>NaN</td>\n",
       "      <td>7009.0</td>\n",
       "    </tr>\n",
       "  </tbody>\n",
       "</table>\n",
       "</div>"
      ],
      "text/plain": [
       "    CODE_UNIT        DATE  AMOUNT  HM_CALC  CONSUMPTION  HM_HRS  PRODUCTION_OB\n",
       "512      EX42  2022-05-28  2140.0     20.0   110.737374     NaN         8686.0\n",
       "529      EX42  2022-06-14  2470.0     21.0   122.363636     NaN        11739.0\n",
       "10       EX41  2022-01-11  1645.0      7.0   150.857143    21.0        11520.0\n",
       "662      EX42  2022-10-25     0.0      0.0          NaN     NaN         6493.0\n",
       "678      EX42  2022-11-10  1744.0     14.0   152.625000     NaN         7009.0"
      ]
     },
     "execution_count": 25,
     "metadata": {},
     "output_type": "execute_result"
    }
   ],
   "source": [
    "df.rename(columns={'HM_X': 'HM_CALC',\n",
    "                   'HM_Y': 'HM_HRS',\n",
    "                   'PRODUCTION OB' : \"PRODUCTION_OB\"}, inplace=True)\n",
    "\n",
    "df.sample(5)"
   ]
  },
  {
   "cell_type": "code",
   "execution_count": 26,
   "metadata": {},
   "outputs": [],
   "source": [
    "df['CONSUMPTION_CALC'] = df['AMOUNT']/df['HM_CALC']"
   ]
  },
  {
   "cell_type": "code",
   "execution_count": 27,
   "metadata": {},
   "outputs": [],
   "source": [
    "df['CONSUMPTION_HRS'] = df['AMOUNT']/df['HM_HRS']"
   ]
  },
  {
   "cell_type": "code",
   "execution_count": 28,
   "metadata": {},
   "outputs": [
    {
     "data": {
      "text/html": [
       "<div>\n",
       "<style scoped>\n",
       "    .dataframe tbody tr th:only-of-type {\n",
       "        vertical-align: middle;\n",
       "    }\n",
       "\n",
       "    .dataframe tbody tr th {\n",
       "        vertical-align: top;\n",
       "    }\n",
       "\n",
       "    .dataframe thead th {\n",
       "        text-align: right;\n",
       "    }\n",
       "</style>\n",
       "<table border=\"1\" class=\"dataframe\">\n",
       "  <thead>\n",
       "    <tr style=\"text-align: right;\">\n",
       "      <th></th>\n",
       "      <th>CODE_UNIT</th>\n",
       "      <th>DATE</th>\n",
       "      <th>AMOUNT</th>\n",
       "      <th>HM_CALC</th>\n",
       "      <th>CONSUMPTION</th>\n",
       "      <th>HM_HRS</th>\n",
       "      <th>PRODUCTION_OB</th>\n",
       "      <th>CONSUMPTION_CALC</th>\n",
       "      <th>CONSUMPTION_HRS</th>\n",
       "    </tr>\n",
       "  </thead>\n",
       "  <tbody>\n",
       "    <tr>\n",
       "      <th>204</th>\n",
       "      <td>EX41</td>\n",
       "      <td>2022-07-24</td>\n",
       "      <td>2497.0</td>\n",
       "      <td>22.0</td>\n",
       "      <td>109.590909</td>\n",
       "      <td>NaN</td>\n",
       "      <td>NaN</td>\n",
       "      <td>113.500000</td>\n",
       "      <td>NaN</td>\n",
       "    </tr>\n",
       "    <tr>\n",
       "      <th>106</th>\n",
       "      <td>EX41</td>\n",
       "      <td>2022-04-17</td>\n",
       "      <td>0.0</td>\n",
       "      <td>11.0</td>\n",
       "      <td>73.090909</td>\n",
       "      <td>8.0</td>\n",
       "      <td>4657.0</td>\n",
       "      <td>0.000000</td>\n",
       "      <td>0.0</td>\n",
       "    </tr>\n",
       "    <tr>\n",
       "      <th>489</th>\n",
       "      <td>EX42</td>\n",
       "      <td>2022-05-05</td>\n",
       "      <td>2253.0</td>\n",
       "      <td>19.0</td>\n",
       "      <td>103.250000</td>\n",
       "      <td>NaN</td>\n",
       "      <td>9159.0</td>\n",
       "      <td>118.578947</td>\n",
       "      <td>NaN</td>\n",
       "    </tr>\n",
       "    <tr>\n",
       "      <th>120</th>\n",
       "      <td>EX41</td>\n",
       "      <td>2022-05-01</td>\n",
       "      <td>1514.0</td>\n",
       "      <td>15.0</td>\n",
       "      <td>120.829545</td>\n",
       "      <td>NaN</td>\n",
       "      <td>NaN</td>\n",
       "      <td>100.933333</td>\n",
       "      <td>NaN</td>\n",
       "    </tr>\n",
       "    <tr>\n",
       "      <th>60</th>\n",
       "      <td>EX41</td>\n",
       "      <td>2022-03-02</td>\n",
       "      <td>1706.0</td>\n",
       "      <td>16.0</td>\n",
       "      <td>164.881818</td>\n",
       "      <td>0.0</td>\n",
       "      <td>0.0</td>\n",
       "      <td>106.625000</td>\n",
       "      <td>inf</td>\n",
       "    </tr>\n",
       "  </tbody>\n",
       "</table>\n",
       "</div>"
      ],
      "text/plain": [
       "    CODE_UNIT        DATE  AMOUNT  HM_CALC  CONSUMPTION  HM_HRS  \\\n",
       "204      EX41  2022-07-24  2497.0     22.0   109.590909     NaN   \n",
       "106      EX41  2022-04-17     0.0     11.0    73.090909     8.0   \n",
       "489      EX42  2022-05-05  2253.0     19.0   103.250000     NaN   \n",
       "120      EX41  2022-05-01  1514.0     15.0   120.829545     NaN   \n",
       "60       EX41  2022-03-02  1706.0     16.0   164.881818     0.0   \n",
       "\n",
       "     PRODUCTION_OB  CONSUMPTION_CALC  CONSUMPTION_HRS  \n",
       "204            NaN        113.500000              NaN  \n",
       "106         4657.0          0.000000              0.0  \n",
       "489         9159.0        118.578947              NaN  \n",
       "120            NaN        100.933333              NaN  \n",
       "60             0.0        106.625000              inf  "
      ]
     },
     "execution_count": 28,
     "metadata": {},
     "output_type": "execute_result"
    }
   ],
   "source": [
    "df.sample(5)"
   ]
  },
  {
   "attachments": {},
   "cell_type": "markdown",
   "metadata": {},
   "source": [
    "Amount : Konsumsi bahan bakar dalam liter (L)\n",
    "Consumption : Konsumsi bahan bakar/jam (L/jam)"
   ]
  },
  {
   "cell_type": "code",
   "execution_count": 29,
   "metadata": {},
   "outputs": [
    {
     "data": {
      "text/plain": [
       "<AxesSubplot: ylabel='Frequency'>"
      ]
     },
     "execution_count": 29,
     "metadata": {},
     "output_type": "execute_result"
    },
    {
     "data": {
      "image/png": "[encoded data removed]",
      "text/plain": [
       "<Figure size 640x480 with 1 Axes>"
      ]
     },
     "metadata": {},
     "output_type": "display_data"
    }
   ],
   "source": [
    "ritase_interim['Production OB'].plot(kind='hist') # OB hasil hitungan ritase"
   ]
  },
  {
   "cell_type": "code",
   "execution_count": 30,
   "metadata": {},
   "outputs": [
    {
     "data": {
      "text/plain": [
       "<AxesSubplot: ylabel='Frequency'>"
      ]
     },
     "execution_count": 30,
     "metadata": {},
     "output_type": "execute_result"
    },
    {
     "data": {
      "image/png": "[encoded data removed]",
      "text/plain": [
       "<Figure size 640x480 with 1 Axes>"
      ]
     },
     "metadata": {},
     "output_type": "display_data"
    }
   ],
   "source": [
    "production_interim['Production OB'].plot(kind=\"hist\")"
   ]
  },
  {
   "attachments": {},
   "cell_type": "markdown",
   "metadata": {},
   "source": [
    "# Modeling"
   ]
  },
  {
   "cell_type": "code",
   "execution_count": 123,
   "metadata": {},
   "outputs": [],
   "source": [
    "df_modeling = df[['CODE_UNIT', 'AMOUNT', 'HM_CALC', 'PRODUCTION_OB']].copy()"
   ]
  },
  {
   "cell_type": "code",
   "execution_count": 124,
   "metadata": {},
   "outputs": [],
   "source": [
    "df_modeling.dropna(inplace=True)"
   ]
  },
  {
   "cell_type": "code",
   "execution_count": 125,
   "metadata": {},
   "outputs": [],
   "source": [
    "df_modeling = df_modeling[df_modeling['CODE_UNIT'].isin(['EX42', 'EX44'])].copy()"
   ]
  },
  {
   "cell_type": "code",
   "execution_count": 126,
   "metadata": {},
   "outputs": [],
   "source": [
    "df_modeling = df_modeling[(df_modeling['AMOUNT'] > 0) & (df_modeling['PRODUCTION_OB'] > 0)]"
   ]
  },
  {
   "cell_type": "code",
   "execution_count": 127,
   "metadata": {},
   "outputs": [
    {
     "data": {
      "text/plain": [
       "(656, 4)"
      ]
     },
     "execution_count": 127,
     "metadata": {},
     "output_type": "execute_result"
    }
   ],
   "source": [
    "df_modeling.shape"
   ]
  },
  {
   "cell_type": "code",
   "execution_count": 128,
   "metadata": {},
   "outputs": [],
   "source": [
    "df_modeling = df_modeling[(df_modeling['HM_CALC'] > 0) & (df_modeling['HM_CALC'] <= 24)]"
   ]
  },
  {
   "cell_type": "code",
   "execution_count": 129,
   "metadata": {},
   "outputs": [
    {
     "name": "stdout",
     "output_type": "stream",
     "text": [
      "<class 'pandas.core.frame.DataFrame'>\n",
      "Int64Index: 617 entries, 366 to 1459\n",
      "Data columns (total 4 columns):\n",
      " #   Column         Non-Null Count  Dtype  \n",
      "---  ------         --------------  -----  \n",
      " 0   CODE_UNIT      617 non-null    object \n",
      " 1   AMOUNT         617 non-null    float64\n",
      " 2   HM_CALC        617 non-null    float64\n",
      " 3   PRODUCTION_OB  617 non-null    float64\n",
      "dtypes: float64(3), object(1)\n",
      "memory usage: 24.1+ KB\n"
     ]
    }
   ],
   "source": [
    "df_modeling.info()"
   ]
  },
  {
   "cell_type": "code",
   "execution_count": 130,
   "metadata": {},
   "outputs": [],
   "source": [
    "df_modeling.replace([np.inf, -np.inf], np.nan, inplace=True)"
   ]
  },
  {
   "cell_type": "code",
   "execution_count": 131,
   "metadata": {},
   "outputs": [],
   "source": [
    "df_modeling.dropna(inplace=True)"
   ]
  },
  {
   "cell_type": "code",
   "execution_count": 132,
   "metadata": {},
   "outputs": [
    {
     "data": {
      "text/plain": [
       "EX42    315\n",
       "EX44    302\n",
       "Name: CODE_UNIT, dtype: int64"
      ]
     },
     "execution_count": 132,
     "metadata": {},
     "output_type": "execute_result"
    }
   ],
   "source": [
    "df_modeling['CODE_UNIT'].value_counts()"
   ]
  },
  {
   "cell_type": "code",
   "execution_count": 133,
   "metadata": {},
   "outputs": [
    {
     "name": "stderr",
     "output_type": "stream",
     "text": [
      "c:\\Users\\asus\\.miniconda3\\envs\\ds_env\\lib\\site-packages\\pandas\\core\\arraylike.py:402: RuntimeWarning: overflow encountered in exp\n",
      "  result = getattr(ufunc, method)(*inputs, **kwargs)\n"
     ]
    }
   ],
   "source": [
    "df_modeling['ln_hm_calc'] = np.exp(df_modeling['HM_CALC'])\n",
    "df_modeling['ln_amoount'] = np.exp(df_modeling['AMOUNT'])"
   ]
  },
  {
   "cell_type": "code",
   "execution_count": 134,
   "metadata": {},
   "outputs": [
    {
     "data": {
      "text/html": [
       "<div>\n",
       "<style scoped>\n",
       "    .dataframe tbody tr th:only-of-type {\n",
       "        vertical-align: middle;\n",
       "    }\n",
       "\n",
       "    .dataframe tbody tr th {\n",
       "        vertical-align: top;\n",
       "    }\n",
       "\n",
       "    .dataframe thead th {\n",
       "        text-align: right;\n",
       "    }\n",
       "</style>\n",
       "<table border=\"1\" class=\"dataframe\">\n",
       "  <thead>\n",
       "    <tr style=\"text-align: right;\">\n",
       "      <th></th>\n",
       "      <th>AMOUNT</th>\n",
       "      <th>HM_CALC</th>\n",
       "      <th>PRODUCTION_OB</th>\n",
       "      <th>ln_hm_calc</th>\n",
       "      <th>ln_amoount</th>\n",
       "    </tr>\n",
       "  </thead>\n",
       "  <tbody>\n",
       "    <tr>\n",
       "      <th>AMOUNT</th>\n",
       "      <td>1.000000</td>\n",
       "      <td>0.514411</td>\n",
       "      <td>0.398769</td>\n",
       "      <td>0.135085</td>\n",
       "      <td>0.0</td>\n",
       "    </tr>\n",
       "    <tr>\n",
       "      <th>HM_CALC</th>\n",
       "      <td>0.514411</td>\n",
       "      <td>1.000000</td>\n",
       "      <td>0.440748</td>\n",
       "      <td>0.422521</td>\n",
       "      <td>0.0</td>\n",
       "    </tr>\n",
       "    <tr>\n",
       "      <th>PRODUCTION_OB</th>\n",
       "      <td>0.398769</td>\n",
       "      <td>0.440748</td>\n",
       "      <td>1.000000</td>\n",
       "      <td>0.127528</td>\n",
       "      <td>0.0</td>\n",
       "    </tr>\n",
       "    <tr>\n",
       "      <th>ln_hm_calc</th>\n",
       "      <td>0.135085</td>\n",
       "      <td>0.422521</td>\n",
       "      <td>0.127528</td>\n",
       "      <td>1.000000</td>\n",
       "      <td>NaN</td>\n",
       "    </tr>\n",
       "    <tr>\n",
       "      <th>ln_amoount</th>\n",
       "      <td>0.000000</td>\n",
       "      <td>0.000000</td>\n",
       "      <td>0.000000</td>\n",
       "      <td>NaN</td>\n",
       "      <td>NaN</td>\n",
       "    </tr>\n",
       "  </tbody>\n",
       "</table>\n",
       "</div>"
      ],
      "text/plain": [
       "                 AMOUNT   HM_CALC  PRODUCTION_OB  ln_hm_calc  ln_amoount\n",
       "AMOUNT         1.000000  0.514411       0.398769    0.135085         0.0\n",
       "HM_CALC        0.514411  1.000000       0.440748    0.422521         0.0\n",
       "PRODUCTION_OB  0.398769  0.440748       1.000000    0.127528         0.0\n",
       "ln_hm_calc     0.135085  0.422521       0.127528    1.000000         NaN\n",
       "ln_amoount     0.000000  0.000000       0.000000         NaN         NaN"
      ]
     },
     "execution_count": 134,
     "metadata": {},
     "output_type": "execute_result"
    }
   ],
   "source": [
    "df_modeling.corr(numeric_only=True)"
   ]
  },
  {
   "cell_type": "code",
   "execution_count": 97,
   "metadata": {},
   "outputs": [
    {
     "data": {
      "text/plain": [
       "<AxesSubplot: xlabel='AMOUNT', ylabel='HM_CALC'>"
      ]
     },
     "execution_count": 97,
     "metadata": {},
     "output_type": "execute_result"
    },
    {
     "data": {
      "image/png": "[encoded data removed]",
      "text/plain": [
       "<Figure size 640x480 with 1 Axes>"
      ]
     },
     "metadata": {},
     "output_type": "display_data"
    }
   ],
   "source": [
    "sns.scatterplot(df_modeling, x = 'AMOUNT', y='HM_CALC')"
   ]
  },
  {
   "cell_type": "code",
   "execution_count": 98,
   "metadata": {},
   "outputs": [],
   "source": [
    "X = df_modeling.drop('HM_CALC', axis=1)\n",
    "y = df_modeling['HM_CALC']"
   ]
  },
  {
   "cell_type": "code",
   "execution_count": 99,
   "metadata": {},
   "outputs": [],
   "source": [
    "X = pd.get_dummies(X)"
   ]
  },
  {
   "cell_type": "markdown",
   "metadata": {},
   "source": [
    "## Split Data"
   ]
  },
  {
   "cell_type": "code",
   "execution_count": 100,
   "metadata": {},
   "outputs": [],
   "source": [
    "X_train, X_test, y_train, y_test = train_test_split(X, y, test_size=0.2, random_state=42)"
   ]
  },
  {
   "cell_type": "code",
   "execution_count": 101,
   "metadata": {},
   "outputs": [
    {
     "data": {
      "text/html": [
       "<div>\n",
       "<style scoped>\n",
       "    .dataframe tbody tr th:only-of-type {\n",
       "        vertical-align: middle;\n",
       "    }\n",
       "\n",
       "    .dataframe tbody tr th {\n",
       "        vertical-align: top;\n",
       "    }\n",
       "\n",
       "    .dataframe thead th {\n",
       "        text-align: right;\n",
       "    }\n",
       "</style>\n",
       "<table border=\"1\" class=\"dataframe\">\n",
       "  <thead>\n",
       "    <tr style=\"text-align: right;\">\n",
       "      <th></th>\n",
       "      <th>AMOUNT</th>\n",
       "      <th>PRODUCTION_OB</th>\n",
       "      <th>CODE_UNIT_EX42</th>\n",
       "      <th>CODE_UNIT_EX44</th>\n",
       "    </tr>\n",
       "  </thead>\n",
       "  <tbody>\n",
       "    <tr>\n",
       "      <th>1325</th>\n",
       "      <td>1894.0</td>\n",
       "      <td>2064.0</td>\n",
       "      <td>0</td>\n",
       "      <td>1</td>\n",
       "    </tr>\n",
       "    <tr>\n",
       "      <th>1147</th>\n",
       "      <td>949.0</td>\n",
       "      <td>4257.0</td>\n",
       "      <td>0</td>\n",
       "      <td>1</td>\n",
       "    </tr>\n",
       "    <tr>\n",
       "      <th>560</th>\n",
       "      <td>2466.0</td>\n",
       "      <td>11653.0</td>\n",
       "      <td>1</td>\n",
       "      <td>0</td>\n",
       "    </tr>\n",
       "    <tr>\n",
       "      <th>727</th>\n",
       "      <td>1770.0</td>\n",
       "      <td>8170.0</td>\n",
       "      <td>1</td>\n",
       "      <td>0</td>\n",
       "    </tr>\n",
       "    <tr>\n",
       "      <th>585</th>\n",
       "      <td>2491.0</td>\n",
       "      <td>9718.0</td>\n",
       "      <td>1</td>\n",
       "      <td>0</td>\n",
       "    </tr>\n",
       "    <tr>\n",
       "      <th>...</th>\n",
       "      <td>...</td>\n",
       "      <td>...</td>\n",
       "      <td>...</td>\n",
       "      <td>...</td>\n",
       "    </tr>\n",
       "    <tr>\n",
       "      <th>443</th>\n",
       "      <td>1769.0</td>\n",
       "      <td>4816.0</td>\n",
       "      <td>1</td>\n",
       "      <td>0</td>\n",
       "    </tr>\n",
       "    <tr>\n",
       "      <th>478</th>\n",
       "      <td>2135.0</td>\n",
       "      <td>8944.0</td>\n",
       "      <td>1</td>\n",
       "      <td>0</td>\n",
       "    </tr>\n",
       "    <tr>\n",
       "      <th>677</th>\n",
       "      <td>2360.0</td>\n",
       "      <td>11438.0</td>\n",
       "      <td>1</td>\n",
       "      <td>0</td>\n",
       "    </tr>\n",
       "    <tr>\n",
       "      <th>1222</th>\n",
       "      <td>1153.0</td>\n",
       "      <td>4644.0</td>\n",
       "      <td>0</td>\n",
       "      <td>1</td>\n",
       "    </tr>\n",
       "    <tr>\n",
       "      <th>474</th>\n",
       "      <td>2188.0</td>\n",
       "      <td>9632.0</td>\n",
       "      <td>1</td>\n",
       "      <td>0</td>\n",
       "    </tr>\n",
       "  </tbody>\n",
       "</table>\n",
       "<p>493 rows × 4 columns</p>\n",
       "</div>"
      ],
      "text/plain": [
       "      AMOUNT  PRODUCTION_OB  CODE_UNIT_EX42  CODE_UNIT_EX44\n",
       "1325  1894.0         2064.0               0               1\n",
       "1147   949.0         4257.0               0               1\n",
       "560   2466.0        11653.0               1               0\n",
       "727   1770.0         8170.0               1               0\n",
       "585   2491.0         9718.0               1               0\n",
       "...      ...            ...             ...             ...\n",
       "443   1769.0         4816.0               1               0\n",
       "478   2135.0         8944.0               1               0\n",
       "677   2360.0        11438.0               1               0\n",
       "1222  1153.0         4644.0               0               1\n",
       "474   2188.0         9632.0               1               0\n",
       "\n",
       "[493 rows x 4 columns]"
      ]
     },
     "execution_count": 101,
     "metadata": {},
     "output_type": "execute_result"
    }
   ],
   "source": [
    "X_train"
   ]
  },
  {
   "attachments": {},
   "cell_type": "markdown",
   "metadata": {},
   "source": [
    "## Preprocessing"
   ]
  },
  {
   "cell_type": "code",
   "execution_count": 102,
   "metadata": {},
   "outputs": [],
   "source": [
    "scaler = StandardScaler()"
   ]
  },
  {
   "cell_type": "code",
   "execution_count": 103,
   "metadata": {},
   "outputs": [
    {
     "data": {
      "text/html": [
       "<style>#sk-container-id-5 {color: black;background-color: white;}#sk-container-id-5 pre{padding: 0;}#sk-container-id-5 div.sk-toggleable {background-color: white;}#sk-container-id-5 label.sk-toggleable__label {cursor: pointer;display: block;width: 100%;margin-bottom: 0;padding: 0.3em;box-sizing: border-box;text-align: center;}#sk-container-id-5 label.sk-toggleable__label-arrow:before {content: \"▸\";float: left;margin-right: 0.25em;color: #696969;}#sk-container-id-5 label.sk-toggleable__label-arrow:hover:before {color: black;}#sk-container-id-5 div.sk-estimator:hover label.sk-toggleable__label-arrow:before {color: black;}#sk-container-id-5 div.sk-toggleable__content {max-height: 0;max-width: 0;overflow: hidden;text-align: left;background-color: #f0f8ff;}#sk-container-id-5 div.sk-toggleable__content pre {margin: 0.2em;color: black;border-radius: 0.25em;background-color: #f0f8ff;}#sk-container-id-5 input.sk-toggleable__control:checked~div.sk-toggleable__content {max-height: 200px;max-width: 100%;overflow: auto;}#sk-container-id-5 input.sk-toggleable__control:checked~label.sk-toggleable__label-arrow:before {content: \"▾\";}#sk-container-id-5 div.sk-estimator input.sk-toggleable__control:checked~label.sk-toggleable__label {background-color: #d4ebff;}#sk-container-id-5 div.sk-label input.sk-toggleable__control:checked~label.sk-toggleable__label {background-color: #d4ebff;}#sk-container-id-5 input.sk-hidden--visually {border: 0;clip: rect(1px 1px 1px 1px);clip: rect(1px, 1px, 1px, 1px);height: 1px;margin: -1px;overflow: hidden;padding: 0;position: absolute;width: 1px;}#sk-container-id-5 div.sk-estimator {font-family: monospace;background-color: #f0f8ff;border: 1px dotted black;border-radius: 0.25em;box-sizing: border-box;margin-bottom: 0.5em;}#sk-container-id-5 div.sk-estimator:hover {background-color: #d4ebff;}#sk-container-id-5 div.sk-parallel-item::after {content: \"\";width: 100%;border-bottom: 1px solid gray;flex-grow: 1;}#sk-container-id-5 div.sk-label:hover label.sk-toggleable__label {background-color: #d4ebff;}#sk-container-id-5 div.sk-serial::before {content: \"\";position: absolute;border-left: 1px solid gray;box-sizing: border-box;top: 0;bottom: 0;left: 50%;z-index: 0;}#sk-container-id-5 div.sk-serial {display: flex;flex-direction: column;align-items: center;background-color: white;padding-right: 0.2em;padding-left: 0.2em;position: relative;}#sk-container-id-5 div.sk-item {position: relative;z-index: 1;}#sk-container-id-5 div.sk-parallel {display: flex;align-items: stretch;justify-content: center;background-color: white;position: relative;}#sk-container-id-5 div.sk-item::before, #sk-container-id-5 div.sk-parallel-item::before {content: \"\";position: absolute;border-left: 1px solid gray;box-sizing: border-box;top: 0;bottom: 0;left: 50%;z-index: -1;}#sk-container-id-5 div.sk-parallel-item {display: flex;flex-direction: column;z-index: 1;position: relative;background-color: white;}#sk-container-id-5 div.sk-parallel-item:first-child::after {align-self: flex-end;width: 50%;}#sk-container-id-5 div.sk-parallel-item:last-child::after {align-self: flex-start;width: 50%;}#sk-container-id-5 div.sk-parallel-item:only-child::after {width: 0;}#sk-container-id-5 div.sk-dashed-wrapped {border: 1px dashed gray;margin: 0 0.4em 0.5em 0.4em;box-sizing: border-box;padding-bottom: 0.4em;background-color: white;}#sk-container-id-5 div.sk-label label {font-family: monospace;font-weight: bold;display: inline-block;line-height: 1.2em;}#sk-container-id-5 div.sk-label-container {text-align: center;}#sk-container-id-5 div.sk-container {/* jupyter's `normalize.less` sets `[hidden] { display: none; }` but bootstrap.min.css set `[hidden] { display: none !important; }` so we also need the `!important` here to be able to override the default hidden behavior on the sphinx rendered scikit-learn.org. See: https://github.com/scikit-learn/scikit-learn/issues/21755 */display: inline-block !important;position: relative;}#sk-container-id-5 div.sk-text-repr-fallback {display: none;}</style><div id=\"sk-container-id-5\" class=\"sk-top-container\"><div class=\"sk-text-repr-fallback\"><pre>StandardScaler()</pre><b>In a Jupyter environment, please rerun this cell to show the HTML representation or trust the notebook. <br />On GitHub, the HTML representation is unable to render, please try loading this page with nbviewer.org.</b></div><div class=\"sk-container\" hidden><div class=\"sk-item\"><div class=\"sk-estimator sk-toggleable\"><input class=\"sk-toggleable__control sk-hidden--visually\" id=\"sk-estimator-id-5\" type=\"checkbox\" checked><label for=\"sk-estimator-id-5\" class=\"sk-toggleable__label sk-toggleable__label-arrow\">StandardScaler</label><div class=\"sk-toggleable__content\"><pre>StandardScaler()</pre></div></div></div></div></div>"
      ],
      "text/plain": [
       "StandardScaler()"
      ]
     },
     "execution_count": 103,
     "metadata": {},
     "output_type": "execute_result"
    }
   ],
   "source": [
    "numeric_feature = ['AMOUNT', 'PRODUCTION_OB']\n",
    "categoric_feature = ['CODE_UNIT_EX42', 'CODE_UNIT_EX44']\n",
    "\n",
    "scaler.fit(X_train[numeric_feature])"
   ]
  },
  {
   "cell_type": "code",
   "execution_count": 104,
   "metadata": {},
   "outputs": [],
   "source": [
    "X_train_scaled = scaler.transform(X_train[numeric_feature])\n",
    "X_test_scaled = scaler.transform(X_test[numeric_feature])"
   ]
  },
  {
   "cell_type": "code",
   "execution_count": 105,
   "metadata": {},
   "outputs": [],
   "source": [
    "X_train_final = pd.concat([X_train[categoric_feature],\n",
    "                           pd.DataFrame(X_train_scaled, index=X_train.index, columns=numeric_feature)], axis=1)\n",
    "\n",
    "X_test_final = pd.concat([X_test[categoric_feature],\n",
    "                           pd.DataFrame(X_test_scaled, index=X_test.index, columns=numeric_feature)], axis=1)"
   ]
  },
  {
   "cell_type": "code",
   "execution_count": 106,
   "metadata": {},
   "outputs": [],
   "source": [
    "model = LinearRegression(n_jobs=-1)"
   ]
  },
  {
   "cell_type": "code",
   "execution_count": 107,
   "metadata": {},
   "outputs": [
    {
     "data": {
      "text/html": [
       "<div>\n",
       "<style scoped>\n",
       "    .dataframe tbody tr th:only-of-type {\n",
       "        vertical-align: middle;\n",
       "    }\n",
       "\n",
       "    .dataframe tbody tr th {\n",
       "        vertical-align: top;\n",
       "    }\n",
       "\n",
       "    .dataframe thead th {\n",
       "        text-align: right;\n",
       "    }\n",
       "</style>\n",
       "<table border=\"1\" class=\"dataframe\">\n",
       "  <thead>\n",
       "    <tr style=\"text-align: right;\">\n",
       "      <th></th>\n",
       "      <th>CODE_UNIT_EX42</th>\n",
       "      <th>CODE_UNIT_EX44</th>\n",
       "      <th>AMOUNT</th>\n",
       "      <th>PRODUCTION_OB</th>\n",
       "    </tr>\n",
       "  </thead>\n",
       "  <tbody>\n",
       "    <tr>\n",
       "      <th>1325</th>\n",
       "      <td>0</td>\n",
       "      <td>1</td>\n",
       "      <td>0.182339</td>\n",
       "      <td>-2.355797</td>\n",
       "    </tr>\n",
       "    <tr>\n",
       "      <th>1147</th>\n",
       "      <td>0</td>\n",
       "      <td>1</td>\n",
       "      <td>-1.760241</td>\n",
       "      <td>-1.486327</td>\n",
       "    </tr>\n",
       "    <tr>\n",
       "      <th>560</th>\n",
       "      <td>1</td>\n",
       "      <td>0</td>\n",
       "      <td>1.358166</td>\n",
       "      <td>1.446005</td>\n",
       "    </tr>\n",
       "    <tr>\n",
       "      <th>727</th>\n",
       "      <td>1</td>\n",
       "      <td>0</td>\n",
       "      <td>-0.072560</td>\n",
       "      <td>0.065081</td>\n",
       "    </tr>\n",
       "    <tr>\n",
       "      <th>585</th>\n",
       "      <td>1</td>\n",
       "      <td>0</td>\n",
       "      <td>1.409557</td>\n",
       "      <td>0.678825</td>\n",
       "    </tr>\n",
       "    <tr>\n",
       "      <th>...</th>\n",
       "      <td>...</td>\n",
       "      <td>...</td>\n",
       "      <td>...</td>\n",
       "      <td>...</td>\n",
       "    </tr>\n",
       "    <tr>\n",
       "      <th>443</th>\n",
       "      <td>1</td>\n",
       "      <td>0</td>\n",
       "      <td>-0.074616</td>\n",
       "      <td>-1.264697</td>\n",
       "    </tr>\n",
       "    <tr>\n",
       "      <th>478</th>\n",
       "      <td>1</td>\n",
       "      <td>0</td>\n",
       "      <td>0.677749</td>\n",
       "      <td>0.371953</td>\n",
       "    </tr>\n",
       "    <tr>\n",
       "      <th>677</th>\n",
       "      <td>1</td>\n",
       "      <td>0</td>\n",
       "      <td>1.140268</td>\n",
       "      <td>1.360763</td>\n",
       "    </tr>\n",
       "    <tr>\n",
       "      <th>1222</th>\n",
       "      <td>0</td>\n",
       "      <td>1</td>\n",
       "      <td>-1.340891</td>\n",
       "      <td>-1.332891</td>\n",
       "    </tr>\n",
       "    <tr>\n",
       "      <th>474</th>\n",
       "      <td>1</td>\n",
       "      <td>0</td>\n",
       "      <td>0.786697</td>\n",
       "      <td>0.644729</td>\n",
       "    </tr>\n",
       "  </tbody>\n",
       "</table>\n",
       "<p>493 rows × 4 columns</p>\n",
       "</div>"
      ],
      "text/plain": [
       "      CODE_UNIT_EX42  CODE_UNIT_EX44    AMOUNT  PRODUCTION_OB\n",
       "1325               0               1  0.182339      -2.355797\n",
       "1147               0               1 -1.760241      -1.486327\n",
       "560                1               0  1.358166       1.446005\n",
       "727                1               0 -0.072560       0.065081\n",
       "585                1               0  1.409557       0.678825\n",
       "...              ...             ...       ...            ...\n",
       "443                1               0 -0.074616      -1.264697\n",
       "478                1               0  0.677749       0.371953\n",
       "677                1               0  1.140268       1.360763\n",
       "1222               0               1 -1.340891      -1.332891\n",
       "474                1               0  0.786697       0.644729\n",
       "\n",
       "[493 rows x 4 columns]"
      ]
     },
     "execution_count": 107,
     "metadata": {},
     "output_type": "execute_result"
    }
   ],
   "source": [
    "X_train_final"
   ]
  },
  {
   "cell_type": "code",
   "execution_count": 94,
   "metadata": {},
   "outputs": [
    {
     "data": {
      "text/plain": [
       "1325    1894.0\n",
       "1147     949.0\n",
       "560     2466.0\n",
       "727     1770.0\n",
       "585     2491.0\n",
       "         ...  \n",
       "443     1769.0\n",
       "478     2135.0\n",
       "677     2360.0\n",
       "1222    1153.0\n",
       "474     2188.0\n",
       "Name: AMOUNT, Length: 493, dtype: float64"
      ]
     },
     "execution_count": 94,
     "metadata": {},
     "output_type": "execute_result"
    }
   ],
   "source": [
    "y_train"
   ]
  },
  {
   "cell_type": "code",
   "execution_count": 108,
   "metadata": {},
   "outputs": [
    {
     "name": "stdout",
     "output_type": "stream",
     "text": [
      "                            OLS Regression Results                            \n",
      "==============================================================================\n",
      "Dep. Variable:                HM_CALC   R-squared:                       0.378\n",
      "Model:                            OLS   Adj. R-squared:                  0.374\n",
      "Method:                 Least Squares   F-statistic:                     99.15\n",
      "Date:                Sun, 12 Feb 2023   Prob (F-statistic):           3.83e-50\n",
      "Time:                        15:21:44   Log-Likelihood:                -1320.1\n",
      "No. Observations:                 493   AIC:                             2648.\n",
      "Df Residuals:                     489   BIC:                             2665.\n",
      "Df Model:                           3                                         \n",
      "Covariance Type:            nonrobust                                         \n",
      "==================================================================================\n",
      "                     coef    std err          t      P>|t|      [0.025      0.975]\n",
      "----------------------------------------------------------------------------------\n",
      "CODE_UNIT_EX42    16.3006      0.227     71.727      0.000      15.854      16.747\n",
      "CODE_UNIT_EX44    18.4197      0.232     79.532      0.000      17.965      18.875\n",
      "AMOUNT             2.0665      0.177     11.701      0.000       1.719       2.413\n",
      "PRODUCTION_OB      1.2807      0.171      7.483      0.000       0.944       1.617\n",
      "==============================================================================\n",
      "Omnibus:                       74.634   Durbin-Watson:                   2.025\n",
      "Prob(Omnibus):                  0.000   Jarque-Bera (JB):              165.698\n",
      "Skew:                          -0.810   Prob(JB):                     1.05e-36\n",
      "Kurtosis:                       5.333   Cond. No.                         1.81\n",
      "==============================================================================\n",
      "\n",
      "Notes:\n",
      "[1] Standard Errors assume that the covariance matrix of the errors is correctly specified.\n"
     ]
    }
   ],
   "source": [
    "import statsmodels.api as sm\n",
    "mod = sm.OLS(y_train, X_train_final)\n",
    "res = mod.fit()\n",
    "print(res.summary())"
   ]
  },
  {
   "attachments": {},
   "cell_type": "markdown",
   "metadata": {},
   "source": [
    "## Train Model"
   ]
  },
  {
   "cell_type": "code",
   "execution_count": 64,
   "metadata": {},
   "outputs": [
    {
     "data": {
      "text/html": [
       "<style>#sk-container-id-2 {color: black;background-color: white;}#sk-container-id-2 pre{padding: 0;}#sk-container-id-2 div.sk-toggleable {background-color: white;}#sk-container-id-2 label.sk-toggleable__label {cursor: pointer;display: block;width: 100%;margin-bottom: 0;padding: 0.3em;box-sizing: border-box;text-align: center;}#sk-container-id-2 label.sk-toggleable__label-arrow:before {content: \"▸\";float: left;margin-right: 0.25em;color: #696969;}#sk-container-id-2 label.sk-toggleable__label-arrow:hover:before {color: black;}#sk-container-id-2 div.sk-estimator:hover label.sk-toggleable__label-arrow:before {color: black;}#sk-container-id-2 div.sk-toggleable__content {max-height: 0;max-width: 0;overflow: hidden;text-align: left;background-color: #f0f8ff;}#sk-container-id-2 div.sk-toggleable__content pre {margin: 0.2em;color: black;border-radius: 0.25em;background-color: #f0f8ff;}#sk-container-id-2 input.sk-toggleable__control:checked~div.sk-toggleable__content {max-height: 200px;max-width: 100%;overflow: auto;}#sk-container-id-2 input.sk-toggleable__control:checked~label.sk-toggleable__label-arrow:before {content: \"▾\";}#sk-container-id-2 div.sk-estimator input.sk-toggleable__control:checked~label.sk-toggleable__label {background-color: #d4ebff;}#sk-container-id-2 div.sk-label input.sk-toggleable__control:checked~label.sk-toggleable__label {background-color: #d4ebff;}#sk-container-id-2 input.sk-hidden--visually {border: 0;clip: rect(1px 1px 1px 1px);clip: rect(1px, 1px, 1px, 1px);height: 1px;margin: -1px;overflow: hidden;padding: 0;position: absolute;width: 1px;}#sk-container-id-2 div.sk-estimator {font-family: monospace;background-color: #f0f8ff;border: 1px dotted black;border-radius: 0.25em;box-sizing: border-box;margin-bottom: 0.5em;}#sk-container-id-2 div.sk-estimator:hover {background-color: #d4ebff;}#sk-container-id-2 div.sk-parallel-item::after {content: \"\";width: 100%;border-bottom: 1px solid gray;flex-grow: 1;}#sk-container-id-2 div.sk-label:hover label.sk-toggleable__label {background-color: #d4ebff;}#sk-container-id-2 div.sk-serial::before {content: \"\";position: absolute;border-left: 1px solid gray;box-sizing: border-box;top: 0;bottom: 0;left: 50%;z-index: 0;}#sk-container-id-2 div.sk-serial {display: flex;flex-direction: column;align-items: center;background-color: white;padding-right: 0.2em;padding-left: 0.2em;position: relative;}#sk-container-id-2 div.sk-item {position: relative;z-index: 1;}#sk-container-id-2 div.sk-parallel {display: flex;align-items: stretch;justify-content: center;background-color: white;position: relative;}#sk-container-id-2 div.sk-item::before, #sk-container-id-2 div.sk-parallel-item::before {content: \"\";position: absolute;border-left: 1px solid gray;box-sizing: border-box;top: 0;bottom: 0;left: 50%;z-index: -1;}#sk-container-id-2 div.sk-parallel-item {display: flex;flex-direction: column;z-index: 1;position: relative;background-color: white;}#sk-container-id-2 div.sk-parallel-item:first-child::after {align-self: flex-end;width: 50%;}#sk-container-id-2 div.sk-parallel-item:last-child::after {align-self: flex-start;width: 50%;}#sk-container-id-2 div.sk-parallel-item:only-child::after {width: 0;}#sk-container-id-2 div.sk-dashed-wrapped {border: 1px dashed gray;margin: 0 0.4em 0.5em 0.4em;box-sizing: border-box;padding-bottom: 0.4em;background-color: white;}#sk-container-id-2 div.sk-label label {font-family: monospace;font-weight: bold;display: inline-block;line-height: 1.2em;}#sk-container-id-2 div.sk-label-container {text-align: center;}#sk-container-id-2 div.sk-container {/* jupyter's `normalize.less` sets `[hidden] { display: none; }` but bootstrap.min.css set `[hidden] { display: none !important; }` so we also need the `!important` here to be able to override the default hidden behavior on the sphinx rendered scikit-learn.org. See: https://github.com/scikit-learn/scikit-learn/issues/21755 */display: inline-block !important;position: relative;}#sk-container-id-2 div.sk-text-repr-fallback {display: none;}</style><div id=\"sk-container-id-2\" class=\"sk-top-container\"><div class=\"sk-text-repr-fallback\"><pre>LinearRegression(n_jobs=-1)</pre><b>In a Jupyter environment, please rerun this cell to show the HTML representation or trust the notebook. <br />On GitHub, the HTML representation is unable to render, please try loading this page with nbviewer.org.</b></div><div class=\"sk-container\" hidden><div class=\"sk-item\"><div class=\"sk-estimator sk-toggleable\"><input class=\"sk-toggleable__control sk-hidden--visually\" id=\"sk-estimator-id-2\" type=\"checkbox\" checked><label for=\"sk-estimator-id-2\" class=\"sk-toggleable__label sk-toggleable__label-arrow\">LinearRegression</label><div class=\"sk-toggleable__content\"><pre>LinearRegression(n_jobs=-1)</pre></div></div></div></div></div>"
      ],
      "text/plain": [
       "LinearRegression(n_jobs=-1)"
      ]
     },
     "execution_count": 64,
     "metadata": {},
     "output_type": "execute_result"
    }
   ],
   "source": [
    "model.fit(X_train_final,y_train)"
   ]
  },
  {
   "cell_type": "code",
   "execution_count": 65,
   "metadata": {},
   "outputs": [],
   "source": [
    "y_train_predict = model.predict(X_train_final)\n",
    "y_test_predict = model.predict(X_test_final)"
   ]
  },
  {
   "cell_type": "code",
   "execution_count": 66,
   "metadata": {},
   "outputs": [
    {
     "data": {
      "text/plain": [
       "array([ 61.08442405, -61.08442405,  30.29594551])"
      ]
     },
     "execution_count": 66,
     "metadata": {},
     "output_type": "execute_result"
    }
   ],
   "source": [
    "model.coef_"
   ]
  },
  {
   "cell_type": "code",
   "execution_count": 67,
   "metadata": {},
   "outputs": [
    {
     "data": {
      "text/plain": [
       "1621.5680064304113"
      ]
     },
     "execution_count": 67,
     "metadata": {},
     "output_type": "execute_result"
    }
   ],
   "source": [
    "model.intercept_"
   ]
  },
  {
   "attachments": {},
   "cell_type": "markdown",
   "metadata": {},
   "source": [
    "## Evaluation"
   ]
  },
  {
   "cell_type": "code",
   "execution_count": 68,
   "metadata": {},
   "outputs": [],
   "source": [
    "from sklearn.metrics import mean_absolute_error\n",
    "from sklearn.metrics import mean_squared_error\n",
    "from sklearn.metrics import r2_score"
   ]
  },
  {
   "cell_type": "code",
   "execution_count": null,
   "metadata": {},
   "outputs": [],
   "source": [
    "from sklearn.metrics import f"
   ]
  },
  {
   "cell_type": "code",
   "execution_count": 69,
   "metadata": {},
   "outputs": [
    {
     "name": "stdout",
     "output_type": "stream",
     "text": [
      "Linear Regression\n",
      "Train RMSE: 552.3079514588804\n",
      "Test RMSE: 557.1656311135862\n",
      "Train MAE: 437.8311382095395\n",
      "Test MAE: 448.55624160057744\n",
      "Train R2 0.014390213841331323\n",
      "Test R2 -0.014074599064602067\n"
     ]
    }
   ],
   "source": [
    "train_rmse = mean_squared_error(y_train, y_train_predict, squared=False)\n",
    "test_rmse = mean_squared_error(y_test, y_test_predict, squared=False)\n",
    "train_mae = mean_absolute_error(y_train, y_train_predict)\n",
    "test_mae = mean_absolute_error(y_test, y_test_predict)\n",
    "train_r2 = r2_score(y_train, y_train_predict)\n",
    "test_r2 = r2_score(y_test, y_test_predict)\n",
    "\n",
    "print(\"Linear Regression\")\n",
    "print(\"Train RMSE:\", train_rmse)\n",
    "print(\"Test RMSE:\", test_rmse)\n",
    "print(\"Train MAE:\", train_mae)\n",
    "print(\"Test MAE:\", test_mae)\n",
    "print(\"Train R2\", train_r2)\n",
    "print(\"Test R2\", test_r2)"
   ]
  },
  {
   "cell_type": "markdown",
   "metadata": {},
   "source": [
    "# Export Dataset"
   ]
  },
  {
   "cell_type": "code",
   "execution_count": 55,
   "metadata": {},
   "outputs": [],
   "source": [
    "df.to_csv(\"../data/processed/datamart_final.csv\", index=False)"
   ]
  }
 ],
 "metadata": {
  "kernelspec": {
   "display_name": "ds_env",
   "language": "python",
   "name": "python3"
  },
  "language_info": {
   "codemirror_mode": {
    "name": "ipython",
    "version": 3
   },
   "file_extension": ".py",
   "mimetype": "text/x-python",
   "name": "python",
   "nbconvert_exporter": "python",
   "pygments_lexer": "ipython3",
   "version": "3.10.9"
  },
  "orig_nbformat": 4,
  "vscode": {
   "interpreter": {
    "hash": "5879385c91744f75d306cfe78a4616a5dfd2e8f998e3c2491611c606660945a7"
   }
  }
 },
 "nbformat": 4,
 "nbformat_minor": 2
}
